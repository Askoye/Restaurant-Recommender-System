{
  "nbformat": 4,
  "nbformat_minor": 0,
  "metadata": {
    "colab": {
      "name": "Akeed 9: Neural Networks (MLP Classifier)",
      "provenance": [],
      "collapsed_sections": [
        "wM1anQMTNIpQ",
        "rbYVGLQKPxl2"
      ],
      "toc_visible": true,
      "include_colab_link": true
    },
    "kernelspec": {
      "name": "python3",
      "display_name": "Python 3"
    }
  },
  "cells": [
    {
      "cell_type": "markdown",
      "metadata": {
        "id": "view-in-github",
        "colab_type": "text"
      },
      "source": [
        "<a href=\"https://colab.research.google.com/github/nchebet09/Restaurant-Recommender-System/blob/master/Akeed_9_Neural_Networks_(MLP_Classifier).ipynb\" target=\"_parent\"><img src=\"https://colab.research.google.com/assets/colab-badge.svg\" alt=\"Open In Colab\"/></a>"
      ]
    },
    {
      "cell_type": "markdown",
      "metadata": {
        "id": "XByXm6AOwxDd"
      },
      "source": [
        "For this section, we will be implementing unsupervised learning to create clusters for the customers."
      ]
    },
    {
      "cell_type": "code",
      "metadata": {
        "id": "yK6czwIPAH9a"
      },
      "source": [
        "# importing libraries\n",
        "import pandas as pd\n",
        "import numpy as np\n",
        "import random\n",
        "from sklearn.model_selection import train_test_split\n",
        "from sklearn.preprocessing import normalize"
      ],
      "execution_count": null,
      "outputs": []
    },
    {
      "cell_type": "code",
      "metadata": {
        "id": "M6WTH7wMAGPD",
        "outputId": "9fc3d5be-c753-4843-df6f-8fb4d9961f5a",
        "colab": {
          "base_uri": "https://localhost:8080/",
          "height": 334
        }
      },
      "source": [
        "train = pd.read_csv('/content/drive/My Drive/Akeed Recommendation Files/clustered_train.csv')\n",
        "train.head()"
      ],
      "execution_count": null,
      "outputs": [
        {
          "output_type": "execute_result",
          "data": {
            "text/html": [
              "<div>\n",
              "<style scoped>\n",
              "    .dataframe tbody tr th:only-of-type {\n",
              "        vertical-align: middle;\n",
              "    }\n",
              "\n",
              "    .dataframe tbody tr th {\n",
              "        vertical-align: top;\n",
              "    }\n",
              "\n",
              "    .dataframe thead th {\n",
              "        text-align: right;\n",
              "    }\n",
              "</style>\n",
              "<table border=\"1\" class=\"dataframe\">\n",
              "  <thead>\n",
              "    <tr style=\"text-align: right;\">\n",
              "      <th></th>\n",
              "      <th>akeed_customer_id</th>\n",
              "      <th>gender</th>\n",
              "      <th>status_x</th>\n",
              "      <th>verified_x</th>\n",
              "      <th>location_number</th>\n",
              "      <th>latitude_customer</th>\n",
              "      <th>longitude_customer</th>\n",
              "      <th>id</th>\n",
              "      <th>authentication_id</th>\n",
              "      <th>latitude_vendor</th>\n",
              "      <th>longitude_vendor</th>\n",
              "      <th>vendor_category_en</th>\n",
              "      <th>vendor_category_id</th>\n",
              "      <th>delivery_charge</th>\n",
              "      <th>serving_distance</th>\n",
              "      <th>is_open</th>\n",
              "      <th>prepration_time</th>\n",
              "      <th>discount_percentage</th>\n",
              "      <th>status_y</th>\n",
              "      <th>verified_y</th>\n",
              "      <th>rank</th>\n",
              "      <th>vendor_rating</th>\n",
              "      <th>primary_tags</th>\n",
              "      <th>vendor_tag</th>\n",
              "      <th>device_type</th>\n",
              "      <th>CID X LOC_NUM X VENDOR</th>\n",
              "      <th>duration</th>\n",
              "      <th>haversine_dist</th>\n",
              "      <th>u_diff</th>\n",
              "      <th>normalized_kmeans</th>\n",
              "      <th>target</th>\n",
              "    </tr>\n",
              "  </thead>\n",
              "  <tbody>\n",
              "    <tr>\n",
              "      <th>0</th>\n",
              "      <td>TCHWPBT</td>\n",
              "      <td>0.0</td>\n",
              "      <td>1.0</td>\n",
              "      <td>1.0</td>\n",
              "      <td>0.0</td>\n",
              "      <td>-96.4400</td>\n",
              "      <td>-67.20</td>\n",
              "      <td>237.0</td>\n",
              "      <td>118838.0</td>\n",
              "      <td>-0.94340</td>\n",
              "      <td>0.0817</td>\n",
              "      <td>Restaurants</td>\n",
              "      <td>2.0</td>\n",
              "      <td>0.7</td>\n",
              "      <td>15.0</td>\n",
              "      <td>0.0</td>\n",
              "      <td>15.0</td>\n",
              "      <td>0.0</td>\n",
              "      <td>0.0</td>\n",
              "      <td>0.0</td>\n",
              "      <td>11.0</td>\n",
              "      <td>4.6</td>\n",
              "      <td>0.0</td>\n",
              "      <td>1,5,8,57,30,27,24,16</td>\n",
              "      <td>3.0</td>\n",
              "      <td>TCHWPBT X 0 X 237</td>\n",
              "      <td>5.0</td>\n",
              "      <td>10179.280752</td>\n",
              "      <td>789.0</td>\n",
              "      <td>1.0</td>\n",
              "      <td>1.0</td>\n",
              "    </tr>\n",
              "    <tr>\n",
              "      <th>1</th>\n",
              "      <td>TCHWPBT</td>\n",
              "      <td>0.0</td>\n",
              "      <td>1.0</td>\n",
              "      <td>1.0</td>\n",
              "      <td>2.0</td>\n",
              "      <td>-0.1287</td>\n",
              "      <td>-78.56</td>\n",
              "      <td>113.0</td>\n",
              "      <td>118710.0</td>\n",
              "      <td>0.63040</td>\n",
              "      <td>0.5270</td>\n",
              "      <td>Restaurants</td>\n",
              "      <td>2.0</td>\n",
              "      <td>0.0</td>\n",
              "      <td>15.0</td>\n",
              "      <td>1.0</td>\n",
              "      <td>10.0</td>\n",
              "      <td>0.0</td>\n",
              "      <td>1.0</td>\n",
              "      <td>1.0</td>\n",
              "      <td>11.0</td>\n",
              "      <td>4.7</td>\n",
              "      <td>462.0</td>\n",
              "      <td>2,8,91,10</td>\n",
              "      <td>3.0</td>\n",
              "      <td>TCHWPBT X 2 X 113</td>\n",
              "      <td>12.0</td>\n",
              "      <td>8794.323110</td>\n",
              "      <td>790.0</td>\n",
              "      <td>1.0</td>\n",
              "      <td>1.0</td>\n",
              "    </tr>\n",
              "    <tr>\n",
              "      <th>2</th>\n",
              "      <td>ZGFSYCZ</td>\n",
              "      <td>0.0</td>\n",
              "      <td>1.0</td>\n",
              "      <td>1.0</td>\n",
              "      <td>0.0</td>\n",
              "      <td>-0.1755</td>\n",
              "      <td>-78.56</td>\n",
              "      <td>274.0</td>\n",
              "      <td>118875.0</td>\n",
              "      <td>0.30540</td>\n",
              "      <td>0.5600</td>\n",
              "      <td>Sweets &amp; Bakes</td>\n",
              "      <td>3.0</td>\n",
              "      <td>0.7</td>\n",
              "      <td>15.0</td>\n",
              "      <td>0.0</td>\n",
              "      <td>45.0</td>\n",
              "      <td>0.0</td>\n",
              "      <td>0.0</td>\n",
              "      <td>0.0</td>\n",
              "      <td>11.0</td>\n",
              "      <td>3.7</td>\n",
              "      <td>180.0</td>\n",
              "      <td>41,57</td>\n",
              "      <td>3.0</td>\n",
              "      <td>ZGFSYCZ X 0 X 274</td>\n",
              "      <td>12.0</td>\n",
              "      <td>8797.883809</td>\n",
              "      <td>787.0</td>\n",
              "      <td>1.0</td>\n",
              "      <td>1.0</td>\n",
              "    </tr>\n",
              "    <tr>\n",
              "      <th>3</th>\n",
              "      <td>ZGFSYCZ</td>\n",
              "      <td>0.0</td>\n",
              "      <td>1.0</td>\n",
              "      <td>1.0</td>\n",
              "      <td>0.0</td>\n",
              "      <td>-0.1755</td>\n",
              "      <td>-78.56</td>\n",
              "      <td>303.0</td>\n",
              "      <td>118905.0</td>\n",
              "      <td>0.00575</td>\n",
              "      <td>0.4822</td>\n",
              "      <td>Restaurants</td>\n",
              "      <td>2.0</td>\n",
              "      <td>0.7</td>\n",
              "      <td>15.0</td>\n",
              "      <td>1.0</td>\n",
              "      <td>15.0</td>\n",
              "      <td>0.0</td>\n",
              "      <td>1.0</td>\n",
              "      <td>1.0</td>\n",
              "      <td>11.0</td>\n",
              "      <td>4.7</td>\n",
              "      <td>1088.0</td>\n",
              "      <td>60,38,61,16,36</td>\n",
              "      <td>3.0</td>\n",
              "      <td>ZGFSYCZ X 0 X 303</td>\n",
              "      <td>7.0</td>\n",
              "      <td>8789.111559</td>\n",
              "      <td>781.0</td>\n",
              "      <td>1.0</td>\n",
              "      <td>1.0</td>\n",
              "    </tr>\n",
              "    <tr>\n",
              "      <th>4</th>\n",
              "      <td>ZGFSYCZ</td>\n",
              "      <td>0.0</td>\n",
              "      <td>1.0</td>\n",
              "      <td>1.0</td>\n",
              "      <td>1.0</td>\n",
              "      <td>0.1912</td>\n",
              "      <td>-78.60</td>\n",
              "      <td>28.0</td>\n",
              "      <td>118624.0</td>\n",
              "      <td>0.48070</td>\n",
              "      <td>0.5527</td>\n",
              "      <td>Restaurants</td>\n",
              "      <td>2.0</td>\n",
              "      <td>0.7</td>\n",
              "      <td>15.0</td>\n",
              "      <td>1.0</td>\n",
              "      <td>10.0</td>\n",
              "      <td>0.0</td>\n",
              "      <td>1.0</td>\n",
              "      <td>1.0</td>\n",
              "      <td>11.0</td>\n",
              "      <td>4.4</td>\n",
              "      <td>32.0</td>\n",
              "      <td>5</td>\n",
              "      <td>3.0</td>\n",
              "      <td>ZGFSYCZ X 1 X 28</td>\n",
              "      <td>12.0</td>\n",
              "      <td>8801.258975</td>\n",
              "      <td>786.0</td>\n",
              "      <td>1.0</td>\n",
              "      <td>1.0</td>\n",
              "    </tr>\n",
              "  </tbody>\n",
              "</table>\n",
              "</div>"
            ],
            "text/plain": [
              "  akeed_customer_id  gender  status_x  ...  u_diff  normalized_kmeans  target\n",
              "0           TCHWPBT     0.0       1.0  ...   789.0                1.0     1.0\n",
              "1           TCHWPBT     0.0       1.0  ...   790.0                1.0     1.0\n",
              "2           ZGFSYCZ     0.0       1.0  ...   787.0                1.0     1.0\n",
              "3           ZGFSYCZ     0.0       1.0  ...   781.0                1.0     1.0\n",
              "4           ZGFSYCZ     0.0       1.0  ...   786.0                1.0     1.0\n",
              "\n",
              "[5 rows x 31 columns]"
            ]
          },
          "metadata": {
            "tags": []
          },
          "execution_count": 2
        }
      ]
    },
    {
      "cell_type": "code",
      "metadata": {
        "id": "GgDcejgu9fl6",
        "outputId": "d8c2a558-f006-4d0a-873d-9cd4fa191664",
        "colab": {
          "base_uri": "https://localhost:8080/",
          "height": 34
        }
      },
      "source": [
        "# check dimensions of the data\n",
        "train.shape"
      ],
      "execution_count": null,
      "outputs": [
        {
          "output_type": "execute_result",
          "data": {
            "text/plain": [
              "(421663, 31)"
            ]
          },
          "metadata": {
            "tags": []
          },
          "execution_count": 3
        }
      ]
    },
    {
      "cell_type": "code",
      "metadata": {
        "id": "BNBLxXwskA2I",
        "outputId": "8b24a0f3-7e23-49f1-c760-58c4b9d88d9e",
        "colab": {
          "base_uri": "https://localhost:8080/",
          "height": 334
        }
      },
      "source": [
        "# preview first five rows\n",
        "train.head()"
      ],
      "execution_count": null,
      "outputs": [
        {
          "output_type": "execute_result",
          "data": {
            "text/html": [
              "<div>\n",
              "<style scoped>\n",
              "    .dataframe tbody tr th:only-of-type {\n",
              "        vertical-align: middle;\n",
              "    }\n",
              "\n",
              "    .dataframe tbody tr th {\n",
              "        vertical-align: top;\n",
              "    }\n",
              "\n",
              "    .dataframe thead th {\n",
              "        text-align: right;\n",
              "    }\n",
              "</style>\n",
              "<table border=\"1\" class=\"dataframe\">\n",
              "  <thead>\n",
              "    <tr style=\"text-align: right;\">\n",
              "      <th></th>\n",
              "      <th>akeed_customer_id</th>\n",
              "      <th>gender</th>\n",
              "      <th>status_x</th>\n",
              "      <th>verified_x</th>\n",
              "      <th>location_number</th>\n",
              "      <th>latitude_customer</th>\n",
              "      <th>longitude_customer</th>\n",
              "      <th>id</th>\n",
              "      <th>authentication_id</th>\n",
              "      <th>latitude_vendor</th>\n",
              "      <th>longitude_vendor</th>\n",
              "      <th>vendor_category_en</th>\n",
              "      <th>vendor_category_id</th>\n",
              "      <th>delivery_charge</th>\n",
              "      <th>serving_distance</th>\n",
              "      <th>is_open</th>\n",
              "      <th>prepration_time</th>\n",
              "      <th>discount_percentage</th>\n",
              "      <th>status_y</th>\n",
              "      <th>verified_y</th>\n",
              "      <th>rank</th>\n",
              "      <th>vendor_rating</th>\n",
              "      <th>primary_tags</th>\n",
              "      <th>vendor_tag</th>\n",
              "      <th>device_type</th>\n",
              "      <th>CID X LOC_NUM X VENDOR</th>\n",
              "      <th>duration</th>\n",
              "      <th>haversine_dist</th>\n",
              "      <th>u_diff</th>\n",
              "      <th>normalized_kmeans</th>\n",
              "      <th>target</th>\n",
              "    </tr>\n",
              "  </thead>\n",
              "  <tbody>\n",
              "    <tr>\n",
              "      <th>0</th>\n",
              "      <td>TCHWPBT</td>\n",
              "      <td>0.0</td>\n",
              "      <td>1.0</td>\n",
              "      <td>1.0</td>\n",
              "      <td>0.0</td>\n",
              "      <td>-96.4400</td>\n",
              "      <td>-67.20</td>\n",
              "      <td>237.0</td>\n",
              "      <td>118838.0</td>\n",
              "      <td>-0.94340</td>\n",
              "      <td>0.0817</td>\n",
              "      <td>Restaurants</td>\n",
              "      <td>2.0</td>\n",
              "      <td>0.7</td>\n",
              "      <td>15.0</td>\n",
              "      <td>0.0</td>\n",
              "      <td>15.0</td>\n",
              "      <td>0.0</td>\n",
              "      <td>0.0</td>\n",
              "      <td>0.0</td>\n",
              "      <td>11.0</td>\n",
              "      <td>4.6</td>\n",
              "      <td>0.0</td>\n",
              "      <td>1,5,8,57,30,27,24,16</td>\n",
              "      <td>3.0</td>\n",
              "      <td>TCHWPBT X 0 X 237</td>\n",
              "      <td>5.0</td>\n",
              "      <td>10179.280752</td>\n",
              "      <td>789.0</td>\n",
              "      <td>1.0</td>\n",
              "      <td>1.0</td>\n",
              "    </tr>\n",
              "    <tr>\n",
              "      <th>1</th>\n",
              "      <td>TCHWPBT</td>\n",
              "      <td>0.0</td>\n",
              "      <td>1.0</td>\n",
              "      <td>1.0</td>\n",
              "      <td>2.0</td>\n",
              "      <td>-0.1287</td>\n",
              "      <td>-78.56</td>\n",
              "      <td>113.0</td>\n",
              "      <td>118710.0</td>\n",
              "      <td>0.63040</td>\n",
              "      <td>0.5270</td>\n",
              "      <td>Restaurants</td>\n",
              "      <td>2.0</td>\n",
              "      <td>0.0</td>\n",
              "      <td>15.0</td>\n",
              "      <td>1.0</td>\n",
              "      <td>10.0</td>\n",
              "      <td>0.0</td>\n",
              "      <td>1.0</td>\n",
              "      <td>1.0</td>\n",
              "      <td>11.0</td>\n",
              "      <td>4.7</td>\n",
              "      <td>462.0</td>\n",
              "      <td>2,8,91,10</td>\n",
              "      <td>3.0</td>\n",
              "      <td>TCHWPBT X 2 X 113</td>\n",
              "      <td>12.0</td>\n",
              "      <td>8794.323110</td>\n",
              "      <td>790.0</td>\n",
              "      <td>1.0</td>\n",
              "      <td>1.0</td>\n",
              "    </tr>\n",
              "    <tr>\n",
              "      <th>2</th>\n",
              "      <td>ZGFSYCZ</td>\n",
              "      <td>0.0</td>\n",
              "      <td>1.0</td>\n",
              "      <td>1.0</td>\n",
              "      <td>0.0</td>\n",
              "      <td>-0.1755</td>\n",
              "      <td>-78.56</td>\n",
              "      <td>274.0</td>\n",
              "      <td>118875.0</td>\n",
              "      <td>0.30540</td>\n",
              "      <td>0.5600</td>\n",
              "      <td>Sweets &amp; Bakes</td>\n",
              "      <td>3.0</td>\n",
              "      <td>0.7</td>\n",
              "      <td>15.0</td>\n",
              "      <td>0.0</td>\n",
              "      <td>45.0</td>\n",
              "      <td>0.0</td>\n",
              "      <td>0.0</td>\n",
              "      <td>0.0</td>\n",
              "      <td>11.0</td>\n",
              "      <td>3.7</td>\n",
              "      <td>180.0</td>\n",
              "      <td>41,57</td>\n",
              "      <td>3.0</td>\n",
              "      <td>ZGFSYCZ X 0 X 274</td>\n",
              "      <td>12.0</td>\n",
              "      <td>8797.883809</td>\n",
              "      <td>787.0</td>\n",
              "      <td>1.0</td>\n",
              "      <td>1.0</td>\n",
              "    </tr>\n",
              "    <tr>\n",
              "      <th>3</th>\n",
              "      <td>ZGFSYCZ</td>\n",
              "      <td>0.0</td>\n",
              "      <td>1.0</td>\n",
              "      <td>1.0</td>\n",
              "      <td>0.0</td>\n",
              "      <td>-0.1755</td>\n",
              "      <td>-78.56</td>\n",
              "      <td>303.0</td>\n",
              "      <td>118905.0</td>\n",
              "      <td>0.00575</td>\n",
              "      <td>0.4822</td>\n",
              "      <td>Restaurants</td>\n",
              "      <td>2.0</td>\n",
              "      <td>0.7</td>\n",
              "      <td>15.0</td>\n",
              "      <td>1.0</td>\n",
              "      <td>15.0</td>\n",
              "      <td>0.0</td>\n",
              "      <td>1.0</td>\n",
              "      <td>1.0</td>\n",
              "      <td>11.0</td>\n",
              "      <td>4.7</td>\n",
              "      <td>1088.0</td>\n",
              "      <td>60,38,61,16,36</td>\n",
              "      <td>3.0</td>\n",
              "      <td>ZGFSYCZ X 0 X 303</td>\n",
              "      <td>7.0</td>\n",
              "      <td>8789.111559</td>\n",
              "      <td>781.0</td>\n",
              "      <td>1.0</td>\n",
              "      <td>1.0</td>\n",
              "    </tr>\n",
              "    <tr>\n",
              "      <th>4</th>\n",
              "      <td>ZGFSYCZ</td>\n",
              "      <td>0.0</td>\n",
              "      <td>1.0</td>\n",
              "      <td>1.0</td>\n",
              "      <td>1.0</td>\n",
              "      <td>0.1912</td>\n",
              "      <td>-78.60</td>\n",
              "      <td>28.0</td>\n",
              "      <td>118624.0</td>\n",
              "      <td>0.48070</td>\n",
              "      <td>0.5527</td>\n",
              "      <td>Restaurants</td>\n",
              "      <td>2.0</td>\n",
              "      <td>0.7</td>\n",
              "      <td>15.0</td>\n",
              "      <td>1.0</td>\n",
              "      <td>10.0</td>\n",
              "      <td>0.0</td>\n",
              "      <td>1.0</td>\n",
              "      <td>1.0</td>\n",
              "      <td>11.0</td>\n",
              "      <td>4.4</td>\n",
              "      <td>32.0</td>\n",
              "      <td>5</td>\n",
              "      <td>3.0</td>\n",
              "      <td>ZGFSYCZ X 1 X 28</td>\n",
              "      <td>12.0</td>\n",
              "      <td>8801.258975</td>\n",
              "      <td>786.0</td>\n",
              "      <td>1.0</td>\n",
              "      <td>1.0</td>\n",
              "    </tr>\n",
              "  </tbody>\n",
              "</table>\n",
              "</div>"
            ],
            "text/plain": [
              "  akeed_customer_id  gender  status_x  ...  u_diff  normalized_kmeans  target\n",
              "0           TCHWPBT     0.0       1.0  ...   789.0                1.0     1.0\n",
              "1           TCHWPBT     0.0       1.0  ...   790.0                1.0     1.0\n",
              "2           ZGFSYCZ     0.0       1.0  ...   787.0                1.0     1.0\n",
              "3           ZGFSYCZ     0.0       1.0  ...   781.0                1.0     1.0\n",
              "4           ZGFSYCZ     0.0       1.0  ...   786.0                1.0     1.0\n",
              "\n",
              "[5 rows x 31 columns]"
            ]
          },
          "metadata": {
            "tags": []
          },
          "execution_count": 4
        }
      ]
    },
    {
      "cell_type": "code",
      "metadata": {
        "id": "-chRdLNjkEf-",
        "outputId": "5d6efe0d-3bdc-498b-e73c-ac24f7e81b95",
        "colab": {
          "base_uri": "https://localhost:8080/",
          "height": 317
        }
      },
      "source": [
        "# check lat five rows\n",
        "train.tail()"
      ],
      "execution_count": null,
      "outputs": [
        {
          "output_type": "execute_result",
          "data": {
            "text/html": [
              "<div>\n",
              "<style scoped>\n",
              "    .dataframe tbody tr th:only-of-type {\n",
              "        vertical-align: middle;\n",
              "    }\n",
              "\n",
              "    .dataframe tbody tr th {\n",
              "        vertical-align: top;\n",
              "    }\n",
              "\n",
              "    .dataframe thead th {\n",
              "        text-align: right;\n",
              "    }\n",
              "</style>\n",
              "<table border=\"1\" class=\"dataframe\">\n",
              "  <thead>\n",
              "    <tr style=\"text-align: right;\">\n",
              "      <th></th>\n",
              "      <th>akeed_customer_id</th>\n",
              "      <th>gender</th>\n",
              "      <th>status_x</th>\n",
              "      <th>verified_x</th>\n",
              "      <th>location_number</th>\n",
              "      <th>latitude_customer</th>\n",
              "      <th>longitude_customer</th>\n",
              "      <th>id</th>\n",
              "      <th>authentication_id</th>\n",
              "      <th>latitude_vendor</th>\n",
              "      <th>longitude_vendor</th>\n",
              "      <th>vendor_category_en</th>\n",
              "      <th>vendor_category_id</th>\n",
              "      <th>delivery_charge</th>\n",
              "      <th>serving_distance</th>\n",
              "      <th>is_open</th>\n",
              "      <th>prepration_time</th>\n",
              "      <th>discount_percentage</th>\n",
              "      <th>status_y</th>\n",
              "      <th>verified_y</th>\n",
              "      <th>rank</th>\n",
              "      <th>vendor_rating</th>\n",
              "      <th>primary_tags</th>\n",
              "      <th>vendor_tag</th>\n",
              "      <th>device_type</th>\n",
              "      <th>CID X LOC_NUM X VENDOR</th>\n",
              "      <th>duration</th>\n",
              "      <th>haversine_dist</th>\n",
              "      <th>u_diff</th>\n",
              "      <th>normalized_kmeans</th>\n",
              "      <th>target</th>\n",
              "    </tr>\n",
              "  </thead>\n",
              "  <tbody>\n",
              "    <tr>\n",
              "      <th>421658</th>\n",
              "      <td>YG44SEU</td>\n",
              "      <td>0.0</td>\n",
              "      <td>1.0</td>\n",
              "      <td>1.0</td>\n",
              "      <td>0.0</td>\n",
              "      <td>0.42970</td>\n",
              "      <td>-78.600</td>\n",
              "      <td>401.0</td>\n",
              "      <td>119004.0</td>\n",
              "      <td>0.001904</td>\n",
              "      <td>0.54740</td>\n",
              "      <td>Sweets &amp; Bakes</td>\n",
              "      <td>3.0</td>\n",
              "      <td>0.7</td>\n",
              "      <td>15.0</td>\n",
              "      <td>1.0</td>\n",
              "      <td>13.0</td>\n",
              "      <td>0.0</td>\n",
              "      <td>1.0</td>\n",
              "      <td>1.0</td>\n",
              "      <td>11.0</td>\n",
              "      <td>4.5</td>\n",
              "      <td>1256.0</td>\n",
              "      <td>64,36</td>\n",
              "      <td>3.0</td>\n",
              "      <td>YG44SEU X 0 X 401</td>\n",
              "      <td>13.0</td>\n",
              "      <td>8800.834226</td>\n",
              "      <td>495.0</td>\n",
              "      <td>4.0</td>\n",
              "      <td>0.0</td>\n",
              "    </tr>\n",
              "    <tr>\n",
              "      <th>421659</th>\n",
              "      <td>H8KV8OC</td>\n",
              "      <td>2.0</td>\n",
              "      <td>1.0</td>\n",
              "      <td>1.0</td>\n",
              "      <td>0.0</td>\n",
              "      <td>19.22000</td>\n",
              "      <td>3.025</td>\n",
              "      <td>537.0</td>\n",
              "      <td>119141.0</td>\n",
              "      <td>-0.524000</td>\n",
              "      <td>0.05264</td>\n",
              "      <td>Restaurants</td>\n",
              "      <td>2.0</td>\n",
              "      <td>0.0</td>\n",
              "      <td>15.0</td>\n",
              "      <td>1.0</td>\n",
              "      <td>20.0</td>\n",
              "      <td>0.0</td>\n",
              "      <td>1.0</td>\n",
              "      <td>1.0</td>\n",
              "      <td>11.0</td>\n",
              "      <td>4.4</td>\n",
              "      <td>8.0</td>\n",
              "      <td>1,5,8,91,30,29,48</td>\n",
              "      <td>3.0</td>\n",
              "      <td>H8KV8OC X 0 X 537</td>\n",
              "      <td>15.0</td>\n",
              "      <td>2219.268361</td>\n",
              "      <td>67.0</td>\n",
              "      <td>2.0</td>\n",
              "      <td>0.0</td>\n",
              "    </tr>\n",
              "    <tr>\n",
              "      <th>421660</th>\n",
              "      <td>GBHNW7S</td>\n",
              "      <td>0.0</td>\n",
              "      <td>1.0</td>\n",
              "      <td>1.0</td>\n",
              "      <td>0.0</td>\n",
              "      <td>0.08405</td>\n",
              "      <td>-78.600</td>\n",
              "      <td>81.0</td>\n",
              "      <td>118678.0</td>\n",
              "      <td>-0.712000</td>\n",
              "      <td>0.06335</td>\n",
              "      <td>Restaurants</td>\n",
              "      <td>2.0</td>\n",
              "      <td>0.0</td>\n",
              "      <td>15.0</td>\n",
              "      <td>1.0</td>\n",
              "      <td>15.0</td>\n",
              "      <td>0.0</td>\n",
              "      <td>1.0</td>\n",
              "      <td>1.0</td>\n",
              "      <td>11.0</td>\n",
              "      <td>3.8</td>\n",
              "      <td>0.0</td>\n",
              "      <td>2,4,8,53,13,24,16</td>\n",
              "      <td>3.0</td>\n",
              "      <td>GBHNW7S X 0 X 81</td>\n",
              "      <td>10.0</td>\n",
              "      <td>8747.195957</td>\n",
              "      <td>476.0</td>\n",
              "      <td>1.0</td>\n",
              "      <td>0.0</td>\n",
              "    </tr>\n",
              "    <tr>\n",
              "      <th>421661</th>\n",
              "      <td>LQ4V2YJ</td>\n",
              "      <td>0.0</td>\n",
              "      <td>1.0</td>\n",
              "      <td>1.0</td>\n",
              "      <td>0.0</td>\n",
              "      <td>-0.26860</td>\n",
              "      <td>-78.560</td>\n",
              "      <td>225.0</td>\n",
              "      <td>118824.0</td>\n",
              "      <td>-0.815400</td>\n",
              "      <td>0.09150</td>\n",
              "      <td>Restaurants</td>\n",
              "      <td>2.0</td>\n",
              "      <td>0.0</td>\n",
              "      <td>15.0</td>\n",
              "      <td>1.0</td>\n",
              "      <td>10.0</td>\n",
              "      <td>0.0</td>\n",
              "      <td>1.0</td>\n",
              "      <td>1.0</td>\n",
              "      <td>11.0</td>\n",
              "      <td>4.2</td>\n",
              "      <td>346.0</td>\n",
              "      <td>4,91,38,30,79,52,45</td>\n",
              "      <td>3.0</td>\n",
              "      <td>LQ4V2YJ X 0 X 225</td>\n",
              "      <td>17.0</td>\n",
              "      <td>8745.369875</td>\n",
              "      <td>534.0</td>\n",
              "      <td>1.0</td>\n",
              "      <td>0.0</td>\n",
              "    </tr>\n",
              "    <tr>\n",
              "      <th>421662</th>\n",
              "      <td>NaN</td>\n",
              "      <td>NaN</td>\n",
              "      <td>NaN</td>\n",
              "      <td>NaN</td>\n",
              "      <td>NaN</td>\n",
              "      <td>NaN</td>\n",
              "      <td>NaN</td>\n",
              "      <td>NaN</td>\n",
              "      <td>NaN</td>\n",
              "      <td>NaN</td>\n",
              "      <td>NaN</td>\n",
              "      <td>NaN</td>\n",
              "      <td>NaN</td>\n",
              "      <td>NaN</td>\n",
              "      <td>NaN</td>\n",
              "      <td>NaN</td>\n",
              "      <td>NaN</td>\n",
              "      <td>NaN</td>\n",
              "      <td>NaN</td>\n",
              "      <td>NaN</td>\n",
              "      <td>NaN</td>\n",
              "      <td>NaN</td>\n",
              "      <td>NaN</td>\n",
              "      <td>NaN</td>\n",
              "      <td>NaN</td>\n",
              "      <td>NaN</td>\n",
              "      <td>NaN</td>\n",
              "      <td>NaN</td>\n",
              "      <td>NaN</td>\n",
              "      <td>NaN</td>\n",
              "      <td>NaN</td>\n",
              "    </tr>\n",
              "  </tbody>\n",
              "</table>\n",
              "</div>"
            ],
            "text/plain": [
              "       akeed_customer_id  gender  status_x  ...  u_diff  normalized_kmeans  target\n",
              "421658           YG44SEU     0.0       1.0  ...   495.0                4.0     0.0\n",
              "421659           H8KV8OC     2.0       1.0  ...    67.0                2.0     0.0\n",
              "421660           GBHNW7S     0.0       1.0  ...   476.0                1.0     0.0\n",
              "421661           LQ4V2YJ     0.0       1.0  ...   534.0                1.0     0.0\n",
              "421662               NaN     NaN       NaN  ...     NaN                NaN     NaN\n",
              "\n",
              "[5 rows x 31 columns]"
            ]
          },
          "metadata": {
            "tags": []
          },
          "execution_count": 5
        }
      ]
    },
    {
      "cell_type": "code",
      "metadata": {
        "id": "JnwCEfg4lKpG",
        "outputId": "7c6c6a39-af4c-4ea2-979b-9861147246d6",
        "colab": {
          "base_uri": "https://localhost:8080/",
          "height": 334
        }
      },
      "source": [
        "# drop last row\n",
        "train = train.iloc[:-1, :]\n",
        "train.tail()"
      ],
      "execution_count": null,
      "outputs": [
        {
          "output_type": "execute_result",
          "data": {
            "text/html": [
              "<div>\n",
              "<style scoped>\n",
              "    .dataframe tbody tr th:only-of-type {\n",
              "        vertical-align: middle;\n",
              "    }\n",
              "\n",
              "    .dataframe tbody tr th {\n",
              "        vertical-align: top;\n",
              "    }\n",
              "\n",
              "    .dataframe thead th {\n",
              "        text-align: right;\n",
              "    }\n",
              "</style>\n",
              "<table border=\"1\" class=\"dataframe\">\n",
              "  <thead>\n",
              "    <tr style=\"text-align: right;\">\n",
              "      <th></th>\n",
              "      <th>akeed_customer_id</th>\n",
              "      <th>gender</th>\n",
              "      <th>status_x</th>\n",
              "      <th>verified_x</th>\n",
              "      <th>location_number</th>\n",
              "      <th>latitude_customer</th>\n",
              "      <th>longitude_customer</th>\n",
              "      <th>id</th>\n",
              "      <th>authentication_id</th>\n",
              "      <th>latitude_vendor</th>\n",
              "      <th>longitude_vendor</th>\n",
              "      <th>vendor_category_en</th>\n",
              "      <th>vendor_category_id</th>\n",
              "      <th>delivery_charge</th>\n",
              "      <th>serving_distance</th>\n",
              "      <th>is_open</th>\n",
              "      <th>prepration_time</th>\n",
              "      <th>discount_percentage</th>\n",
              "      <th>status_y</th>\n",
              "      <th>verified_y</th>\n",
              "      <th>rank</th>\n",
              "      <th>vendor_rating</th>\n",
              "      <th>primary_tags</th>\n",
              "      <th>vendor_tag</th>\n",
              "      <th>device_type</th>\n",
              "      <th>CID X LOC_NUM X VENDOR</th>\n",
              "      <th>duration</th>\n",
              "      <th>haversine_dist</th>\n",
              "      <th>u_diff</th>\n",
              "      <th>normalized_kmeans</th>\n",
              "      <th>target</th>\n",
              "    </tr>\n",
              "  </thead>\n",
              "  <tbody>\n",
              "    <tr>\n",
              "      <th>421657</th>\n",
              "      <td>ECCOYNW</td>\n",
              "      <td>0.0</td>\n",
              "      <td>1.0</td>\n",
              "      <td>1.0</td>\n",
              "      <td>1.0</td>\n",
              "      <td>-0.005302</td>\n",
              "      <td>0.6045</td>\n",
              "      <td>81.0</td>\n",
              "      <td>118678.0</td>\n",
              "      <td>-0.712000</td>\n",
              "      <td>0.06335</td>\n",
              "      <td>Restaurants</td>\n",
              "      <td>2.0</td>\n",
              "      <td>0.0</td>\n",
              "      <td>15.0</td>\n",
              "      <td>1.0</td>\n",
              "      <td>15.0</td>\n",
              "      <td>0.0</td>\n",
              "      <td>1.0</td>\n",
              "      <td>1.0</td>\n",
              "      <td>11.0</td>\n",
              "      <td>3.8</td>\n",
              "      <td>0.0</td>\n",
              "      <td>2,4,8,53,13,24,16</td>\n",
              "      <td>3.0</td>\n",
              "      <td>ECCOYNW X 1 X 81</td>\n",
              "      <td>10.0</td>\n",
              "      <td>98.973004</td>\n",
              "      <td>524.0</td>\n",
              "      <td>2.0</td>\n",
              "      <td>0.0</td>\n",
              "    </tr>\n",
              "    <tr>\n",
              "      <th>421658</th>\n",
              "      <td>YG44SEU</td>\n",
              "      <td>0.0</td>\n",
              "      <td>1.0</td>\n",
              "      <td>1.0</td>\n",
              "      <td>0.0</td>\n",
              "      <td>0.429700</td>\n",
              "      <td>-78.6000</td>\n",
              "      <td>401.0</td>\n",
              "      <td>119004.0</td>\n",
              "      <td>0.001904</td>\n",
              "      <td>0.54740</td>\n",
              "      <td>Sweets &amp; Bakes</td>\n",
              "      <td>3.0</td>\n",
              "      <td>0.7</td>\n",
              "      <td>15.0</td>\n",
              "      <td>1.0</td>\n",
              "      <td>13.0</td>\n",
              "      <td>0.0</td>\n",
              "      <td>1.0</td>\n",
              "      <td>1.0</td>\n",
              "      <td>11.0</td>\n",
              "      <td>4.5</td>\n",
              "      <td>1256.0</td>\n",
              "      <td>64,36</td>\n",
              "      <td>3.0</td>\n",
              "      <td>YG44SEU X 0 X 401</td>\n",
              "      <td>13.0</td>\n",
              "      <td>8800.834226</td>\n",
              "      <td>495.0</td>\n",
              "      <td>4.0</td>\n",
              "      <td>0.0</td>\n",
              "    </tr>\n",
              "    <tr>\n",
              "      <th>421659</th>\n",
              "      <td>H8KV8OC</td>\n",
              "      <td>2.0</td>\n",
              "      <td>1.0</td>\n",
              "      <td>1.0</td>\n",
              "      <td>0.0</td>\n",
              "      <td>19.220000</td>\n",
              "      <td>3.0250</td>\n",
              "      <td>537.0</td>\n",
              "      <td>119141.0</td>\n",
              "      <td>-0.524000</td>\n",
              "      <td>0.05264</td>\n",
              "      <td>Restaurants</td>\n",
              "      <td>2.0</td>\n",
              "      <td>0.0</td>\n",
              "      <td>15.0</td>\n",
              "      <td>1.0</td>\n",
              "      <td>20.0</td>\n",
              "      <td>0.0</td>\n",
              "      <td>1.0</td>\n",
              "      <td>1.0</td>\n",
              "      <td>11.0</td>\n",
              "      <td>4.4</td>\n",
              "      <td>8.0</td>\n",
              "      <td>1,5,8,91,30,29,48</td>\n",
              "      <td>3.0</td>\n",
              "      <td>H8KV8OC X 0 X 537</td>\n",
              "      <td>15.0</td>\n",
              "      <td>2219.268361</td>\n",
              "      <td>67.0</td>\n",
              "      <td>2.0</td>\n",
              "      <td>0.0</td>\n",
              "    </tr>\n",
              "    <tr>\n",
              "      <th>421660</th>\n",
              "      <td>GBHNW7S</td>\n",
              "      <td>0.0</td>\n",
              "      <td>1.0</td>\n",
              "      <td>1.0</td>\n",
              "      <td>0.0</td>\n",
              "      <td>0.084050</td>\n",
              "      <td>-78.6000</td>\n",
              "      <td>81.0</td>\n",
              "      <td>118678.0</td>\n",
              "      <td>-0.712000</td>\n",
              "      <td>0.06335</td>\n",
              "      <td>Restaurants</td>\n",
              "      <td>2.0</td>\n",
              "      <td>0.0</td>\n",
              "      <td>15.0</td>\n",
              "      <td>1.0</td>\n",
              "      <td>15.0</td>\n",
              "      <td>0.0</td>\n",
              "      <td>1.0</td>\n",
              "      <td>1.0</td>\n",
              "      <td>11.0</td>\n",
              "      <td>3.8</td>\n",
              "      <td>0.0</td>\n",
              "      <td>2,4,8,53,13,24,16</td>\n",
              "      <td>3.0</td>\n",
              "      <td>GBHNW7S X 0 X 81</td>\n",
              "      <td>10.0</td>\n",
              "      <td>8747.195957</td>\n",
              "      <td>476.0</td>\n",
              "      <td>1.0</td>\n",
              "      <td>0.0</td>\n",
              "    </tr>\n",
              "    <tr>\n",
              "      <th>421661</th>\n",
              "      <td>LQ4V2YJ</td>\n",
              "      <td>0.0</td>\n",
              "      <td>1.0</td>\n",
              "      <td>1.0</td>\n",
              "      <td>0.0</td>\n",
              "      <td>-0.268600</td>\n",
              "      <td>-78.5600</td>\n",
              "      <td>225.0</td>\n",
              "      <td>118824.0</td>\n",
              "      <td>-0.815400</td>\n",
              "      <td>0.09150</td>\n",
              "      <td>Restaurants</td>\n",
              "      <td>2.0</td>\n",
              "      <td>0.0</td>\n",
              "      <td>15.0</td>\n",
              "      <td>1.0</td>\n",
              "      <td>10.0</td>\n",
              "      <td>0.0</td>\n",
              "      <td>1.0</td>\n",
              "      <td>1.0</td>\n",
              "      <td>11.0</td>\n",
              "      <td>4.2</td>\n",
              "      <td>346.0</td>\n",
              "      <td>4,91,38,30,79,52,45</td>\n",
              "      <td>3.0</td>\n",
              "      <td>LQ4V2YJ X 0 X 225</td>\n",
              "      <td>17.0</td>\n",
              "      <td>8745.369875</td>\n",
              "      <td>534.0</td>\n",
              "      <td>1.0</td>\n",
              "      <td>0.0</td>\n",
              "    </tr>\n",
              "  </tbody>\n",
              "</table>\n",
              "</div>"
            ],
            "text/plain": [
              "       akeed_customer_id  gender  status_x  ...  u_diff  normalized_kmeans  target\n",
              "421657           ECCOYNW     0.0       1.0  ...   524.0                2.0     0.0\n",
              "421658           YG44SEU     0.0       1.0  ...   495.0                4.0     0.0\n",
              "421659           H8KV8OC     2.0       1.0  ...    67.0                2.0     0.0\n",
              "421660           GBHNW7S     0.0       1.0  ...   476.0                1.0     0.0\n",
              "421661           LQ4V2YJ     0.0       1.0  ...   534.0                1.0     0.0\n",
              "\n",
              "[5 rows x 31 columns]"
            ]
          },
          "metadata": {
            "tags": []
          },
          "execution_count": 6
        }
      ]
    },
    {
      "cell_type": "code",
      "metadata": {
        "id": "CuZMV32-jxbM",
        "outputId": "371be247-ef12-4c65-ffbd-efc069263d63",
        "colab": {
          "base_uri": "https://localhost:8080/",
          "height": 34
        }
      },
      "source": [
        "# drop akeed_customer_id and vendor category\n",
        "train.drop(train.columns[[0,11]], axis=1, inplace=True)\n",
        "train.shape"
      ],
      "execution_count": null,
      "outputs": [
        {
          "output_type": "execute_result",
          "data": {
            "text/plain": [
              "(421662, 29)"
            ]
          },
          "metadata": {
            "tags": []
          },
          "execution_count": 7
        }
      ]
    },
    {
      "cell_type": "code",
      "metadata": {
        "id": "WPYKr0QfkrUS"
      },
      "source": [
        "# train.reset_index(drop=True)\n",
        "# train.head()"
      ],
      "execution_count": null,
      "outputs": []
    },
    {
      "cell_type": "markdown",
      "metadata": {
        "id": "rofAmsqcHWqY"
      },
      "source": [
        "### Pearson's Correlation"
      ]
    },
    {
      "cell_type": "code",
      "metadata": {
        "id": "qI4V-9sSHaYK",
        "outputId": "2d00ec70-b181-4a69-af66-ac6678b51ada",
        "colab": {
          "base_uri": "https://localhost:8080/",
          "height": 1000
        }
      },
      "source": [
        "import seaborn as sns\n",
        "import matplotlib.pyplot as plt\n",
        "\n",
        "plt.figure(figsize=(20,20))\n",
        "sns.heatmap(train.drop(['vendor_tag', 'CID X LOC_NUM X VENDOR'], 1).corr(), annot=True)\n",
        "plt.show()"
      ],
      "execution_count": null,
      "outputs": [
        {
          "output_type": "display_data",
          "data": {
            "image/png": "[encoded data removed]",
            "text/plain": [
              "<Figure size 1440x1440 with 2 Axes>"
            ]
          },
          "metadata": {
            "tags": [],
            "needs_background": "light"
          }
        }
      ]
    },
    {
      "cell_type": "code",
      "metadata": {
        "id": "mS0Ocy_oJzHi"
      },
      "source": [
        "# drop features that are correlated to each other\n",
        "train = train.drop(['device_type', 'is_open', 'status_y', 'authentication_id', 'longitude_customer'], 1)"
      ],
      "execution_count": null,
      "outputs": []
    },
    {
      "cell_type": "markdown",
      "metadata": {
        "id": "LCT5IvKCFtcn"
      },
      "source": [
        "### Predictive power score\n"
      ]
    },
    {
      "cell_type": "code",
      "metadata": {
        "id": "kHqNR0mdGr97"
      },
      "source": [
        "pip install -U ppscore"
      ],
      "execution_count": null,
      "outputs": []
    },
    {
      "cell_type": "code",
      "metadata": {
        "id": "dEVpeBAqFxFq"
      },
      "source": [
        "# # check the predictive power of each feature on the target\n",
        "# import ppscore as pps\n",
        "\n",
        "# pps.predictors(train, 'target')"
      ],
      "execution_count": null,
      "outputs": []
    },
    {
      "cell_type": "markdown",
      "metadata": {
        "id": "jgCqL9QPmD2d"
      },
      "source": [
        "## Modelling"
      ]
    },
    {
      "cell_type": "code",
      "metadata": {
        "id": "6TpQZzTEmCly",
        "outputId": "92ac285e-abaa-4190-b2c3-b07500b76d99",
        "colab": {
          "base_uri": "https://localhost:8080/",
          "height": 334
        }
      },
      "source": [
        "# shuffle the train data set\n",
        "train = train.sample(frac = 1, random_state=27)\n",
        "train = train.reset_index(drop=True)\n",
        "train.head()"
      ],
      "execution_count": null,
      "outputs": [
        {
          "output_type": "execute_result",
          "data": {
            "text/html": [
              "<div>\n",
              "<style scoped>\n",
              "    .dataframe tbody tr th:only-of-type {\n",
              "        vertical-align: middle;\n",
              "    }\n",
              "\n",
              "    .dataframe tbody tr th {\n",
              "        vertical-align: top;\n",
              "    }\n",
              "\n",
              "    .dataframe thead th {\n",
              "        text-align: right;\n",
              "    }\n",
              "</style>\n",
              "<table border=\"1\" class=\"dataframe\">\n",
              "  <thead>\n",
              "    <tr style=\"text-align: right;\">\n",
              "      <th></th>\n",
              "      <th>gender</th>\n",
              "      <th>status_x</th>\n",
              "      <th>verified_x</th>\n",
              "      <th>location_number</th>\n",
              "      <th>latitude_customer</th>\n",
              "      <th>id</th>\n",
              "      <th>latitude_vendor</th>\n",
              "      <th>longitude_vendor</th>\n",
              "      <th>vendor_category_id</th>\n",
              "      <th>delivery_charge</th>\n",
              "      <th>serving_distance</th>\n",
              "      <th>prepration_time</th>\n",
              "      <th>discount_percentage</th>\n",
              "      <th>verified_y</th>\n",
              "      <th>rank</th>\n",
              "      <th>vendor_rating</th>\n",
              "      <th>primary_tags</th>\n",
              "      <th>vendor_tag</th>\n",
              "      <th>CID X LOC_NUM X VENDOR</th>\n",
              "      <th>duration</th>\n",
              "      <th>haversine_dist</th>\n",
              "      <th>u_diff</th>\n",
              "      <th>normalized_kmeans</th>\n",
              "      <th>target</th>\n",
              "    </tr>\n",
              "  </thead>\n",
              "  <tbody>\n",
              "    <tr>\n",
              "      <th>0</th>\n",
              "      <td>2.0</td>\n",
              "      <td>1.0</td>\n",
              "      <td>1.0</td>\n",
              "      <td>0.0</td>\n",
              "      <td>-1.1140</td>\n",
              "      <td>304.0</td>\n",
              "      <td>-1.2680</td>\n",
              "      <td>0.02837</td>\n",
              "      <td>2.0</td>\n",
              "      <td>0.7</td>\n",
              "      <td>10.0</td>\n",
              "      <td>15.0</td>\n",
              "      <td>0.0</td>\n",
              "      <td>1.0</td>\n",
              "      <td>11.0</td>\n",
              "      <td>4.0</td>\n",
              "      <td>32.0</td>\n",
              "      <td>1,4,5,30,16</td>\n",
              "      <td>YI6W074 X 0 X 304</td>\n",
              "      <td>13.0</td>\n",
              "      <td>8723.063107</td>\n",
              "      <td>183.0</td>\n",
              "      <td>1.0</td>\n",
              "      <td>0.0</td>\n",
              "    </tr>\n",
              "    <tr>\n",
              "      <th>1</th>\n",
              "      <td>0.0</td>\n",
              "      <td>1.0</td>\n",
              "      <td>1.0</td>\n",
              "      <td>0.0</td>\n",
              "      <td>-0.4470</td>\n",
              "      <td>907.0</td>\n",
              "      <td>13.3360</td>\n",
              "      <td>-1.44900</td>\n",
              "      <td>2.0</td>\n",
              "      <td>0.7</td>\n",
              "      <td>12.0</td>\n",
              "      <td>20.0</td>\n",
              "      <td>0.0</td>\n",
              "      <td>1.0</td>\n",
              "      <td>11.0</td>\n",
              "      <td>4.3</td>\n",
              "      <td>24.0</td>\n",
              "      <td>46,52,16</td>\n",
              "      <td>4V3NA89 X 0 X 907</td>\n",
              "      <td>15.0</td>\n",
              "      <td>8625.434438</td>\n",
              "      <td>376.0</td>\n",
              "      <td>1.0</td>\n",
              "      <td>0.0</td>\n",
              "    </tr>\n",
              "    <tr>\n",
              "      <th>2</th>\n",
              "      <td>0.0</td>\n",
              "      <td>1.0</td>\n",
              "      <td>1.0</td>\n",
              "      <td>0.0</td>\n",
              "      <td>0.1356</td>\n",
              "      <td>250.0</td>\n",
              "      <td>-0.5117</td>\n",
              "      <td>0.75830</td>\n",
              "      <td>2.0</td>\n",
              "      <td>0.7</td>\n",
              "      <td>5.0</td>\n",
              "      <td>15.0</td>\n",
              "      <td>0.0</td>\n",
              "      <td>1.0</td>\n",
              "      <td>11.0</td>\n",
              "      <td>4.5</td>\n",
              "      <td>47.0</td>\n",
              "      <td>1,4,45,24,16</td>\n",
              "      <td>9ZSXSQS X 0 X 250</td>\n",
              "      <td>14.0</td>\n",
              "      <td>74.598418</td>\n",
              "      <td>588.0</td>\n",
              "      <td>2.0</td>\n",
              "      <td>0.0</td>\n",
              "    </tr>\n",
              "    <tr>\n",
              "      <th>3</th>\n",
              "      <td>0.0</td>\n",
              "      <td>1.0</td>\n",
              "      <td>1.0</td>\n",
              "      <td>0.0</td>\n",
              "      <td>-0.0342</td>\n",
              "      <td>459.0</td>\n",
              "      <td>-0.9960</td>\n",
              "      <td>-0.06230</td>\n",
              "      <td>2.0</td>\n",
              "      <td>0.0</td>\n",
              "      <td>10.0</td>\n",
              "      <td>15.0</td>\n",
              "      <td>0.0</td>\n",
              "      <td>1.0</td>\n",
              "      <td>11.0</td>\n",
              "      <td>4.2</td>\n",
              "      <td>8.0</td>\n",
              "      <td>5,91,32,52</td>\n",
              "      <td>8CMME4G X 0 X 459</td>\n",
              "      <td>12.0</td>\n",
              "      <td>8728.686703</td>\n",
              "      <td>452.0</td>\n",
              "      <td>1.0</td>\n",
              "      <td>0.0</td>\n",
              "    </tr>\n",
              "    <tr>\n",
              "      <th>4</th>\n",
              "      <td>0.0</td>\n",
              "      <td>1.0</td>\n",
              "      <td>1.0</td>\n",
              "      <td>0.0</td>\n",
              "      <td>1.3390</td>\n",
              "      <td>161.0</td>\n",
              "      <td>-0.8843</td>\n",
              "      <td>-0.12760</td>\n",
              "      <td>2.0</td>\n",
              "      <td>0.7</td>\n",
              "      <td>10.0</td>\n",
              "      <td>17.0</td>\n",
              "      <td>0.0</td>\n",
              "      <td>0.0</td>\n",
              "      <td>11.0</td>\n",
              "      <td>4.2</td>\n",
              "      <td>0.0</td>\n",
              "      <td>5,8,63,15</td>\n",
              "      <td>DNU1TTG X 0 X 161</td>\n",
              "      <td>13.0</td>\n",
              "      <td>8745.270396</td>\n",
              "      <td>140.0</td>\n",
              "      <td>1.0</td>\n",
              "      <td>1.0</td>\n",
              "    </tr>\n",
              "  </tbody>\n",
              "</table>\n",
              "</div>"
            ],
            "text/plain": [
              "   gender  status_x  verified_x  ...  u_diff  normalized_kmeans  target\n",
              "0     2.0       1.0         1.0  ...   183.0                1.0     0.0\n",
              "1     0.0       1.0         1.0  ...   376.0                1.0     0.0\n",
              "2     0.0       1.0         1.0  ...   588.0                2.0     0.0\n",
              "3     0.0       1.0         1.0  ...   452.0                1.0     0.0\n",
              "4     0.0       1.0         1.0  ...   140.0                1.0     1.0\n",
              "\n",
              "[5 rows x 24 columns]"
            ]
          },
          "metadata": {
            "tags": []
          },
          "execution_count": 9
        }
      ]
    },
    {
      "cell_type": "code",
      "metadata": {
        "id": "5dj3TRbmmJz2"
      },
      "source": [
        "# assign target and variables\n",
        "X = train.drop(['target','CID X LOC_NUM X VENDOR', 'vendor_tag'], axis=1)\n",
        "y = train.target"
      ],
      "execution_count": null,
      "outputs": []
    },
    {
      "cell_type": "markdown",
      "metadata": {
        "id": "32baulGuPh8J"
      },
      "source": [
        "## Neural Networks"
      ]
    },
    {
      "cell_type": "code",
      "metadata": {
        "id": "LeanaxIdnCkR"
      },
      "source": [
        "# split the data into train and validation\n",
        "X_train, X_val, y_train, y_val = train_test_split(X, y, test_size=0.2, random_state=23)"
      ],
      "execution_count": null,
      "outputs": []
    },
    {
      "cell_type": "code",
      "metadata": {
        "id": "RVnEFHk_P_g7"
      },
      "source": [
        "# Import libraries\n",
        "from sklearn.preprocessing import StandardScaler\n",
        "from sklearn.neural_network import MLPClassifier\n",
        "\n",
        "from sklearn.metrics import classification_report,confusion_matrix"
      ],
      "execution_count": null,
      "outputs": []
    },
    {
      "cell_type": "code",
      "metadata": {
        "id": "_5CtY5sFO9DO",
        "outputId": "0c7ea679-d4c3-4e8e-c44d-edfcb55e2486",
        "colab": {
          "base_uri": "https://localhost:8080/",
          "height": 247
        }
      },
      "source": [
        "# Scale the targets\n",
        "scaler = StandardScaler()\n",
        "\n",
        "# Fit the training data\n",
        "scaler.fit(X_train)\n",
        "\n",
        "# Transform the features\n",
        "X_train = scaler.transform(X_train)\n",
        "X_val = scaler.transform(X_val)\n",
        "\n",
        "# Create instance of MLPClassifier\n",
        "mlp = MLPClassifier(hidden_layer_sizes=(10,10,10), activation='relu', max_iter=400)\n",
        "mlp.fit(X_train, y_train)\n",
        "\n",
        "# Make predictions\n",
        "y_pred = mlp.predict(X_val)\n",
        "\n",
        "# Evaluate the model\n",
        "cm = confusion_matrix(y_val, y_pred)\n",
        "print(cm)\n",
        "print('\\n')\n",
        "print(classification_report(y_val, y_pred))"
      ],
      "execution_count": null,
      "outputs": [
        {
          "output_type": "stream",
          "text": [
            "[[66146  2467]\n",
            " [11306  4414]]\n",
            "\n",
            "\n",
            "              precision    recall  f1-score   support\n",
            "\n",
            "         0.0       0.85      0.96      0.91     68613\n",
            "         1.0       0.64      0.28      0.39     15720\n",
            "\n",
            "    accuracy                           0.84     84333\n",
            "   macro avg       0.75      0.62      0.65     84333\n",
            "weighted avg       0.81      0.84      0.81     84333\n",
            "\n"
          ],
          "name": "stdout"
        }
      ]
    },
    {
      "cell_type": "markdown",
      "metadata": {
        "id": "vaZgXu0uXUQe"
      },
      "source": [
        "## Hyperparameter tuning"
      ]
    },
    {
      "cell_type": "code",
      "metadata": {
        "id": "5XTTu70VJmdI"
      },
      "source": [
        "mlp_gs = MLPClassifier(hidden_layer_sizes=(10,10,10,10), max_iter=350)\n",
        "parameter_space = {\n",
        "    'activation': ['tanh', 'relu'],\n",
        "    'solver': ['sgd', 'adam'],\n",
        "    'alpha': [0.0001, 0.05],\n",
        "    'learning_rate': ['constant','adaptive'],\n",
        "}\n",
        "from sklearn.model_selection import GridSearchCV\n",
        "clf = GridSearchCV(mlp_gs, parameter_space, n_jobs=-1, cv=5)\n",
        "clf.fit(X, y) # X is train samples and y is the corresponding labels"
      ],
      "execution_count": null,
      "outputs": []
    },
    {
      "cell_type": "code",
      "metadata": {
        "id": "mNR3l5f7hQO4"
      },
      "source": [
        "print('Best parameters found:\\n', clf.best_params_)"
      ],
      "execution_count": null,
      "outputs": []
    },
    {
      "cell_type": "code",
      "metadata": {
        "id": "ss9i6hKrjqna"
      },
      "source": [
        "# Scale the targets\n",
        "scaler = StandardScaler()\n",
        "\n",
        "# Fit the training data\n",
        "scaler.fit(X_train)\n",
        "\n",
        "# Transform the features\n",
        "X_train = scaler.transform(X_train)\n",
        "X_val = scaler.transform(X_val)\n",
        "\n",
        "# Create instance of MLPClassifier\n",
        "mlp = MLPClassifier(hidden_layer_sizes=(10,10,10), activation='relu', max_iter=350, solver='adam', alpha=0.0001, learning_rate='constant')\n",
        "mlp.fit(X_train, y_train)\n",
        "\n",
        "# Make predictions\n",
        "y_pred = mlp.predict(X_val)\n",
        "\n",
        "# Evaluate the model\n",
        "cm = confusion_matrix(y_val, y_pred)\n",
        "print(cm)\n",
        "print('\\n')\n",
        "print(classification_report(y_val, y_pred))"
      ],
      "execution_count": null,
      "outputs": []
    },
    {
      "cell_type": "markdown",
      "metadata": {
        "id": "cU6ZlywCa1Zt"
      },
      "source": [
        "## Predict Test Data"
      ]
    },
    {
      "cell_type": "code",
      "metadata": {
        "id": "HXpq0OXJO9AC",
        "outputId": "351c60da-dfec-4fe9-ea0c-3467d0ef228e",
        "colab": {
          "base_uri": "https://localhost:8080/",
          "height": 351
        }
      },
      "source": [
        "# load test data\n",
        "test = pd.read_csv('/content/drive/My Drive/Akeed Recommendation Files/clustered_test.csv')\n",
        "test.head()"
      ],
      "execution_count": null,
      "outputs": [
        {
          "output_type": "execute_result",
          "data": {
            "text/html": [
              "<div>\n",
              "<style scoped>\n",
              "    .dataframe tbody tr th:only-of-type {\n",
              "        vertical-align: middle;\n",
              "    }\n",
              "\n",
              "    .dataframe tbody tr th {\n",
              "        vertical-align: top;\n",
              "    }\n",
              "\n",
              "    .dataframe thead th {\n",
              "        text-align: right;\n",
              "    }\n",
              "</style>\n",
              "<table border=\"1\" class=\"dataframe\">\n",
              "  <thead>\n",
              "    <tr style=\"text-align: right;\">\n",
              "      <th></th>\n",
              "      <th>akeed_customer_id</th>\n",
              "      <th>gender</th>\n",
              "      <th>status_x</th>\n",
              "      <th>verified_x</th>\n",
              "      <th>location_number</th>\n",
              "      <th>latitude_customer</th>\n",
              "      <th>longitude_customer</th>\n",
              "      <th>id</th>\n",
              "      <th>authentication_id</th>\n",
              "      <th>latitude_vendor</th>\n",
              "      <th>longitude_vendor</th>\n",
              "      <th>vendor_category_en</th>\n",
              "      <th>vendor_category_id</th>\n",
              "      <th>delivery_charge</th>\n",
              "      <th>serving_distance</th>\n",
              "      <th>is_open</th>\n",
              "      <th>prepration_time</th>\n",
              "      <th>discount_percentage</th>\n",
              "      <th>status_y</th>\n",
              "      <th>verified_y</th>\n",
              "      <th>rank</th>\n",
              "      <th>vendor_rating</th>\n",
              "      <th>primary_tags</th>\n",
              "      <th>vendor_tag</th>\n",
              "      <th>device_type</th>\n",
              "      <th>CID X LOC_NUM X VENDOR</th>\n",
              "      <th>duration</th>\n",
              "      <th>haversine_dist</th>\n",
              "      <th>u_diff</th>\n",
              "      <th>normalized_kmeans</th>\n",
              "    </tr>\n",
              "  </thead>\n",
              "  <tbody>\n",
              "    <tr>\n",
              "      <th>0</th>\n",
              "      <td>ICE2DJP</td>\n",
              "      <td>0</td>\n",
              "      <td>1</td>\n",
              "      <td>1</td>\n",
              "      <td>0</td>\n",
              "      <td>-96.44</td>\n",
              "      <td>-67.2</td>\n",
              "      <td>4</td>\n",
              "      <td>118597.0</td>\n",
              "      <td>-0.5884</td>\n",
              "      <td>0.7544</td>\n",
              "      <td>Restaurants</td>\n",
              "      <td>2.0</td>\n",
              "      <td>0.0</td>\n",
              "      <td>6.0</td>\n",
              "      <td>1.0</td>\n",
              "      <td>15</td>\n",
              "      <td>0.0</td>\n",
              "      <td>1.0</td>\n",
              "      <td>1</td>\n",
              "      <td>11</td>\n",
              "      <td>4.4</td>\n",
              "      <td>4</td>\n",
              "      <td>2,4,5,8,91,22,12,24,16,23</td>\n",
              "      <td>3</td>\n",
              "      <td>ICE2DJP X 0 X 4</td>\n",
              "      <td>12</td>\n",
              "      <td>10210.781498</td>\n",
              "      <td>789</td>\n",
              "      <td>1</td>\n",
              "    </tr>\n",
              "    <tr>\n",
              "      <th>1</th>\n",
              "      <td>ICE2DJP</td>\n",
              "      <td>0</td>\n",
              "      <td>1</td>\n",
              "      <td>1</td>\n",
              "      <td>0</td>\n",
              "      <td>-96.44</td>\n",
              "      <td>-67.2</td>\n",
              "      <td>13</td>\n",
              "      <td>118608.0</td>\n",
              "      <td>-0.4717</td>\n",
              "      <td>0.7446</td>\n",
              "      <td>Restaurants</td>\n",
              "      <td>2.0</td>\n",
              "      <td>0.7</td>\n",
              "      <td>5.0</td>\n",
              "      <td>1.0</td>\n",
              "      <td>14</td>\n",
              "      <td>0.0</td>\n",
              "      <td>1.0</td>\n",
              "      <td>1</td>\n",
              "      <td>11</td>\n",
              "      <td>4.7</td>\n",
              "      <td>7</td>\n",
              "      <td>4,41,51,34,27,15,24,16,28</td>\n",
              "      <td>3</td>\n",
              "      <td>ICE2DJP X 0 X 13</td>\n",
              "      <td>14</td>\n",
              "      <td>10223.800918</td>\n",
              "      <td>788</td>\n",
              "      <td>1</td>\n",
              "    </tr>\n",
              "    <tr>\n",
              "      <th>2</th>\n",
              "      <td>ICE2DJP</td>\n",
              "      <td>0</td>\n",
              "      <td>1</td>\n",
              "      <td>1</td>\n",
              "      <td>0</td>\n",
              "      <td>-96.44</td>\n",
              "      <td>-67.2</td>\n",
              "      <td>20</td>\n",
              "      <td>118616.0</td>\n",
              "      <td>-0.4075</td>\n",
              "      <td>0.6436</td>\n",
              "      <td>Restaurants</td>\n",
              "      <td>2.0</td>\n",
              "      <td>0.0</td>\n",
              "      <td>8.0</td>\n",
              "      <td>1.0</td>\n",
              "      <td>19</td>\n",
              "      <td>0.0</td>\n",
              "      <td>1.0</td>\n",
              "      <td>1</td>\n",
              "      <td>1</td>\n",
              "      <td>4.5</td>\n",
              "      <td>71</td>\n",
              "      <td>4,8,91,10</td>\n",
              "      <td>3</td>\n",
              "      <td>ICE2DJP X 0 X 20</td>\n",
              "      <td>14</td>\n",
              "      <td>10232.068678</td>\n",
              "      <td>789</td>\n",
              "      <td>1</td>\n",
              "    </tr>\n",
              "    <tr>\n",
              "      <th>3</th>\n",
              "      <td>ICE2DJP</td>\n",
              "      <td>0</td>\n",
              "      <td>1</td>\n",
              "      <td>1</td>\n",
              "      <td>0</td>\n",
              "      <td>-96.44</td>\n",
              "      <td>-67.2</td>\n",
              "      <td>23</td>\n",
              "      <td>118619.0</td>\n",
              "      <td>-0.5854</td>\n",
              "      <td>0.7540</td>\n",
              "      <td>Restaurants</td>\n",
              "      <td>2.0</td>\n",
              "      <td>0.0</td>\n",
              "      <td>5.0</td>\n",
              "      <td>1.0</td>\n",
              "      <td>16</td>\n",
              "      <td>0.0</td>\n",
              "      <td>1.0</td>\n",
              "      <td>1</td>\n",
              "      <td>11</td>\n",
              "      <td>4.5</td>\n",
              "      <td>46</td>\n",
              "      <td>5,8,30,24</td>\n",
              "      <td>3</td>\n",
              "      <td>ICE2DJP X 0 X 23</td>\n",
              "      <td>12</td>\n",
              "      <td>10211.117900</td>\n",
              "      <td>784</td>\n",
              "      <td>1</td>\n",
              "    </tr>\n",
              "    <tr>\n",
              "      <th>4</th>\n",
              "      <td>ICE2DJP</td>\n",
              "      <td>0</td>\n",
              "      <td>1</td>\n",
              "      <td>1</td>\n",
              "      <td>0</td>\n",
              "      <td>-96.44</td>\n",
              "      <td>-67.2</td>\n",
              "      <td>28</td>\n",
              "      <td>118624.0</td>\n",
              "      <td>0.4807</td>\n",
              "      <td>0.5527</td>\n",
              "      <td>Restaurants</td>\n",
              "      <td>2.0</td>\n",
              "      <td>0.7</td>\n",
              "      <td>15.0</td>\n",
              "      <td>1.0</td>\n",
              "      <td>10</td>\n",
              "      <td>0.0</td>\n",
              "      <td>1.0</td>\n",
              "      <td>1</td>\n",
              "      <td>11</td>\n",
              "      <td>4.4</td>\n",
              "      <td>32</td>\n",
              "      <td>5</td>\n",
              "      <td>3</td>\n",
              "      <td>ICE2DJP X 0 X 28</td>\n",
              "      <td>12</td>\n",
              "      <td>10331.347778</td>\n",
              "      <td>787</td>\n",
              "      <td>1</td>\n",
              "    </tr>\n",
              "  </tbody>\n",
              "</table>\n",
              "</div>"
            ],
            "text/plain": [
              "  akeed_customer_id  gender  ...  u_diff  normalized_kmeans\n",
              "0           ICE2DJP       0  ...     789                  1\n",
              "1           ICE2DJP       0  ...     788                  1\n",
              "2           ICE2DJP       0  ...     789                  1\n",
              "3           ICE2DJP       0  ...     784                  1\n",
              "4           ICE2DJP       0  ...     787                  1\n",
              "\n",
              "[5 rows x 30 columns]"
            ]
          },
          "metadata": {
            "tags": []
          },
          "execution_count": 14
        }
      ]
    },
    {
      "cell_type": "code",
      "metadata": {
        "id": "KHi_BuJb_j07"
      },
      "source": [
        "# assign target and variables\n",
        "X_test = test.loc[:,['gender', 'status_x', 'verified_x', 'location_number',\n",
        "       'latitude_customer', 'id', 'latitude_vendor', 'longitude_vendor',\n",
        "       'vendor_category_id', 'delivery_charge', 'serving_distance',\n",
        "       'prepration_time', 'discount_percentage', 'verified_y', 'rank',\n",
        "       'vendor_rating', 'primary_tags', 'duration', 'haversine_dist', 'u_diff', 'normalized_kmeans']]"
      ],
      "execution_count": null,
      "outputs": []
    },
    {
      "cell_type": "code",
      "metadata": {
        "id": "EUHok7o7Z56b",
        "outputId": "b9bb1a53-0ff2-44fc-a118-3b27cc54761e",
        "colab": {
          "base_uri": "https://localhost:8080/",
          "height": 34
        }
      },
      "source": [
        "# assign target and variables\n",
        "# X_test = test[X.columns]\n",
        "X_test.shape"
      ],
      "execution_count": null,
      "outputs": [
        {
          "output_type": "execute_result",
          "data": {
            "text/plain": [
              "(1631700, 21)"
            ]
          },
          "metadata": {
            "tags": []
          },
          "execution_count": 16
        }
      ]
    },
    {
      "cell_type": "code",
      "metadata": {
        "id": "tMpAbISab1xA"
      },
      "source": [
        "# scale the data\n",
        "X_test = scaler.transform(X_test)"
      ],
      "execution_count": null,
      "outputs": []
    },
    {
      "cell_type": "code",
      "metadata": {
        "id": "MXMd6nb7b14k"
      },
      "source": [
        "# make predictions\n",
        "predictions = mlp.predict(X_test)\n",
        "pred_prob = mlp.predict_proba(X_test)"
      ],
      "execution_count": null,
      "outputs": []
    },
    {
      "cell_type": "code",
      "metadata": {
        "id": "NqWce_M6b1qQ",
        "outputId": "eec93cb6-127f-40c8-b349-9ce3ce5cb032",
        "colab": {
          "base_uri": "https://localhost:8080/",
          "height": 34
        }
      },
      "source": [
        "len(predictions)"
      ],
      "execution_count": null,
      "outputs": [
        {
          "output_type": "execute_result",
          "data": {
            "text/plain": [
              "1631700"
            ]
          },
          "metadata": {
            "tags": []
          },
          "execution_count": 28
        }
      ]
    },
    {
      "cell_type": "code",
      "metadata": {
        "id": "nBlYKQysZ5lD"
      },
      "source": [
        "#probability predictions of target classes\n",
        "prob_class_1 = mlp.predict_proba(X_test)[:, 1] \n",
        "prob_class_0 = mlp.predict_proba(X_test)[:, 0] "
      ],
      "execution_count": null,
      "outputs": []
    },
    {
      "cell_type": "code",
      "metadata": {
        "id": "4JAu5hl8hk8f",
        "outputId": "c4019935-79db-475a-f853-6025c5f3ad84",
        "colab": {
          "base_uri": "https://localhost:8080/",
          "height": 197
        }
      },
      "source": [
        "# create submission file\n",
        "test['predictions'] = predictions\n",
        "sub1 = test.loc[:,['CID X LOC_NUM X VENDOR', 'predictions']]\n",
        "sub1['prob_class1'] = prob_class_1\n",
        "sub1['prob_class0'] = prob_class_0\n",
        "sub1.head()"
      ],
      "execution_count": null,
      "outputs": [
        {
          "output_type": "execute_result",
          "data": {
            "text/html": [
              "<div>\n",
              "<style scoped>\n",
              "    .dataframe tbody tr th:only-of-type {\n",
              "        vertical-align: middle;\n",
              "    }\n",
              "\n",
              "    .dataframe tbody tr th {\n",
              "        vertical-align: top;\n",
              "    }\n",
              "\n",
              "    .dataframe thead th {\n",
              "        text-align: right;\n",
              "    }\n",
              "</style>\n",
              "<table border=\"1\" class=\"dataframe\">\n",
              "  <thead>\n",
              "    <tr style=\"text-align: right;\">\n",
              "      <th></th>\n",
              "      <th>CID X LOC_NUM X VENDOR</th>\n",
              "      <th>predictions</th>\n",
              "      <th>prob_class1</th>\n",
              "      <th>prob_class0</th>\n",
              "    </tr>\n",
              "  </thead>\n",
              "  <tbody>\n",
              "    <tr>\n",
              "      <th>0</th>\n",
              "      <td>ICE2DJP X 0 X 4</td>\n",
              "      <td>0.0</td>\n",
              "      <td>0.023588</td>\n",
              "      <td>0.976412</td>\n",
              "    </tr>\n",
              "    <tr>\n",
              "      <th>1</th>\n",
              "      <td>ICE2DJP X 0 X 13</td>\n",
              "      <td>0.0</td>\n",
              "      <td>0.031956</td>\n",
              "      <td>0.968044</td>\n",
              "    </tr>\n",
              "    <tr>\n",
              "      <th>2</th>\n",
              "      <td>ICE2DJP X 0 X 20</td>\n",
              "      <td>0.0</td>\n",
              "      <td>0.037950</td>\n",
              "      <td>0.962050</td>\n",
              "    </tr>\n",
              "    <tr>\n",
              "      <th>3</th>\n",
              "      <td>ICE2DJP X 0 X 23</td>\n",
              "      <td>0.0</td>\n",
              "      <td>0.027763</td>\n",
              "      <td>0.972237</td>\n",
              "    </tr>\n",
              "    <tr>\n",
              "      <th>4</th>\n",
              "      <td>ICE2DJP X 0 X 28</td>\n",
              "      <td>0.0</td>\n",
              "      <td>0.017647</td>\n",
              "      <td>0.982353</td>\n",
              "    </tr>\n",
              "  </tbody>\n",
              "</table>\n",
              "</div>"
            ],
            "text/plain": [
              "  CID X LOC_NUM X VENDOR  predictions  prob_class1  prob_class0\n",
              "0        ICE2DJP X 0 X 4          0.0     0.023588     0.976412\n",
              "1       ICE2DJP X 0 X 13          0.0     0.031956     0.968044\n",
              "2       ICE2DJP X 0 X 20          0.0     0.037950     0.962050\n",
              "3       ICE2DJP X 0 X 23          0.0     0.027763     0.972237\n",
              "4       ICE2DJP X 0 X 28          0.0     0.017647     0.982353"
            ]
          },
          "metadata": {
            "tags": []
          },
          "execution_count": 30
        }
      ]
    },
    {
      "cell_type": "code",
      "metadata": {
        "id": "DIKhB8vUhlPS",
        "outputId": "711d7946-cd29-423f-bc9c-ad86b2cb7842",
        "colab": {
          "base_uri": "https://localhost:8080/",
          "height": 197
        }
      },
      "source": [
        "# load sample submission\n",
        "sample_submission = pd.read_csv('/content/drive/My Drive/Akeed Recommendation Files/SampleSubmission.csv')\n",
        "sample_submission.head()"
      ],
      "execution_count": null,
      "outputs": [
        {
          "output_type": "execute_result",
          "data": {
            "text/html": [
              "<div>\n",
              "<style scoped>\n",
              "    .dataframe tbody tr th:only-of-type {\n",
              "        vertical-align: middle;\n",
              "    }\n",
              "\n",
              "    .dataframe tbody tr th {\n",
              "        vertical-align: top;\n",
              "    }\n",
              "\n",
              "    .dataframe thead th {\n",
              "        text-align: right;\n",
              "    }\n",
              "</style>\n",
              "<table border=\"1\" class=\"dataframe\">\n",
              "  <thead>\n",
              "    <tr style=\"text-align: right;\">\n",
              "      <th></th>\n",
              "      <th>CID X LOC_NUM X VENDOR</th>\n",
              "      <th>target</th>\n",
              "    </tr>\n",
              "  </thead>\n",
              "  <tbody>\n",
              "    <tr>\n",
              "      <th>0</th>\n",
              "      <td>Z59FTQD X 0 X 243</td>\n",
              "      <td>0</td>\n",
              "    </tr>\n",
              "    <tr>\n",
              "      <th>1</th>\n",
              "      <td>0JP29SK X 0 X 243</td>\n",
              "      <td>0</td>\n",
              "    </tr>\n",
              "    <tr>\n",
              "      <th>2</th>\n",
              "      <td>0JP29SK X 1 X 243</td>\n",
              "      <td>0</td>\n",
              "    </tr>\n",
              "    <tr>\n",
              "      <th>3</th>\n",
              "      <td>0JP29SK X 2 X 243</td>\n",
              "      <td>0</td>\n",
              "    </tr>\n",
              "    <tr>\n",
              "      <th>4</th>\n",
              "      <td>0JP29SK X 3 X 243</td>\n",
              "      <td>0</td>\n",
              "    </tr>\n",
              "  </tbody>\n",
              "</table>\n",
              "</div>"
            ],
            "text/plain": [
              "  CID X LOC_NUM X VENDOR  target\n",
              "0      Z59FTQD X 0 X 243       0\n",
              "1      0JP29SK X 0 X 243       0\n",
              "2      0JP29SK X 1 X 243       0\n",
              "3      0JP29SK X 2 X 243       0\n",
              "4      0JP29SK X 3 X 243       0"
            ]
          },
          "metadata": {
            "tags": []
          },
          "execution_count": 44
        }
      ]
    },
    {
      "cell_type": "code",
      "metadata": {
        "id": "zRsf1LmShlXn",
        "outputId": "3289717e-b797-4c14-e80e-1756d751b0ce",
        "colab": {
          "base_uri": "https://localhost:8080/",
          "height": 34
        }
      },
      "source": [
        "# merge predictions with sample submission to get complete data\n",
        "ss1 = sub1[['CID X LOC_NUM X VENDOR', 'predictions']]\n",
        "ss1 = pd.merge(ss1, sample_submission, how='outer', on=['CID X LOC_NUM X VENDOR'])\n",
        "\n",
        "ss1.shape"
      ],
      "execution_count": null,
      "outputs": [
        {
          "output_type": "execute_result",
          "data": {
            "text/plain": [
              "(1672000, 3)"
            ]
          },
          "metadata": {
            "tags": []
          },
          "execution_count": 32
        }
      ]
    },
    {
      "cell_type": "code",
      "metadata": {
        "id": "ymeVZZCUlHiZ",
        "outputId": "ac042855-a3e6-4b14-a901-a49a8480d326",
        "colab": {
          "base_uri": "https://localhost:8080/",
          "height": 197
        }
      },
      "source": [
        "# drop target column\n",
        "ss1 = ss1.drop('target', 1)\n",
        "ss1.head()"
      ],
      "execution_count": null,
      "outputs": [
        {
          "output_type": "execute_result",
          "data": {
            "text/html": [
              "<div>\n",
              "<style scoped>\n",
              "    .dataframe tbody tr th:only-of-type {\n",
              "        vertical-align: middle;\n",
              "    }\n",
              "\n",
              "    .dataframe tbody tr th {\n",
              "        vertical-align: top;\n",
              "    }\n",
              "\n",
              "    .dataframe thead th {\n",
              "        text-align: right;\n",
              "    }\n",
              "</style>\n",
              "<table border=\"1\" class=\"dataframe\">\n",
              "  <thead>\n",
              "    <tr style=\"text-align: right;\">\n",
              "      <th></th>\n",
              "      <th>CID X LOC_NUM X VENDOR</th>\n",
              "      <th>predictions</th>\n",
              "    </tr>\n",
              "  </thead>\n",
              "  <tbody>\n",
              "    <tr>\n",
              "      <th>0</th>\n",
              "      <td>ICE2DJP X 0 X 4</td>\n",
              "      <td>0.0</td>\n",
              "    </tr>\n",
              "    <tr>\n",
              "      <th>1</th>\n",
              "      <td>ICE2DJP X 0 X 13</td>\n",
              "      <td>0.0</td>\n",
              "    </tr>\n",
              "    <tr>\n",
              "      <th>2</th>\n",
              "      <td>ICE2DJP X 0 X 20</td>\n",
              "      <td>0.0</td>\n",
              "    </tr>\n",
              "    <tr>\n",
              "      <th>3</th>\n",
              "      <td>ICE2DJP X 0 X 23</td>\n",
              "      <td>0.0</td>\n",
              "    </tr>\n",
              "    <tr>\n",
              "      <th>4</th>\n",
              "      <td>ICE2DJP X 0 X 28</td>\n",
              "      <td>0.0</td>\n",
              "    </tr>\n",
              "  </tbody>\n",
              "</table>\n",
              "</div>"
            ],
            "text/plain": [
              "  CID X LOC_NUM X VENDOR  predictions\n",
              "0        ICE2DJP X 0 X 4          0.0\n",
              "1       ICE2DJP X 0 X 13          0.0\n",
              "2       ICE2DJP X 0 X 20          0.0\n",
              "3       ICE2DJP X 0 X 23          0.0\n",
              "4       ICE2DJP X 0 X 28          0.0"
            ]
          },
          "metadata": {
            "tags": []
          },
          "execution_count": 33
        }
      ]
    },
    {
      "cell_type": "code",
      "metadata": {
        "id": "GnzKP4DQM9v3",
        "outputId": "4ef12052-5b04-4280-aaf8-98ea5728bb43",
        "colab": {
          "base_uri": "https://localhost:8080/",
          "height": 70
        }
      },
      "source": [
        "ss1.predictions.value_counts()"
      ],
      "execution_count": null,
      "outputs": [
        {
          "output_type": "execute_result",
          "data": {
            "text/plain": [
              "0.0    1568122\n",
              "1.0      63578\n",
              "Name: predictions, dtype: int64"
            ]
          },
          "metadata": {
            "tags": []
          },
          "execution_count": 34
        }
      ]
    },
    {
      "cell_type": "code",
      "metadata": {
        "id": "BEkfbBfLlHl_",
        "outputId": "ce9cf623-7c01-4f36-8e51-569040e8b1ba",
        "colab": {
          "base_uri": "https://localhost:8080/",
          "height": 34
        }
      },
      "source": [
        "# check for null values\n",
        "ss1.predictions.isna().sum()"
      ],
      "execution_count": null,
      "outputs": [
        {
          "output_type": "execute_result",
          "data": {
            "text/plain": [
              "40300"
            ]
          },
          "metadata": {
            "tags": []
          },
          "execution_count": 35
        }
      ]
    },
    {
      "cell_type": "code",
      "metadata": {
        "id": "eXfCmC1FlHqK",
        "outputId": "dbdd7b1b-e673-4528-a298-4507135a1794",
        "colab": {
          "base_uri": "https://localhost:8080/",
          "height": 34
        }
      },
      "source": [
        "ss1.predictions.fillna('0', inplace=True)\n",
        "ss1.predictions.isna().sum()"
      ],
      "execution_count": null,
      "outputs": [
        {
          "output_type": "execute_result",
          "data": {
            "text/plain": [
              "0"
            ]
          },
          "metadata": {
            "tags": []
          },
          "execution_count": 36
        }
      ]
    },
    {
      "cell_type": "code",
      "metadata": {
        "id": "BA6nNts8lH0x"
      },
      "source": [
        "# save submission file in drive\n",
        "ss1.to_csv('/content/drive/My Drive/Akeed Recommendation Files/submission1.csv', index =False)"
      ],
      "execution_count": null,
      "outputs": []
    },
    {
      "cell_type": "markdown",
      "metadata": {
        "id": "Mt1vn-EF-Iig"
      },
      "source": [
        "This submission had a score of 0.1537 ranked 90th on the leaderboard. To improve performance will break down the data into clusters which we will then use to build different models. For clusters 3 and 4 where we observed that no orders were made, we will predict no orders will be made from these clusters on the test set."
      ]
    },
    {
      "cell_type": "code",
      "metadata": {
        "id": "lOiPuwWGlHx-"
      },
      "source": [
        "# Split data set by clusters\n",
        "train_cluster0 = train[train.normalized_kmeans == 0].reset_index(drop=True)\n",
        "train_cluster1 = train[train.normalized_kmeans == 1].reset_index(drop=True)\n",
        "train_cluster2 = train[train.normalized_kmeans == 2].reset_index(drop=True)\n",
        "train_cluster3 = train[train.normalized_kmeans == 3].reset_index(drop=True)\n",
        "train_cluster4 = train[train.normalized_kmeans == 4].reset_index(drop=True)"
      ],
      "execution_count": null,
      "outputs": []
    },
    {
      "cell_type": "code",
      "metadata": {
        "id": "amNMi933lHvh"
      },
      "source": [
        "# Split data set by clusters\n",
        "test_cluster0 = test[test.normalized_kmeans == 0].reset_index(drop=True)\n",
        "test_cluster1 = test[test.normalized_kmeans == 1].reset_index(drop=True)\n",
        "test_cluster2 = test[test.normalized_kmeans == 2].reset_index(drop=True)\n",
        "test_cluster3 = test[test.normalized_kmeans == 3].reset_index(drop=True)\n",
        "test_cluster4 = test[test.normalized_kmeans == 4].reset_index(drop=True)"
      ],
      "execution_count": null,
      "outputs": []
    },
    {
      "cell_type": "code",
      "metadata": {
        "id": "nVLPZdIdKk68",
        "outputId": "e24074b2-fd4c-4aa1-8650-a638709e7019",
        "colab": {
          "base_uri": "https://localhost:8080/",
          "height": 34
        }
      },
      "source": [
        "test_cluster0.shape"
      ],
      "execution_count": null,
      "outputs": [
        {
          "output_type": "execute_result",
          "data": {
            "text/plain": [
              "(192294, 31)"
            ]
          },
          "metadata": {
            "tags": []
          },
          "execution_count": 63
        }
      ]
    },
    {
      "cell_type": "code",
      "metadata": {
        "id": "LslPgTtrJ0HG",
        "outputId": "5796e9b5-2e71-491d-c3ea-efeb2caf43e9",
        "colab": {
          "base_uri": "https://localhost:8080/",
          "height": 123
        }
      },
      "source": [
        "test.normalized_kmeans.value_counts()"
      ],
      "execution_count": null,
      "outputs": [
        {
          "output_type": "execute_result",
          "data": {
            "text/plain": [
              "2    865348\n",
              "1    462055\n",
              "0    192294\n",
              "4     68854\n",
              "3     43149\n",
              "Name: normalized_kmeans, dtype: int64"
            ]
          },
          "metadata": {
            "tags": []
          },
          "execution_count": 18
        }
      ]
    },
    {
      "cell_type": "markdown",
      "metadata": {
        "id": "0vnfkXkpFGXt"
      },
      "source": [
        "### Cluster 0"
      ]
    },
    {
      "cell_type": "code",
      "metadata": {
        "id": "8q-1USJ4DcIk",
        "outputId": "3472cbe7-523c-46f7-a17b-a787f00fae8a",
        "colab": {
          "base_uri": "https://localhost:8080/",
          "height": 247
        }
      },
      "source": [
        "# split cluster 0 into train and test\n",
        "X0 = train_cluster0.drop(['normalized_kmeans', 'CID X LOC_NUM X VENDOR', 'vendor_tag', 'target'], 1)\n",
        "y0 = train_cluster0.target\n",
        "\n",
        "# split the data set into train and test\n",
        "X0_train, X0_val, y0_train, y0_val = train_test_split(X0, y0, test_size=0.2, random_state=23)\n",
        "\n",
        "# Scale the targets\n",
        "scaler = StandardScaler()\n",
        "\n",
        "# Fit the training data\n",
        "scaler.fit(X0_train)\n",
        "\n",
        "# Transform the features\n",
        "X0_train = scaler.transform(X0_train)\n",
        "X0_val = scaler.transform(X0_val)\n",
        "\n",
        "# Create instance of MLPClassifier\n",
        "mlp0 = MLPClassifier(hidden_layer_sizes=(10,10,10), activation='relu', max_iter=500)\n",
        "mlp0.fit(X0_train, y0_train)\n",
        "\n",
        "# Make predictions\n",
        "y0_pred = mlp0.predict(X0_val)\n",
        "\n",
        "# Evaluate the model\n",
        "cm = confusion_matrix(y0_val, y0_pred)\n",
        "print(cm)\n",
        "print('\\n')\n",
        "print(classification_report(y0_val, y0_pred))"
      ],
      "execution_count": null,
      "outputs": [
        {
          "output_type": "stream",
          "text": [
            "[[7514  594]\n",
            " [ 858 1292]]\n",
            "\n",
            "\n",
            "              precision    recall  f1-score   support\n",
            "\n",
            "         0.0       0.90      0.93      0.91      8108\n",
            "         1.0       0.69      0.60      0.64      2150\n",
            "\n",
            "    accuracy                           0.86     10258\n",
            "   macro avg       0.79      0.76      0.78     10258\n",
            "weighted avg       0.85      0.86      0.85     10258\n",
            "\n"
          ],
          "name": "stdout"
        }
      ]
    },
    {
      "cell_type": "code",
      "metadata": {
        "id": "mUzxRdb8HsCf",
        "outputId": "ed1d0498-c71e-4193-8664-cca32a0a3c2d",
        "colab": {
          "base_uri": "https://localhost:8080/",
          "height": 197
        }
      },
      "source": [
        "# assign target and variables\n",
        "X0_test = test_cluster0.loc[:,['gender', 'status_x', 'verified_x', 'location_number',\n",
        "       'latitude_customer', 'id', 'latitude_vendor', 'longitude_vendor',\n",
        "       'vendor_category_id', 'delivery_charge', 'serving_distance',\n",
        "       'prepration_time', 'discount_percentage', 'verified_y', 'rank',\n",
        "       'vendor_rating', 'primary_tags', 'duration', 'haversine_dist', 'u_diff']]\n",
        "\n",
        "# scale the data\n",
        "X0_test = scaler.transform(X0_test)\n",
        "# make predictons\n",
        "clust0_preds = mlp0.predict(X0_test)\n",
        "\n",
        "# create submission file\n",
        "test_cluster0['predictions'] = clust0_preds\n",
        "sub_cluster0 = test_cluster0.loc[:,['CID X LOC_NUM X VENDOR', 'predictions']]\n",
        "sub_cluster0.head()"
      ],
      "execution_count": null,
      "outputs": [
        {
          "output_type": "execute_result",
          "data": {
            "text/html": [
              "<div>\n",
              "<style scoped>\n",
              "    .dataframe tbody tr th:only-of-type {\n",
              "        vertical-align: middle;\n",
              "    }\n",
              "\n",
              "    .dataframe tbody tr th {\n",
              "        vertical-align: top;\n",
              "    }\n",
              "\n",
              "    .dataframe thead th {\n",
              "        text-align: right;\n",
              "    }\n",
              "</style>\n",
              "<table border=\"1\" class=\"dataframe\">\n",
              "  <thead>\n",
              "    <tr style=\"text-align: right;\">\n",
              "      <th></th>\n",
              "      <th>CID X LOC_NUM X VENDOR</th>\n",
              "      <th>predictions</th>\n",
              "    </tr>\n",
              "  </thead>\n",
              "  <tbody>\n",
              "    <tr>\n",
              "      <th>0</th>\n",
              "      <td>FWNUI71 X 2 X 295</td>\n",
              "      <td>0.0</td>\n",
              "    </tr>\n",
              "    <tr>\n",
              "      <th>1</th>\n",
              "      <td>FWNUI71 X 2 X 299</td>\n",
              "      <td>0.0</td>\n",
              "    </tr>\n",
              "    <tr>\n",
              "      <th>2</th>\n",
              "      <td>FWNUI71 X 2 X 300</td>\n",
              "      <td>0.0</td>\n",
              "    </tr>\n",
              "    <tr>\n",
              "      <th>3</th>\n",
              "      <td>FWNUI71 X 2 X 303</td>\n",
              "      <td>0.0</td>\n",
              "    </tr>\n",
              "    <tr>\n",
              "      <th>4</th>\n",
              "      <td>FWNUI71 X 2 X 310</td>\n",
              "      <td>0.0</td>\n",
              "    </tr>\n",
              "  </tbody>\n",
              "</table>\n",
              "</div>"
            ],
            "text/plain": [
              "  CID X LOC_NUM X VENDOR  predictions\n",
              "0      FWNUI71 X 2 X 295          0.0\n",
              "1      FWNUI71 X 2 X 299          0.0\n",
              "2      FWNUI71 X 2 X 300          0.0\n",
              "3      FWNUI71 X 2 X 303          0.0\n",
              "4      FWNUI71 X 2 X 310          0.0"
            ]
          },
          "metadata": {
            "tags": []
          },
          "execution_count": 50
        }
      ]
    },
    {
      "cell_type": "code",
      "metadata": {
        "id": "Fk5ob8v_JWCW",
        "outputId": "341ebdee-a511-4c60-cd5e-b08dd0ce394f",
        "colab": {
          "base_uri": "https://localhost:8080/",
          "height": 70
        }
      },
      "source": [
        "sub_cluster0.predictions.value_counts()"
      ],
      "execution_count": null,
      "outputs": [
        {
          "output_type": "execute_result",
          "data": {
            "text/plain": [
              "0.0    177313\n",
              "1.0     14981\n",
              "Name: predictions, dtype: int64"
            ]
          },
          "metadata": {
            "tags": []
          },
          "execution_count": 51
        }
      ]
    },
    {
      "cell_type": "markdown",
      "metadata": {
        "id": "a-_087sZFJ-Y"
      },
      "source": [
        "### Cluster 1"
      ]
    },
    {
      "cell_type": "code",
      "metadata": {
        "id": "hMS4vfo1EMvL",
        "outputId": "ea9fd985-9c01-450f-c105-d2dbf9444648",
        "colab": {
          "base_uri": "https://localhost:8080/",
          "height": 247
        }
      },
      "source": [
        "# split cluster 1 into train and test\n",
        "X1 = train_cluster1.drop(['normalized_kmeans', 'CID X LOC_NUM X VENDOR', 'vendor_tag', 'target'], 1)\n",
        "y1 = train_cluster1.target\n",
        "\n",
        "# split the data set into train and test\n",
        "X1_train, X1_val, y1_train, y1_val = train_test_split(X1, y1, test_size=0.2, random_state=23)\n",
        "\n",
        "# Scale the targets\n",
        "scaler = StandardScaler()\n",
        "\n",
        "# Fit the training data\n",
        "scaler.fit(X1_train)\n",
        "\n",
        "# Transform the features\n",
        "X1_train = scaler.transform(X1_train)\n",
        "X1_val = scaler.transform(X1_val)\n",
        "\n",
        "# Create instance of MLPClassifier\n",
        "mlp1 = MLPClassifier(hidden_layer_sizes=(10,10,10), activation='relu', max_iter=500)\n",
        "mlp1.fit(X1_train, y1_train)\n",
        "\n",
        "# Make predictions\n",
        "y1_pred = mlp1.predict(X1_val)\n",
        "\n",
        "# Evaluate the model\n",
        "cm = confusion_matrix(y1_val, y1_pred)\n",
        "print(cm)\n",
        "print('\\n')\n",
        "print(classification_report(y1_val, y1_pred))"
      ],
      "execution_count": null,
      "outputs": [
        {
          "output_type": "stream",
          "text": [
            "[[18757   628]\n",
            " [ 3196  1460]]\n",
            "\n",
            "\n",
            "              precision    recall  f1-score   support\n",
            "\n",
            "         0.0       0.85      0.97      0.91     19385\n",
            "         1.0       0.70      0.31      0.43      4656\n",
            "\n",
            "    accuracy                           0.84     24041\n",
            "   macro avg       0.78      0.64      0.67     24041\n",
            "weighted avg       0.82      0.84      0.82     24041\n",
            "\n"
          ],
          "name": "stdout"
        }
      ]
    },
    {
      "cell_type": "code",
      "metadata": {
        "id": "tWHXDioBLeDA",
        "outputId": "adb175de-f90a-4414-c081-fb69597df373",
        "colab": {
          "base_uri": "https://localhost:8080/",
          "height": 197
        }
      },
      "source": [
        "# assign target and variables\n",
        "X1_test = test_cluster1.loc[:,['gender', 'status_x', 'verified_x', 'location_number',\n",
        "       'latitude_customer', 'id', 'latitude_vendor', 'longitude_vendor',\n",
        "       'vendor_category_id', 'delivery_charge', 'serving_distance',\n",
        "       'prepration_time', 'discount_percentage', 'verified_y', 'rank',\n",
        "       'vendor_rating', 'primary_tags', 'duration', 'haversine_dist', 'u_diff']]\n",
        "\n",
        "# scale the data\n",
        "X1_test = scaler.transform(X1_test)\n",
        "# make predictons\n",
        "clust1_preds = mlp1.predict(X1_test)\n",
        "\n",
        "# create submission file\n",
        "test_cluster1['predictions'] = clust1_preds\n",
        "sub_cluster1 = test_cluster1.loc[:,['CID X LOC_NUM X VENDOR', 'predictions']]\n",
        "sub_cluster1.head()"
      ],
      "execution_count": null,
      "outputs": [
        {
          "output_type": "execute_result",
          "data": {
            "text/html": [
              "<div>\n",
              "<style scoped>\n",
              "    .dataframe tbody tr th:only-of-type {\n",
              "        vertical-align: middle;\n",
              "    }\n",
              "\n",
              "    .dataframe tbody tr th {\n",
              "        vertical-align: top;\n",
              "    }\n",
              "\n",
              "    .dataframe thead th {\n",
              "        text-align: right;\n",
              "    }\n",
              "</style>\n",
              "<table border=\"1\" class=\"dataframe\">\n",
              "  <thead>\n",
              "    <tr style=\"text-align: right;\">\n",
              "      <th></th>\n",
              "      <th>CID X LOC_NUM X VENDOR</th>\n",
              "      <th>predictions</th>\n",
              "    </tr>\n",
              "  </thead>\n",
              "  <tbody>\n",
              "    <tr>\n",
              "      <th>0</th>\n",
              "      <td>ICE2DJP X 0 X 4</td>\n",
              "      <td>0.0</td>\n",
              "    </tr>\n",
              "    <tr>\n",
              "      <th>1</th>\n",
              "      <td>ICE2DJP X 0 X 13</td>\n",
              "      <td>0.0</td>\n",
              "    </tr>\n",
              "    <tr>\n",
              "      <th>2</th>\n",
              "      <td>ICE2DJP X 0 X 20</td>\n",
              "      <td>0.0</td>\n",
              "    </tr>\n",
              "    <tr>\n",
              "      <th>3</th>\n",
              "      <td>ICE2DJP X 0 X 23</td>\n",
              "      <td>0.0</td>\n",
              "    </tr>\n",
              "    <tr>\n",
              "      <th>4</th>\n",
              "      <td>ICE2DJP X 0 X 28</td>\n",
              "      <td>0.0</td>\n",
              "    </tr>\n",
              "  </tbody>\n",
              "</table>\n",
              "</div>"
            ],
            "text/plain": [
              "  CID X LOC_NUM X VENDOR  predictions\n",
              "0        ICE2DJP X 0 X 4          0.0\n",
              "1       ICE2DJP X 0 X 13          0.0\n",
              "2       ICE2DJP X 0 X 20          0.0\n",
              "3       ICE2DJP X 0 X 23          0.0\n",
              "4       ICE2DJP X 0 X 28          0.0"
            ]
          },
          "metadata": {
            "tags": []
          },
          "execution_count": 53
        }
      ]
    },
    {
      "cell_type": "code",
      "metadata": {
        "id": "KOVW5NXzL0wn",
        "outputId": "c8c5a75c-2778-4fed-fc84-ae61c7933286",
        "colab": {
          "base_uri": "https://localhost:8080/",
          "height": 70
        }
      },
      "source": [
        "sub_cluster1.predictions.value_counts()"
      ],
      "execution_count": null,
      "outputs": [
        {
          "output_type": "execute_result",
          "data": {
            "text/plain": [
              "0.0    443956\n",
              "1.0     18099\n",
              "Name: predictions, dtype: int64"
            ]
          },
          "metadata": {
            "tags": []
          },
          "execution_count": 54
        }
      ]
    },
    {
      "cell_type": "markdown",
      "metadata": {
        "id": "gyHeMnOdGw7r"
      },
      "source": [
        "### Cluster 2"
      ]
    },
    {
      "cell_type": "code",
      "metadata": {
        "id": "LUNtYWeqGcjo",
        "outputId": "08d328f0-0a05-400f-dc3b-7e4827c650d5",
        "colab": {
          "base_uri": "https://localhost:8080/",
          "height": 247
        }
      },
      "source": [
        "# split cluster 1 into train and test\n",
        "X2 = train_cluster2.drop(['normalized_kmeans', 'CID X LOC_NUM X VENDOR', 'vendor_tag', 'target'], 1)\n",
        "y2 = train_cluster2.target\n",
        "\n",
        "# split the data set into train and test\n",
        "X2_train, X2_val, y2_train, y2_val = train_test_split(X2, y2, test_size=0.2, random_state=23)\n",
        "\n",
        "# Scale the targets\n",
        "scaler = StandardScaler()\n",
        "\n",
        "# Fit the training data\n",
        "scaler.fit(X2_train)\n",
        "\n",
        "# Transform the features\n",
        "X2_train = scaler.transform(X2_train)\n",
        "X2_val = scaler.transform(X2_val)\n",
        "\n",
        "# Create instance of MLPClassifier\n",
        "mlp2 = MLPClassifier(hidden_layer_sizes=(10,10,10), activation='relu', max_iter=500)\n",
        "mlp2.fit(X2_train, y2_train)\n",
        "\n",
        "# Make predictions\n",
        "y2_pred = mlp2.predict(X2_val)\n",
        "\n",
        "# Evaluate the model\n",
        "cm = confusion_matrix(y2_val, y2_pred)\n",
        "print(cm)\n",
        "print('\\n')\n",
        "print(classification_report(y2_val, y2_pred))"
      ],
      "execution_count": null,
      "outputs": [
        {
          "output_type": "stream",
          "text": [
            "[[34803  1908]\n",
            " [ 5003  3645]]\n",
            "\n",
            "\n",
            "              precision    recall  f1-score   support\n",
            "\n",
            "         0.0       0.87      0.95      0.91     36711\n",
            "         1.0       0.66      0.42      0.51      8648\n",
            "\n",
            "    accuracy                           0.85     45359\n",
            "   macro avg       0.77      0.68      0.71     45359\n",
            "weighted avg       0.83      0.85      0.83     45359\n",
            "\n"
          ],
          "name": "stdout"
        }
      ]
    },
    {
      "cell_type": "code",
      "metadata": {
        "id": "fpeEvQYDMaAp",
        "outputId": "e837c98b-4b56-4313-8e7e-0b0b7b3dc9ee",
        "colab": {
          "base_uri": "https://localhost:8080/",
          "height": 197
        }
      },
      "source": [
        "# assign target and variables\n",
        "X2_test = test_cluster2.loc[:,['gender', 'status_x', 'verified_x', 'location_number',\n",
        "       'latitude_customer', 'id', 'latitude_vendor', 'longitude_vendor',\n",
        "       'vendor_category_id', 'delivery_charge', 'serving_distance',\n",
        "       'prepration_time', 'discount_percentage', 'verified_y', 'rank',\n",
        "       'vendor_rating', 'primary_tags', 'duration', 'haversine_dist', 'u_diff']]\n",
        "\n",
        "# scale the data\n",
        "X2_test = scaler.transform(X2_test)\n",
        "# make predictons\n",
        "clust2_preds = mlp2.predict(X2_test)\n",
        "\n",
        "# create submission file\n",
        "test_cluster2['predictions'] = clust2_preds\n",
        "sub_cluster2 = test_cluster2.loc[:,['CID X LOC_NUM X VENDOR', 'predictions']]\n",
        "sub_cluster2.head()"
      ],
      "execution_count": null,
      "outputs": [
        {
          "output_type": "execute_result",
          "data": {
            "text/html": [
              "<div>\n",
              "<style scoped>\n",
              "    .dataframe tbody tr th:only-of-type {\n",
              "        vertical-align: middle;\n",
              "    }\n",
              "\n",
              "    .dataframe tbody tr th {\n",
              "        vertical-align: top;\n",
              "    }\n",
              "\n",
              "    .dataframe thead th {\n",
              "        text-align: right;\n",
              "    }\n",
              "</style>\n",
              "<table border=\"1\" class=\"dataframe\">\n",
              "  <thead>\n",
              "    <tr style=\"text-align: right;\">\n",
              "      <th></th>\n",
              "      <th>CID X LOC_NUM X VENDOR</th>\n",
              "      <th>predictions</th>\n",
              "    </tr>\n",
              "  </thead>\n",
              "  <tbody>\n",
              "    <tr>\n",
              "      <th>0</th>\n",
              "      <td>ICE2DJP X 4 X 231</td>\n",
              "      <td>0.0</td>\n",
              "    </tr>\n",
              "    <tr>\n",
              "      <th>1</th>\n",
              "      <td>ICE2DJP X 5 X 231</td>\n",
              "      <td>0.0</td>\n",
              "    </tr>\n",
              "    <tr>\n",
              "      <th>2</th>\n",
              "      <td>FWNUI71 X 2 X 4</td>\n",
              "      <td>1.0</td>\n",
              "    </tr>\n",
              "    <tr>\n",
              "      <th>3</th>\n",
              "      <td>FWNUI71 X 2 X 13</td>\n",
              "      <td>0.0</td>\n",
              "    </tr>\n",
              "    <tr>\n",
              "      <th>4</th>\n",
              "      <td>FWNUI71 X 2 X 20</td>\n",
              "      <td>1.0</td>\n",
              "    </tr>\n",
              "  </tbody>\n",
              "</table>\n",
              "</div>"
            ],
            "text/plain": [
              "  CID X LOC_NUM X VENDOR  predictions\n",
              "0      ICE2DJP X 4 X 231          0.0\n",
              "1      ICE2DJP X 5 X 231          0.0\n",
              "2        FWNUI71 X 2 X 4          1.0\n",
              "3       FWNUI71 X 2 X 13          0.0\n",
              "4       FWNUI71 X 2 X 20          1.0"
            ]
          },
          "metadata": {
            "tags": []
          },
          "execution_count": 56
        }
      ]
    },
    {
      "cell_type": "code",
      "metadata": {
        "id": "N03qeIbMM3lK",
        "outputId": "ecf98454-f2de-4d8f-cdfe-f2599d2bfdbb",
        "colab": {
          "base_uri": "https://localhost:8080/",
          "height": 70
        }
      },
      "source": [
        "sub_cluster2.predictions.value_counts()"
      ],
      "execution_count": null,
      "outputs": [
        {
          "output_type": "execute_result",
          "data": {
            "text/plain": [
              "0.0    814381\n",
              "1.0     50967\n",
              "Name: predictions, dtype: int64"
            ]
          },
          "metadata": {
            "tags": []
          },
          "execution_count": 57
        }
      ]
    },
    {
      "cell_type": "code",
      "metadata": {
        "id": "qdP8A1FwM5Fy"
      },
      "source": [
        "# create submission file\n",
        "test_cluster3['predictions'] = 0\n",
        "sub_cluster3 = test_cluster3.loc[:,['CID X LOC_NUM X VENDOR', 'predictions']]\n",
        "\n",
        "# create submission file\n",
        "test_cluster4['predictions'] = 0\n",
        "sub_cluster4 = test_cluster4.loc[:,['CID X LOC_NUM X VENDOR', 'predictions']]"
      ],
      "execution_count": null,
      "outputs": []
    },
    {
      "cell_type": "code",
      "metadata": {
        "id": "yHMHl616N3do",
        "outputId": "1aff6d66-710d-495b-bd45-bd2f06760ac8",
        "colab": {
          "base_uri": "https://localhost:8080/",
          "height": 34
        }
      },
      "source": [
        "# merge clustered predictions\n",
        "clustered_submission = pd.concat([sub_cluster0, sub_cluster1, sub_cluster2, sub_cluster3, sub_cluster4], ignore_index=True)\n",
        "clustered_submission.shape"
      ],
      "execution_count": null,
      "outputs": [
        {
          "output_type": "execute_result",
          "data": {
            "text/plain": [
              "(1631700, 2)"
            ]
          },
          "metadata": {
            "tags": []
          },
          "execution_count": 59
        }
      ]
    },
    {
      "cell_type": "code",
      "metadata": {
        "id": "RrK2SluKOgY7",
        "outputId": "5df2fd97-6aee-4ff4-dc37-edc1e48773cd",
        "colab": {
          "base_uri": "https://localhost:8080/",
          "height": 34
        }
      },
      "source": [
        "# merge predictions with sample submission to get complete data\n",
        "ss1 = pd.merge(clustered_submission, sample_submission, how='outer', on=['CID X LOC_NUM X VENDOR'])\n",
        "\n",
        "ss1.shape\n",
        "\n",
        "# drop target column\n",
        "ss1 = ss1.drop('target', 1)\n",
        "ss1.head()\n",
        "\n",
        "ss1.predictions.fillna(0, inplace=True)\n",
        "ss1.predictions.isna().sum()"
      ],
      "execution_count": null,
      "outputs": [
        {
          "output_type": "execute_result",
          "data": {
            "text/plain": [
              "0"
            ]
          },
          "metadata": {
            "tags": []
          },
          "execution_count": 60
        }
      ]
    },
    {
      "cell_type": "code",
      "metadata": {
        "id": "391Jj7J956Hr",
        "outputId": "95e36752-3bd6-4472-ae95-f72480906d4b",
        "colab": {
          "base_uri": "https://localhost:8080/",
          "height": 34
        }
      },
      "source": [
        "ss1.shape"
      ],
      "execution_count": null,
      "outputs": [
        {
          "output_type": "execute_result",
          "data": {
            "text/plain": [
              "(1672000, 2)"
            ]
          },
          "metadata": {
            "tags": []
          },
          "execution_count": 61
        }
      ]
    },
    {
      "cell_type": "code",
      "metadata": {
        "id": "TLW6UWd_POjv",
        "outputId": "d84dba5c-63c5-46e2-9b32-575eea82f921",
        "colab": {
          "base_uri": "https://localhost:8080/",
          "height": 70
        }
      },
      "source": [
        "ss1.predictions.value_counts()"
      ],
      "execution_count": null,
      "outputs": [
        {
          "output_type": "execute_result",
          "data": {
            "text/plain": [
              "0.0    1587953\n",
              "1.0      84047\n",
              "Name: predictions, dtype: int64"
            ]
          },
          "metadata": {
            "tags": []
          },
          "execution_count": 62
        }
      ]
    },
    {
      "cell_type": "code",
      "metadata": {
        "id": "A-XoazLTPS44"
      },
      "source": [
        "# save submission file in drive\n",
        "ss1.to_csv('/content/drive/My Drive/Akeed Recommendation Files/clustered_submission2.csv', index =False)"
      ],
      "execution_count": null,
      "outputs": []
    },
    {
      "cell_type": "code",
      "metadata": {
        "id": "biCromZjAh6O"
      },
      "source": [
        ""
      ],
      "execution_count": null,
      "outputs": []
    }
  ]
}