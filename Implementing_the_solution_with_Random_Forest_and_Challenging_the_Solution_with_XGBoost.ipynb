{
  "nbformat": 4,
  "nbformat_minor": 0,
  "metadata": {
    "colab": {
      "name": "Implementing the solution with Random Forest and Challenging the Solution with XGBoost ",
      "provenance": [],
      "collapsed_sections": [],
      "mount_file_id": "1hAuzb6wk4WiK-fnXmIc4vv1K2GQu_Cm7",
      "authorship_tag": "ABX9TyODHYyKAErZSjkPd04NlENZ",
      "include_colab_link": true
    },
    "kernelspec": {
      "name": "python3",
      "display_name": "Python 3"
    }
  },
  "cells": [
    {
      "cell_type": "markdown",
      "metadata": {
        "id": "view-in-github",
        "colab_type": "text"
      },
      "source": [
        "<a href=\"https://colab.research.google.com/github/nchebet09/Restaurant-Recommender-System/blob/master/Implementing_the_solution_with_Random_Forest_and_Challenging_the_Solution_with_XGBoost.ipynb\" target=\"_parent\"><img src=\"https://colab.research.google.com/assets/colab-badge.svg\" alt=\"Open In Colab\"/></a>"
      ]
    },
    {
      "cell_type": "markdown",
      "metadata": {
        "id": "Q8SdpqIGZe9M"
      },
      "source": [
        "## Loading libraries and cleaned data"
      ]
    },
    {
      "cell_type": "code",
      "metadata": {
        "id": "dRNboGLCXngz"
      },
      "source": [
        "import pandas as pd\n",
        "import numpy as np\n",
        "from sklearn.model_selection import train_test_split\n",
        "from sklearn.ensemble import RandomForestClassifier\n",
        "from sklearn.metrics import confusion_matrix, accuracy_score\n",
        "import matplotlib.pyplot as plt\n",
        "from sklearn.metrics import f1_score\n",
        "from sklearn.metrics import recall_score\n",
        "from sklearn.metrics import classification_report"
      ],
      "execution_count": 1,
      "outputs": []
    },
    {
      "cell_type": "code",
      "metadata": {
        "id": "_g1FvpDsX70J"
      },
      "source": [
        "clean_train = pd.read_csv(\"/content/drive/My Drive/Akeed Datasets/after_univariate_clean.csv\")"
      ],
      "execution_count": 2,
      "outputs": []
    },
    {
      "cell_type": "code",
      "metadata": {
        "id": "1T3uU24kYGhP",
        "outputId": "268851e3-9549-4fb4-9434-91bc151c34a2",
        "colab": {
          "base_uri": "https://localhost:8080/",
          "height": 168
        }
      },
      "source": [
        "clean_train.head(1)"
      ],
      "execution_count": 3,
      "outputs": [
        {
          "output_type": "execute_result",
          "data": {
            "text/html": [
              "<div>\n",
              "<style scoped>\n",
              "    .dataframe tbody tr th:only-of-type {\n",
              "        vertical-align: middle;\n",
              "    }\n",
              "\n",
              "    .dataframe tbody tr th {\n",
              "        vertical-align: top;\n",
              "    }\n",
              "\n",
              "    .dataframe thead th {\n",
              "        text-align: right;\n",
              "    }\n",
              "</style>\n",
              "<table border=\"1\" class=\"dataframe\">\n",
              "  <thead>\n",
              "    <tr style=\"text-align: right;\">\n",
              "      <th></th>\n",
              "      <th>akeed_customer_id</th>\n",
              "      <th>gender</th>\n",
              "      <th>customer_acc_verified</th>\n",
              "      <th>location_number</th>\n",
              "      <th>latitude_customer</th>\n",
              "      <th>longitude_customer</th>\n",
              "      <th>id</th>\n",
              "      <th>authentication_id</th>\n",
              "      <th>latitude_vendor</th>\n",
              "      <th>longitude_vendor</th>\n",
              "      <th>vendor_category_en</th>\n",
              "      <th>vendor_category_id</th>\n",
              "      <th>delivery_charge</th>\n",
              "      <th>serving_distance</th>\n",
              "      <th>is_open</th>\n",
              "      <th>preparation_time</th>\n",
              "      <th>discount_percentage</th>\n",
              "      <th>vendor_acc_verified</th>\n",
              "      <th>rank</th>\n",
              "      <th>vendor_rating</th>\n",
              "      <th>city_id</th>\n",
              "      <th>device_type</th>\n",
              "      <th>CID X LOC_NUM X VENDOR</th>\n",
              "      <th>target</th>\n",
              "      <th>vendor_duration_open</th>\n",
              "      <th>haversine_dist</th>\n",
              "      <th>c_diff</th>\n",
              "      <th>u_diff</th>\n",
              "    </tr>\n",
              "  </thead>\n",
              "  <tbody>\n",
              "    <tr>\n",
              "      <th>0</th>\n",
              "      <td>TCHWPBT</td>\n",
              "      <td>0</td>\n",
              "      <td>1</td>\n",
              "      <td>0</td>\n",
              "      <td>-96.44</td>\n",
              "      <td>-67.2</td>\n",
              "      <td>4</td>\n",
              "      <td>118597.0</td>\n",
              "      <td>-0.5884</td>\n",
              "      <td>0.7544</td>\n",
              "      <td>Restaurants</td>\n",
              "      <td>2.0</td>\n",
              "      <td>0.0</td>\n",
              "      <td>6.0</td>\n",
              "      <td>1.0</td>\n",
              "      <td>15</td>\n",
              "      <td>0.0</td>\n",
              "      <td>1</td>\n",
              "      <td>11</td>\n",
              "      <td>4.4</td>\n",
              "      <td>1.0</td>\n",
              "      <td>3</td>\n",
              "      <td>TCHWPBT X 0 X 4</td>\n",
              "      <td>0</td>\n",
              "      <td>12</td>\n",
              "      <td>10210.781498</td>\n",
              "      <td>-9 days +19:25:41</td>\n",
              "      <td>789 days 19:56:20</td>\n",
              "    </tr>\n",
              "  </tbody>\n",
              "</table>\n",
              "</div>"
            ],
            "text/plain": [
              "  akeed_customer_id  gender  ...             c_diff             u_diff\n",
              "0           TCHWPBT       0  ...  -9 days +19:25:41  789 days 19:56:20\n",
              "\n",
              "[1 rows x 28 columns]"
            ]
          },
          "metadata": {
            "tags": []
          },
          "execution_count": 3
        }
      ]
    },
    {
      "cell_type": "code",
      "metadata": {
        "id": "SoqhEJw3YJJP",
        "outputId": "9d97cbd3-95e4-469c-cf2a-41f9101f8c51",
        "colab": {
          "base_uri": "https://localhost:8080/",
          "height": 151
        }
      },
      "source": [
        "clean_train.tail(1)"
      ],
      "execution_count": 4,
      "outputs": [
        {
          "output_type": "execute_result",
          "data": {
            "text/html": [
              "<div>\n",
              "<style scoped>\n",
              "    .dataframe tbody tr th:only-of-type {\n",
              "        vertical-align: middle;\n",
              "    }\n",
              "\n",
              "    .dataframe tbody tr th {\n",
              "        vertical-align: top;\n",
              "    }\n",
              "\n",
              "    .dataframe thead th {\n",
              "        text-align: right;\n",
              "    }\n",
              "</style>\n",
              "<table border=\"1\" class=\"dataframe\">\n",
              "  <thead>\n",
              "    <tr style=\"text-align: right;\">\n",
              "      <th></th>\n",
              "      <th>akeed_customer_id</th>\n",
              "      <th>gender</th>\n",
              "      <th>customer_acc_verified</th>\n",
              "      <th>location_number</th>\n",
              "      <th>latitude_customer</th>\n",
              "      <th>longitude_customer</th>\n",
              "      <th>id</th>\n",
              "      <th>authentication_id</th>\n",
              "      <th>latitude_vendor</th>\n",
              "      <th>longitude_vendor</th>\n",
              "      <th>vendor_category_en</th>\n",
              "      <th>vendor_category_id</th>\n",
              "      <th>delivery_charge</th>\n",
              "      <th>serving_distance</th>\n",
              "      <th>is_open</th>\n",
              "      <th>preparation_time</th>\n",
              "      <th>discount_percentage</th>\n",
              "      <th>vendor_acc_verified</th>\n",
              "      <th>rank</th>\n",
              "      <th>vendor_rating</th>\n",
              "      <th>city_id</th>\n",
              "      <th>device_type</th>\n",
              "      <th>CID X LOC_NUM X VENDOR</th>\n",
              "      <th>target</th>\n",
              "      <th>vendor_duration_open</th>\n",
              "      <th>haversine_dist</th>\n",
              "      <th>c_diff</th>\n",
              "      <th>u_diff</th>\n",
              "    </tr>\n",
              "  </thead>\n",
              "  <tbody>\n",
              "    <tr>\n",
              "      <th>5627745</th>\n",
              "      <td>LBMRK7A</td>\n",
              "      <td>2</td>\n",
              "      <td>1</td>\n",
              "      <td>0</td>\n",
              "      <td>19.83</td>\n",
              "      <td>3.03</td>\n",
              "      <td>907</td>\n",
              "      <td>132953.0</td>\n",
              "      <td>13.336</td>\n",
              "      <td>-1.449</td>\n",
              "      <td>Restaurants</td>\n",
              "      <td>2.0</td>\n",
              "      <td>0.7</td>\n",
              "      <td>12.0</td>\n",
              "      <td>1.0</td>\n",
              "      <td>20</td>\n",
              "      <td>0.0</td>\n",
              "      <td>1</td>\n",
              "      <td>11</td>\n",
              "      <td>4.3</td>\n",
              "      <td>1.0</td>\n",
              "      <td>3</td>\n",
              "      <td>LBMRK7A X 0 X 907</td>\n",
              "      <td>0</td>\n",
              "      <td>15</td>\n",
              "      <td>865.420746</td>\n",
              "      <td>-58 days +05:25:06</td>\n",
              "      <td>34 days 10:17:43</td>\n",
              "    </tr>\n",
              "  </tbody>\n",
              "</table>\n",
              "</div>"
            ],
            "text/plain": [
              "        akeed_customer_id  gender  ...              c_diff            u_diff\n",
              "5627745           LBMRK7A       2  ...  -58 days +05:25:06  34 days 10:17:43\n",
              "\n",
              "[1 rows x 28 columns]"
            ]
          },
          "metadata": {
            "tags": []
          },
          "execution_count": 4
        }
      ]
    },
    {
      "cell_type": "code",
      "metadata": {
        "id": "sFRNLMcuYLXr",
        "outputId": "ff565ca1-d2a8-453b-f23f-abefc0fb31ce",
        "colab": {
          "base_uri": "https://localhost:8080/",
          "height": 35
        }
      },
      "source": [
        "clean_train.shape"
      ],
      "execution_count": 5,
      "outputs": [
        {
          "output_type": "execute_result",
          "data": {
            "text/plain": [
              "(5627746, 28)"
            ]
          },
          "metadata": {
            "tags": []
          },
          "execution_count": 5
        }
      ]
    },
    {
      "cell_type": "code",
      "metadata": {
        "id": "tfvDlr0Dfkyk",
        "outputId": "54f9261b-f4b9-457c-fdee-0598f98bf0b6",
        "colab": {
          "base_uri": "https://localhost:8080/",
          "height": 35
        }
      },
      "source": [
        "# dropping unnecessary columns\n",
        "\n",
        "train = clean_train.drop(['akeed_customer_id', 'city_id', 'CID X LOC_NUM X VENDOR', 'c_diff', 'u_diff', 'vendor_category_en'], axis = 1)\n",
        "train.shape"
      ],
      "execution_count": 6,
      "outputs": [
        {
          "output_type": "execute_result",
          "data": {
            "text/plain": [
              "(5627746, 22)"
            ]
          },
          "metadata": {
            "tags": []
          },
          "execution_count": 6
        }
      ]
    },
    {
      "cell_type": "markdown",
      "metadata": {
        "id": "SUvcbrBOZmGz"
      },
      "source": [
        "## Implementing the solution with Random Forest"
      ]
    },
    {
      "cell_type": "code",
      "metadata": {
        "id": "gBiPPIOne87b",
        "outputId": "7e54ad7b-47f1-4e21-b52e-34004866d49b",
        "colab": {
          "base_uri": "https://localhost:8080/",
          "height": 70
        }
      },
      "source": [
        "# checking target variable distribution\n",
        "train['target'].value_counts()"
      ],
      "execution_count": 7,
      "outputs": [
        {
          "output_type": "execute_result",
          "data": {
            "text/plain": [
              "0    5553040\n",
              "1      74706\n",
              "Name: target, dtype: int64"
            ]
          },
          "metadata": {
            "tags": []
          },
          "execution_count": 7
        }
      ]
    },
    {
      "cell_type": "code",
      "metadata": {
        "id": "fb4HiAdMP8jg",
        "outputId": "0623862c-6e64-40e9-9144-5701d5433e36",
        "colab": {
          "base_uri": "https://localhost:8080/",
          "height": 70
        }
      },
      "source": [
        "train.target.value_counts(normalize=True)"
      ],
      "execution_count": 8,
      "outputs": [
        {
          "output_type": "execute_result",
          "data": {
            "text/plain": [
              "0    0.986725\n",
              "1    0.013275\n",
              "Name: target, dtype: float64"
            ]
          },
          "metadata": {
            "tags": []
          },
          "execution_count": 8
        }
      ]
    },
    {
      "cell_type": "markdown",
      "metadata": {
        "id": "fSpTLRckfGCs"
      },
      "source": [
        "The data is highly imbalanced with 98.67% representing the zeros and only 1.33% representing the ones. We will start off with a random forest benchmark/baseline model. Why Random Forest? Because it's known to work well with imbalanced data."
      ]
    },
    {
      "cell_type": "markdown",
      "metadata": {
        "id": "jxhs7-MHqtu5"
      },
      "source": [
        "## RANDOM FOREST"
      ]
    },
    {
      "cell_type": "markdown",
      "metadata": {
        "id": "ycZDDc7BUuHh"
      },
      "source": [
        "### Random Forest Baseline Model"
      ]
    },
    {
      "cell_type": "code",
      "metadata": {
        "id": "lLdLE5iXUre3"
      },
      "source": [
        "# we first split the data into dependent and independent variables\n",
        "\n",
        "y = train['target'].values\n",
        "features = train.columns.to_list()\n",
        "features.remove('target')\n",
        "X = train[features].values"
      ],
      "execution_count": null,
      "outputs": []
    },
    {
      "cell_type": "code",
      "metadata": {
        "id": "wl8aL0mJZbn_"
      },
      "source": [
        "# train the model using 70% of the data and leave 30% for validation\n",
        "X_train, X_val, y_train, y_val = train_test_split(X,y, test_size = 0.3, random_state = 0) "
      ],
      "execution_count": null,
      "outputs": []
    },
    {
      "cell_type": "code",
      "metadata": {
        "id": "ebnLDq4JeQVq"
      },
      "source": [
        "# Buiding the model and fitting to our dataset\n",
        "\n",
        "forest_classifier = RandomForestClassifier(n_estimators=100, random_state=42, min_samples_split = 2, max_depth=5)\n",
        "forest_classifier = forest_classifier.fit(X_train, y_train)"
      ],
      "execution_count": null,
      "outputs": []
    },
    {
      "cell_type": "code",
      "metadata": {
        "id": "vevSj074bxPa"
      },
      "source": [
        "# pickling our built model to avoid rerunning it again\n",
        "\n",
        "# import pickle #importing the library\n",
        "# pickle_out = open(\"df.pickle\", \"wb\")  #opening a file to write bytes\n",
        "# pickle.dump(forest_classifier, pickle_out) # use pickle.dump to put the df into the opened file\n",
        "# pickle_out.close() #then close the pickled file"
      ],
      "execution_count": null,
      "outputs": []
    },
    {
      "cell_type": "code",
      "metadata": {
        "id": "364OW8hvFPBR"
      },
      "source": [
        "# import pickle\n",
        "# # unpickling cleaned_train\n",
        "# pickle_in = open(\"df.pickle\",\"rb\")  #opening the pickle file\n",
        "# forest_classifier = pickle.load(pickle_in)  #using pickle load to load the df"
      ],
      "execution_count": null,
      "outputs": []
    },
    {
      "cell_type": "code",
      "metadata": {
        "id": "DeNsMLTVizVA",
        "outputId": "6bdeaeaf-fd0d-48b9-b519-121fa053b41a",
        "colab": {
          "base_uri": "https://localhost:8080/",
          "height": 35
        }
      },
      "source": [
        "clean_train.shape"
      ],
      "execution_count": null,
      "outputs": [
        {
          "output_type": "execute_result",
          "data": {
            "text/plain": [
              "(5627746, 28)"
            ]
          },
          "metadata": {
            "tags": []
          },
          "execution_count": 17
        }
      ]
    },
    {
      "cell_type": "code",
      "metadata": {
        "id": "q7mAhh9gmTDL"
      },
      "source": [
        "# Making predictions using the model we trained\n",
        "y_pred = forest_classifier.predict(X_val)"
      ],
      "execution_count": null,
      "outputs": []
    },
    {
      "cell_type": "code",
      "metadata": {
        "id": "QKATdEqAZrO5",
        "outputId": "3f2a7f66-0bc9-46c4-fc43-760ae7977798",
        "colab": {
          "base_uri": "https://localhost:8080/",
          "height": 70
        }
      },
      "source": [
        "# evaluating the model\n",
        "print('Accuracy score1 =',accuracy_score(y_val, y_pred)*100,'%')\n",
        "print(confusion_matrix(y_val, y_pred))"
      ],
      "execution_count": null,
      "outputs": [
        {
          "output_type": "stream",
          "text": [
            "Accuracy score1 = 98.66915355109565 %\n",
            "[[1665855       0]\n",
            " [  22469       0]]\n"
          ],
          "name": "stdout"
        }
      ]
    },
    {
      "cell_type": "code",
      "metadata": {
        "id": "cmiIsWQCRo85",
        "outputId": "d6dab76c-e91b-4a27-c9d2-f4286bd77aef",
        "colab": {
          "base_uri": "https://localhost:8080/",
          "height": 52
        }
      },
      "source": [
        "#finding the f1 score which is the weighted average of precision and recall\n",
        "from sklearn.metrics import f1_score\n",
        "from sklearn.metrics import recall_score\n",
        "print(f1_score(y_val, y_pred))\n",
        "\n",
        "# finding recall/sensitivity. recall is the number of true positives divided by the number of true positive values.\n",
        "# Recall or sensitivity can also be referred to as the true positive rate, it measures the completeness of a classifier. \n",
        "# Low recall indicates a high number of false negatives.\n",
        "print(recall_score(y_val, y_pred))"
      ],
      "execution_count": null,
      "outputs": [
        {
          "output_type": "stream",
          "text": [
            "0.0\n",
            "0.0\n"
          ],
          "name": "stdout"
        }
      ]
    },
    {
      "cell_type": "markdown",
      "metadata": {
        "id": "fcg86FngfU02"
      },
      "source": [
        "Our results are very concerning!!! 0% for both recall and f1 score is really bad. This means that there were no true positive observations that were accurately predicted. \n",
        "\n",
        "The high accuracy score of 98.67% is misleading because all the true observations were misclassified. Our interest is more on the misclassified observations because these observations are the ones that bring in revenue to Akeed. \n",
        "\n",
        "To bring f1 and recall score up, we need to look into: downsampling of the data, selecting important features and hyperparameter tuning. Will these steps improve the prediction of the positive observations? Let's find out below."
      ]
    },
    {
      "cell_type": "markdown",
      "metadata": {
        "id": "uXYzOBh3c6Hy"
      },
      "source": [
        "### Downsampling of the majority class(target = 0). Final ratio of majority class to minority 2:1."
      ]
    },
    {
      "cell_type": "code",
      "metadata": {
        "id": "SmAg7RQbrjJO",
        "outputId": "606376ed-3ff6-43ea-dc2b-3b9e009afd29",
        "colab": {
          "base_uri": "https://localhost:8080/",
          "height": 87
        }
      },
      "source": [
        "# Class count\n",
        "count_class_0, count_class_1 = train.target.value_counts()\n",
        "\n",
        "# Divide by class\n",
        "df_class_0 = train[train['target'] == 0]\n",
        "df_class_1 = train[train['target'] == 1]\n",
        "df_class_0_downsampled = df_class_0.sample(2 * count_class_1)\n",
        "df_downsampled = pd.concat([df_class_0_downsampled, df_class_1], axis=0)\n",
        "\n",
        "print('Random downsampling:')\n",
        "print(df_downsampled.target.value_counts())\n"
      ],
      "execution_count": null,
      "outputs": [
        {
          "output_type": "stream",
          "text": [
            "Random downsampling:\n",
            "0    149412\n",
            "1     74706\n",
            "Name: target, dtype: int64\n"
          ],
          "name": "stdout"
        }
      ]
    },
    {
      "cell_type": "code",
      "metadata": {
        "id": "tVsAmGhGtIUU",
        "outputId": "4babd5db-aa8b-43ee-c7d7-2ca48b07a000",
        "colab": {
          "base_uri": "https://localhost:8080/",
          "height": 459
        }
      },
      "source": [
        "plt.subplots(figsize = (8,6))\n",
        "df_downsampled.target.value_counts().plot(kind='bar')\n",
        "plt.xticks(rotation = 0, fontweight = 'bold')\n",
        "plt.title('Ditribution of Target Variable after Downsampling', fontweight = 'bold')\n",
        "plt.yticks(rotation = 0, fontweight = 'bold')\n",
        "plt.xlabel(' Target Variable', fontsize = 12, fontweight = 'bold')\n",
        "plt.ylabel('Total Count', fontsize = 12, fontweight = 'bold')\n",
        "plt.tight_layout()\n",
        ";"
      ],
      "execution_count": null,
      "outputs": [
        {
          "output_type": "execute_result",
          "data": {
            "application/vnd.google.colaboratory.intrinsic+json": {
              "type": "string"
            },
            "text/plain": [
              "''"
            ]
          },
          "metadata": {
            "tags": []
          },
          "execution_count": 33
        },
        {
          "output_type": "display_data",
          "data": {
            "image/png": "[encoded data removed]",
            "text/plain": [
              "<Figure size 576x432 with 1 Axes>"
            ]
          },
          "metadata": {
            "tags": [],
            "needs_background": "light"
          }
        }
      ]
    },
    {
      "cell_type": "markdown",
      "metadata": {
        "id": "C8UQpG9XuvBK"
      },
      "source": [
        "### Random Forest after Downsampling"
      ]
    },
    {
      "cell_type": "code",
      "metadata": {
        "id": "Q4mXa6xwu0E6"
      },
      "source": [
        "# we first split the data into dependent and independent variables\n",
        "\n",
        "y = df_downsampled['target'].values\n",
        "features = df_downsampled.columns.to_list()\n",
        "features.remove('target')\n",
        "X = df_downsampled[features].values"
      ],
      "execution_count": null,
      "outputs": []
    },
    {
      "cell_type": "code",
      "metadata": {
        "id": "qOOXkIy6vhIG"
      },
      "source": [
        "# train the model using 70% of the data and leave 30% for validation\n",
        "X_train, X_val, y_train, y_val = train_test_split(X,y, test_size = 0.3, random_state = 0)"
      ],
      "execution_count": null,
      "outputs": []
    },
    {
      "cell_type": "code",
      "metadata": {
        "id": "-h18F4WxvseQ"
      },
      "source": [
        "# Buiding the model and fitting to our dataset\n",
        "\n",
        "forest_classifier2 = RandomForestClassifier(n_estimators=100, random_state=42, min_samples_split = 2, max_depth=5)\n",
        "forest_classifier2 = forest_classifier2.fit(X_train, y_train)"
      ],
      "execution_count": null,
      "outputs": []
    },
    {
      "cell_type": "code",
      "metadata": {
        "id": "rPJ3dJL_v2q6"
      },
      "source": [
        "# Making predictions using the model we trained\n",
        "y_pred2 = forest_classifier2.predict(X_val)"
      ],
      "execution_count": null,
      "outputs": []
    },
    {
      "cell_type": "code",
      "metadata": {
        "id": "QKbreAQ0v79m",
        "outputId": "9fbfd1c9-5445-4f60-b2a3-cff7b3dcfb85",
        "colab": {
          "base_uri": "https://localhost:8080/",
          "height": 105
        }
      },
      "source": [
        "# Evaluating the model with recall, f1_score, confusion matrix and accuracy score\n",
        "print(f1_score(y_val, y_pred2),'%')\n",
        "print(recall_score(y_val, y_pred2),'%')\n",
        "print(confusion_matrix(y_val, y_pred2))\n",
        "print('Accuracy score1 =',accuracy_score(y_val, y_pred2)*100,'%')\n"
      ],
      "execution_count": null,
      "outputs": [
        {
          "output_type": "stream",
          "text": [
            "0.47554213898472153 %\n",
            "0.34492157826533804 %\n",
            "[[42491  2366]\n",
            " [14660  7719]]\n",
            "Accuracy score1 = 74.6772562317806 %\n"
          ],
          "name": "stdout"
        }
      ]
    },
    {
      "cell_type": "markdown",
      "metadata": {
        "id": "ZLzV0zHyxJWk"
      },
      "source": [
        "Both f1 and recall have improved to 47.51% and 34.57% respectively. Accuracy score reduced to 74.57%. These results are still poor. We need a better perfoming model. Next we will look into feature importance with the downsampled  data."
      ]
    },
    {
      "cell_type": "markdown",
      "metadata": {
        "id": "A3uVTYhwuqi1"
      },
      "source": [
        "### Feature Selection"
      ]
    },
    {
      "cell_type": "code",
      "metadata": {
        "id": "bkNmW9dvLOpL",
        "outputId": "ac71dcc6-efce-4f28-d9c4-14cd0a723596",
        "colab": {
          "base_uri": "https://localhost:8080/",
          "height": 550
        }
      },
      "source": [
        "# Get numerical feature importances\n",
        "importances = list(forest_classifier2.feature_importances_)\n",
        "feature_importances = [(feature, round(importance, 2)) for feature, importance in zip(features, importances)]\n",
        "# feature_importances = pd.DataFrame(feature_importances)\n",
        "# print(feature_importances)\n",
        "# list of x locations for plotting\n",
        "x_values = list(range(len(importances)))\n",
        "# Make a bar chart\n",
        "plt.subplots(figsize = (15,6))\n",
        "plt.bar(x_values, importances, orientation = 'vertical')\n",
        "# Tick labels for x axis\n",
        "plt.xticks(x_values, features, rotation= 'vertical', fontweight = 'bold', fontsize = 12)\n",
        "plt.yticks(fontweight = 'bold', fontsize = 12)\n",
        "# Axis labels and title\n",
        "plt.ylabel('Importance', fontweight = 'bold', fontsize = 12);\n",
        "plt.xlabel('Independent Variables', fontweight = 'bold', fontsize = 12);\n",
        "plt.title('Important Variables', fontweight = 'bold', fontsize = 15);"
      ],
      "execution_count": null,
      "outputs": [
        {
          "output_type": "display_data",
          "data": {
            "image/png": "[encoded data removed]",
            "text/plain": [
              "<Figure size 1080x432 with 1 Axes>"
            ]
          },
          "metadata": {
            "tags": [],
            "needs_background": "light"
          }
        }
      ]
    },
    {
      "cell_type": "markdown",
      "metadata": {
        "id": "5XIlMZ2HsBQw"
      },
      "source": [
        "The graph shows how the independent features are affecting the target variable. Some of the top important features include haversine distance, authentication id, id, customer latitude and longitude."
      ]
    },
    {
      "cell_type": "code",
      "metadata": {
        "id": "uzgThcbKG7We",
        "outputId": "bb29b768-7f90-48e2-d173-2333746a7087",
        "colab": {
          "base_uri": "https://localhost:8080/",
          "height": 140
        }
      },
      "source": [
        "df_downsampled.columns"
      ],
      "execution_count": null,
      "outputs": [
        {
          "output_type": "execute_result",
          "data": {
            "text/plain": [
              "Index(['gender', 'customer_acc_verified', 'location_number',\n",
              "       'latitude_customer', 'longitude_customer', 'id', 'authentication_id',\n",
              "       'latitude_vendor', 'longitude_vendor', 'vendor_category_id',\n",
              "       'delivery_charge', 'serving_distance', 'is_open', 'preparation_time',\n",
              "       'discount_percentage', 'vendor_acc_verified', 'rank', 'vendor_rating',\n",
              "       'device_type', 'target', 'vendor_duration_open', 'haversine_dist'],\n",
              "      dtype='object')"
            ]
          },
          "metadata": {
            "tags": []
          },
          "execution_count": 55
        }
      ]
    },
    {
      "cell_type": "markdown",
      "metadata": {
        "id": "WxA3icRYKd9L"
      },
      "source": [
        "### Random Forest with the 12 most Important Features"
      ]
    },
    {
      "cell_type": "code",
      "metadata": {
        "id": "V5hGS-FzGfJd",
        "outputId": "16566e1e-9b6e-4024-83f6-414a0a1b3f5a",
        "colab": {
          "base_uri": "https://localhost:8080/",
          "height": 35
        }
      },
      "source": [
        "# selecting the most important features\n",
        "train3 = df_downsampled[[ 'latitude_customer', 'longitude_customer', 'id', 'authentication_id',\n",
        "       'latitude_vendor', 'longitude_vendor', 'delivery_charge', 'serving_distance', 'preparation_time','vendor_rating','target', \n",
        "       'vendor_duration_open', 'haversine_dist']]\n",
        "train3.shape # shape of our new dataset"
      ],
      "execution_count": null,
      "outputs": [
        {
          "output_type": "execute_result",
          "data": {
            "text/plain": [
              "(224118, 13)"
            ]
          },
          "metadata": {
            "tags": []
          },
          "execution_count": 56
        }
      ]
    },
    {
      "cell_type": "code",
      "metadata": {
        "id": "35ccn2l2JD33",
        "outputId": "84346e3f-2ec6-48c1-fcd7-25a191346213",
        "colab": {
          "base_uri": "https://localhost:8080/",
          "height": 99
        }
      },
      "source": [
        "train3.head(1)"
      ],
      "execution_count": null,
      "outputs": [
        {
          "output_type": "execute_result",
          "data": {
            "text/html": [
              "<div>\n",
              "<style scoped>\n",
              "    .dataframe tbody tr th:only-of-type {\n",
              "        vertical-align: middle;\n",
              "    }\n",
              "\n",
              "    .dataframe tbody tr th {\n",
              "        vertical-align: top;\n",
              "    }\n",
              "\n",
              "    .dataframe thead th {\n",
              "        text-align: right;\n",
              "    }\n",
              "</style>\n",
              "<table border=\"1\" class=\"dataframe\">\n",
              "  <thead>\n",
              "    <tr style=\"text-align: right;\">\n",
              "      <th></th>\n",
              "      <th>latitude_customer</th>\n",
              "      <th>longitude_customer</th>\n",
              "      <th>id</th>\n",
              "      <th>authentication_id</th>\n",
              "      <th>latitude_vendor</th>\n",
              "      <th>longitude_vendor</th>\n",
              "      <th>delivery_charge</th>\n",
              "      <th>serving_distance</th>\n",
              "      <th>preparation_time</th>\n",
              "      <th>vendor_rating</th>\n",
              "      <th>target</th>\n",
              "      <th>vendor_duration_open</th>\n",
              "      <th>haversine_dist</th>\n",
              "    </tr>\n",
              "  </thead>\n",
              "  <tbody>\n",
              "    <tr>\n",
              "      <th>4528146</th>\n",
              "      <td>-0.5</td>\n",
              "      <td>0.7095</td>\n",
              "      <td>843</td>\n",
              "      <td>130447.0</td>\n",
              "      <td>-1.27</td>\n",
              "      <td>0.08234</td>\n",
              "      <td>0.0</td>\n",
              "      <td>5.0</td>\n",
              "      <td>10</td>\n",
              "      <td>4.3</td>\n",
              "      <td>0</td>\n",
              "      <td>15</td>\n",
              "      <td>110.421245</td>\n",
              "    </tr>\n",
              "  </tbody>\n",
              "</table>\n",
              "</div>"
            ],
            "text/plain": [
              "         latitude_customer  ...  haversine_dist\n",
              "4528146               -0.5  ...      110.421245\n",
              "\n",
              "[1 rows x 13 columns]"
            ]
          },
          "metadata": {
            "tags": []
          },
          "execution_count": 57
        }
      ]
    },
    {
      "cell_type": "code",
      "metadata": {
        "id": "es72AVbgI80m",
        "outputId": "68e05e2c-b335-452d-df9f-00525aa843c8",
        "colab": {
          "base_uri": "https://localhost:8080/",
          "height": 105
        }
      },
      "source": [
        "# we first split the data into dependent and independent variables\n",
        "y = train3['target'].values\n",
        "features_train3 = train3.columns.to_list()\n",
        "features_train3.remove('target')\n",
        "X = train3[features_train3].values\n",
        "# train the model using 70% of the data and leave 30% for validation\n",
        "X_train, X_val, y_train, y_val = train_test_split(X,y, test_size = 0.3, random_state = 0)\n",
        "# Buiding the model and fitting to our dataset\n",
        "forest_classifier3 = RandomForestClassifier(n_estimators=100, random_state=42, min_samples_split = 2, max_depth=5)\n",
        "forest_classifier3 = forest_classifier3.fit(X_train, y_train)\n",
        "# Making predictions using the model we trained\n",
        "y_pred3 = forest_classifier3.predict(X_val)\n",
        "# Evaluating the model with recall, f1_score, confusion matrix and accuracy score\n",
        "print(f1_score(y_val, y_pred3),'%')\n",
        "print(recall_score(y_val, y_pred3),'%')\n",
        "print(confusion_matrix(y_val, y_pred3))\n",
        "print('Accuracy score1 =',accuracy_score(y_val, y_pred3)*100,'%')\n"
      ],
      "execution_count": null,
      "outputs": [
        {
          "output_type": "stream",
          "text": [
            "0.5305165645211399 %\n",
            "0.4196791635014969 %\n",
            "[[41221  3636]\n",
            " [12987  9392]]\n",
            "Accuracy score1 = 75.27663751561663 %\n"
          ],
          "name": "stdout"
        }
      ]
    },
    {
      "cell_type": "markdown",
      "metadata": {
        "id": "F4ozuQ9Dsnqy"
      },
      "source": [
        "F1 and recall score have improved quite a bit. Accuracy score also improved from 74% to 75%."
      ]
    },
    {
      "cell_type": "markdown",
      "metadata": {
        "id": "W_MoP92EPwzO"
      },
      "source": [
        "### Scaling data to see if the model perfomance improves"
      ]
    },
    {
      "cell_type": "code",
      "metadata": {
        "id": "n5R4qjFpFHpI",
        "outputId": "3c2eaf77-d2ec-480d-88de-979c7f64de88",
        "colab": {
          "base_uri": "https://localhost:8080/",
          "height": 123
        }
      },
      "source": [
        "# Scaling our Data\n",
        "# ---\n",
        "train_to_scale = train3\n",
        "print(train_to_scale.shape)\n",
        "\n",
        "# we first split the data into dependent and independent variables\n",
        "y = train_to_scale['target'].values\n",
        "features_train5 = train_to_scale.columns.to_list()\n",
        "features_train5.remove('target')\n",
        "X = train_to_scale[features_train5].values\n",
        "# train the model using 70% of the data and leave 30% for validation\n",
        "X_train, X_val, y_train, y_val = train_test_split(X,y, test_size = 0.3, random_state = 0)\n",
        "\n",
        "#scaling the data\n",
        "from sklearn.preprocessing import StandardScaler\n",
        "feature_scaler = StandardScaler()\n",
        "X_train = feature_scaler.fit_transform(X_train)\n",
        "X_val = feature_scaler.transform(X_val)\n",
        "# Buiding the model and fitting to our dataset\n",
        "forest_classifier_scaled = RandomForestClassifier(n_estimators=100, random_state=42, min_samples_split = 2, max_depth=5)\n",
        "forest_classifier_scaled = forest_classifier_scaled.fit(X_train, y_train)\n",
        "# Making predictions using the model we trained\n",
        "y_pred5 = forest_classifier_scaled.predict(X_val)\n",
        "# Evaluating the model with recall, f1_score, confusion matrix and accuracy score\n",
        "print(f1_score(y_val, y_pred5),'%')\n",
        "print(recall_score(y_val, y_pred5),'%')\n",
        "print(confusion_matrix(y_val, y_pred5))\n",
        "print('Accuracy score1 =',accuracy_score(y_val, y_pred5)*100,'%')"
      ],
      "execution_count": null,
      "outputs": [
        {
          "output_type": "stream",
          "text": [
            "(224118, 13)\n",
            "0.5305995650823236 %\n",
            "0.4197685329996872 %\n",
            "[[41221  3636]\n",
            " [12985  9394]]\n",
            "Accuracy score1 = 75.27961211255875 %\n"
          ],
          "name": "stdout"
        }
      ]
    },
    {
      "cell_type": "markdown",
      "metadata": {
        "id": "W4sPY72VPjdX"
      },
      "source": [
        "After scaling the data, we see insignificant improvements. "
      ]
    },
    {
      "cell_type": "markdown",
      "metadata": {
        "id": "yATA6xK4L6hb"
      },
      "source": [
        "\n",
        "### Random Forest with top 7 most Important Features"
      ]
    },
    {
      "cell_type": "code",
      "metadata": {
        "id": "17NlsOJ_KwnM",
        "outputId": "d4560156-627d-47dd-8d63-9e36a8356819",
        "colab": {
          "base_uri": "https://localhost:8080/",
          "height": 35
        }
      },
      "source": [
        "# selecting the most important features\n",
        "train4 = df_downsampled[[ 'latitude_customer', 'longitude_customer', 'id', 'authentication_id',\n",
        "       'latitude_vendor', 'longitude_vendor','target', \n",
        "        'haversine_dist']]\n",
        "train4.shape # shape of our new dataset"
      ],
      "execution_count": null,
      "outputs": [
        {
          "output_type": "execute_result",
          "data": {
            "text/plain": [
              "(224118, 8)"
            ]
          },
          "metadata": {
            "tags": []
          },
          "execution_count": 60
        }
      ]
    },
    {
      "cell_type": "code",
      "metadata": {
        "id": "81gExBwwQIS5",
        "outputId": "c0b86b06-faaa-4dae-93ff-67b529797ee3",
        "colab": {
          "base_uri": "https://localhost:8080/",
          "height": 105
        }
      },
      "source": [
        "# we first split the data into dependent and independent variables\n",
        "y = train4['target'].values\n",
        "features_train4 = train4.columns.to_list()\n",
        "features_train4.remove('target')\n",
        "X = train4[features_train4].values\n",
        "# train the model using 70% of the data and leave 30% for validation\n",
        "X_train, X_val, y_train, y_val = train_test_split(X,y, test_size = 0.3, random_state = 0)\n",
        "# Buiding the model and fitting to our dataset\n",
        "forest_classifier4 = RandomForestClassifier(n_estimators=100, random_state=42, min_samples_split = 2, max_depth=5)\n",
        "forest_classifier4 = forest_classifier4.fit(X_train, y_train)\n",
        "# Making predictions using the model we trained\n",
        "y_pred4 = forest_classifier4.predict(X_val)\n",
        "# Evaluating the model with recall, f1_score, confusion matrix and accuracy score\n",
        "print(f1_score(y_val, y_pred4),'%')\n",
        "print(recall_score(y_val, y_pred4),'%')\n",
        "print(confusion_matrix(y_val, y_pred4))\n",
        "print('Accuracy score1 =',accuracy_score(y_val, y_pred4)*100,'%')"
      ],
      "execution_count": null,
      "outputs": [
        {
          "output_type": "stream",
          "text": [
            "0.5289897551852163 %\n",
            "0.42338799767639307 %\n",
            "[[40888  3969]\n",
            " [12904  9475]]\n",
            "Accuracy score1 = 74.90481289785235 %\n"
          ],
          "name": "stdout"
        }
      ]
    },
    {
      "cell_type": "markdown",
      "metadata": {
        "id": "kUBBRcIytWsp"
      },
      "source": [
        "There is a slight improvement in recall score, but f1 and accuracy score dropped slightly."
      ]
    },
    {
      "cell_type": "markdown",
      "metadata": {
        "id": "DspeWG8wtrlg"
      },
      "source": [
        "### Random forest with top 7 scaled data"
      ]
    },
    {
      "cell_type": "code",
      "metadata": {
        "id": "49RBL4rdQyJx",
        "outputId": "9af9e171-a2e9-41ad-f45b-b8d20db81852",
        "colab": {
          "base_uri": "https://localhost:8080/",
          "height": 105
        }
      },
      "source": [
        "# we first split the data into dependent and independent variables\n",
        "y = train4['target'].values\n",
        "features_train4 = train4.columns.to_list()\n",
        "features_train4.remove('target')\n",
        "X = train4[features_train4].values\n",
        "# train the model using 70% of the data and leave 30% for validation\n",
        "X_train, X_val, y_train, y_val = train_test_split(X,y, test_size = 0.3, random_state = 0)\n",
        "\n",
        "#scaling the data\n",
        "from sklearn.preprocessing import StandardScaler\n",
        "feature_scaler = StandardScaler()\n",
        "X_train = feature_scaler.fit_transform(X_train)\n",
        "X_val = feature_scaler.transform(X_val)\n",
        "# Buiding the model and fitting to our dataset\n",
        "forest_classifier6 = RandomForestClassifier(n_estimators=100, random_state=42, min_samples_split = 2, max_depth=5)\n",
        "forest_classifier6 = forest_classifier6.fit(X_train, y_train)\n",
        "# Making predictions using the model we trained\n",
        "y_pred6 = forest_classifier6.predict(X_val)\n",
        "# Evaluating the model with recall, f1_score, confusion matrix and accuracy score\n",
        "print(f1_score(y_val, y_pred6),'%')\n",
        "print(recall_score(y_val, y_pred6),'%')\n",
        "print(confusion_matrix(y_val, y_pred6))\n",
        "print('Accuracy score1 =',accuracy_score(y_val, y_pred6)*100,'%')"
      ],
      "execution_count": null,
      "outputs": [
        {
          "output_type": "stream",
          "text": [
            "0.5287234339654258 %\n",
            "0.42298583493453684 %\n",
            "[[40895  3962]\n",
            " [12913  9466]]\n",
            "Accuracy score1 = 74.90183830091023 %\n"
          ],
          "name": "stdout"
        }
      ]
    },
    {
      "cell_type": "markdown",
      "metadata": {
        "id": "cdKRc2JbtzLh"
      },
      "source": [
        "Perfomance about the same from previous results when data was not scaled."
      ]
    },
    {
      "cell_type": "markdown",
      "metadata": {
        "id": "AexBsvYAPbzv"
      },
      "source": [
        "### Hyperparameter Tuning"
      ]
    },
    {
      "cell_type": "code",
      "metadata": {
        "id": "vw8CRa-4Wguh",
        "outputId": "4cbc50db-9bd9-452d-c16f-34e0ccb64ea0",
        "colab": {
          "base_uri": "https://localhost:8080/",
          "height": 35
        }
      },
      "source": [
        "\n",
        "train7 = train4\n",
        "y = train7['target'].values\n",
        "features_train7 = train7.columns.to_list()\n",
        "features_train7.remove('target')\n",
        "X = train7[features_train7].values\n",
        "X_train, X_test, y_train, y_test = train_test_split(X, y, test_size = 0.3, random_state =0)\n",
        "classifier7 = RandomForestClassifier(random_state=0)\n",
        "from sklearn.model_selection import cross_val_score\n",
        "all_accuracies = cross_val_score(estimator=classifier7, X=X_train, y=y_train, cv=5)\n",
        "print(all_accuracies.mean())"
      ],
      "execution_count": null,
      "outputs": [
        {
          "output_type": "stream",
          "text": [
            "0.7948457858898357\n"
          ],
          "name": "stdout"
        }
      ]
    },
    {
      "cell_type": "code",
      "metadata": {
        "id": "PuveNCDAVXb_"
      },
      "source": [
        "specify parameters and distributions to sample from\n",
        "from scipy.stats import randint as sp_randint\n",
        "param_dist = {\"max_depth\": [2,3,4,5],\n",
        "              \"max_features\": [0.1, 0.2, 0.3, 0.4, 0.5, 0.6, 0.7, 0.8, 0.9],\n",
        "              \"min_samples_split\": [2,3,4,5,6,7],\n",
        "              \"bootstrap\": [True, False],\n",
        "              \"criterion\": [\"gini\", \"entropy\"],\n",
        "              \"n_estimators\": [50, 100, 200, 300, 500]}\n"
      ],
      "execution_count": null,
      "outputs": []
    },
    {
      "cell_type": "code",
      "metadata": {
        "id": "ZQso3J3-VaG2"
      },
      "source": [
        "# Step 2: Instantiating RandomizedSearchCV object \n",
        "# ---\n",
        "# \n",
        "from sklearn.model_selection import RandomizedSearchCV \n",
        "random_search = RandomizedSearchCV(classifier7, param_dist, cv = 5) "
      ],
      "execution_count": null,
      "outputs": []
    },
    {
      "cell_type": "code",
      "metadata": {
        "id": "FvZK-6YPeT5_",
        "outputId": "6baafd2d-7409-4768-b4bd-ca5cdc84658e",
        "colab": {
          "base_uri": "https://localhost:8080/",
          "height": 510
        }
      },
      "source": [
        "# Step 3: Calling the fit method\n",
        "# ---\n",
        "#\n",
        "random_search.fit(X_train, y_train)"
      ],
      "execution_count": null,
      "outputs": [
        {
          "output_type": "execute_result",
          "data": {
            "text/plain": [
              "RandomizedSearchCV(cv=5, error_score=nan,\n",
              "                   estimator=RandomForestClassifier(bootstrap=True,\n",
              "                                                    ccp_alpha=0.0,\n",
              "                                                    class_weight=None,\n",
              "                                                    criterion='gini',\n",
              "                                                    max_depth=None,\n",
              "                                                    max_features='auto',\n",
              "                                                    max_leaf_nodes=None,\n",
              "                                                    max_samples=None,\n",
              "                                                    min_impurity_decrease=0.0,\n",
              "                                                    min_impurity_split=None,\n",
              "                                                    min_samples_leaf=1,\n",
              "                                                    min_samples_split=2,\n",
              "                                                    min_weight_fraction_leaf=0.0,\n",
              "                                                    n_estimators=100,\n",
              "                                                    n_jobs...\n",
              "                   iid='deprecated', n_iter=10, n_jobs=None,\n",
              "                   param_distributions={'bootstrap': [True, False],\n",
              "                                        'criterion': ['gini', 'entropy'],\n",
              "                                        'max_depth': [2, 3, 4, 5],\n",
              "                                        'max_features': [0.1, 0.2, 0.3, 0.4,\n",
              "                                                         0.5, 0.6, 0.7, 0.8,\n",
              "                                                         0.9],\n",
              "                                        'min_samples_split': [2, 3, 4, 5, 6, 7],\n",
              "                                        'n_estimators': [50, 100, 200, 300,\n",
              "                                                         500]},\n",
              "                   pre_dispatch='2*n_jobs', random_state=None, refit=True,\n",
              "                   return_train_score=False, scoring=None, verbose=0)"
            ]
          },
          "metadata": {
            "tags": []
          },
          "execution_count": 81
        }
      ]
    },
    {
      "cell_type": "code",
      "metadata": {
        "id": "iTNN3M39VfZp",
        "outputId": "04f09040-7a30-4621-a7e2-d504f8e3ab7e",
        "colab": {
          "base_uri": "https://localhost:8080/",
          "height": 35
        }
      },
      "source": [
        "# Step 4: Checking the parameters that return the highest accuracy\n",
        "# ---\n",
        "#\n",
        "best_parameters = random_search.best_params_\n",
        "print(best_parameters)"
      ],
      "execution_count": null,
      "outputs": [
        {
          "output_type": "stream",
          "text": [
            "{'n_estimators': 500, 'min_samples_split': 2, 'max_features': 0.3, 'max_depth': 5, 'criterion': 'gini', 'bootstrap': False}\n"
          ],
          "name": "stdout"
        }
      ]
    },
    {
      "cell_type": "code",
      "metadata": {
        "id": "xDi0XMAfVlSU",
        "outputId": "bfc162d5-2646-446a-b836-3dc8c266d72c",
        "colab": {
          "base_uri": "https://localhost:8080/",
          "height": 35
        }
      },
      "source": [
        "# Finding the obtained accuracy\n",
        "# --\n",
        "# \n",
        "best_result = random_search.best_score_\n",
        "print(best_result)\n"
      ],
      "execution_count": null,
      "outputs": [
        {
          "output_type": "stream",
          "text": [
            "0.7452416459569503\n"
          ],
          "name": "stdout"
        }
      ]
    },
    {
      "cell_type": "markdown",
      "metadata": {
        "id": "uBIailTJnJ9K"
      },
      "source": [
        "### Building Random Forest using the best parameters"
      ]
    },
    {
      "cell_type": "code",
      "metadata": {
        "id": "lGMnAf73l9M5",
        "outputId": "19359072-ae97-4253-e1c4-24cc27c04c72",
        "colab": {
          "base_uri": "https://localhost:8080/",
          "height": 105
        }
      },
      "source": [
        "\n",
        "# we first split the data into dependent and independent variables\n",
        "y = train7['target'].values\n",
        "features_train7 = train7.columns.to_list()\n",
        "features_train7.remove('target')\n",
        "X = train7[features_train4].values\n",
        "# train the model using 70% of the data and leave 30% for validation\n",
        "X_train, X_val, y_train, y_val = train_test_split(X,y, test_size = 0.3, random_state = 0)\n",
        "\n",
        "#scaling the data\n",
        "from sklearn.preprocessing import StandardScaler\n",
        "feature_scaler = StandardScaler()\n",
        "X_train = feature_scaler.fit_transform(X_train)\n",
        "X_val = feature_scaler.transform(X_val)\n",
        "# Buiding the model and fitting to our dataset\n",
        "forest_classifier9 = RandomForestClassifier(n_estimators= 500,\n",
        "                                            min_samples_split= 2, max_features=0.3, max_depth=5,\n",
        "                                            criterion='gini', bootstrap=False)\n",
        "forest_classifier9 = forest_classifier9.fit(X_train, y_train)\n",
        "# Making predictions using the model we trained\n",
        "y_pred9 = forest_classifier9.predict(X_val)\n",
        "\n",
        "# Evaluating the model with recall, f1_score, confusion matrix and accuracy score\n",
        "print(f1_score(y_val, y_pred9),'%')\n",
        "print(recall_score(y_val, y_pred9),'%')\n",
        "print(confusion_matrix(y_val, y_pred9))\n",
        "print('Accuracy score1 =',accuracy_score(y_val, y_pred9)*100,'%')"
      ],
      "execution_count": null,
      "outputs": [
        {
          "output_type": "stream",
          "text": [
            "0.5183614621321347 %\n",
            "0.40966977970418694 %\n",
            "[[41031  3826]\n",
            " [13211  9168]]\n",
            "Accuracy score1 = 74.66089594859896 %\n"
          ],
          "name": "stdout"
        }
      ]
    },
    {
      "cell_type": "markdown",
      "metadata": {
        "id": "20YiGPVut_4w"
      },
      "source": [
        "There is a slight drop in both f1 and recall scores. Hyperparameter is not improving the model's perfomance."
      ]
    },
    {
      "cell_type": "markdown",
      "metadata": {
        "id": "sWbr9LTQWnJ1"
      },
      "source": [
        "### Downsampling part 2 where majority and minority class ratio is 5:1"
      ]
    },
    {
      "cell_type": "code",
      "metadata": {
        "id": "BaRhUvvLWfOb",
        "outputId": "135dc30d-3e88-4211-a57c-935ce2e26666",
        "colab": {
          "base_uri": "https://localhost:8080/",
          "height": 529
        }
      },
      "source": [
        "# Class count\n",
        "count_class_0, count_class_1 = train.target.value_counts()\n",
        "\n",
        "# Divide by class\n",
        "class_0 = train[train['target'] == 0]\n",
        "class_1 = train[train['target'] == 1]\n",
        "class_0_downsampled = class_0.sample(5 * count_class_1)\n",
        "df_downsampled2 = pd.concat([class_0_downsampled, df_class_1], axis=0)\n",
        "\n",
        "print('Random downsampling:')\n",
        "print(df_downsampled2.target.value_counts())\n",
        "\n",
        "plt.subplots(figsize = (8,6))\n",
        "df_downsampled2.target.value_counts().plot(kind='bar')\n",
        "plt.xticks(rotation = 0, fontweight = 'bold')\n",
        "plt.title('Ditribution of Target Variable after Downsampling', fontweight = 'bold')\n",
        "plt.yticks(rotation = 0, fontweight = 'bold')\n",
        "plt.xlabel(' Target Variable', fontsize = 12, fontweight = 'bold')\n",
        "plt.ylabel('Total Count', fontsize = 12, fontweight = 'bold')\n",
        "plt.tight_layout()\n",
        ";"
      ],
      "execution_count": null,
      "outputs": [
        {
          "output_type": "stream",
          "text": [
            "Random downsampling:\n",
            "0    373530\n",
            "1     74706\n",
            "Name: target, dtype: int64\n"
          ],
          "name": "stdout"
        },
        {
          "output_type": "execute_result",
          "data": {
            "application/vnd.google.colaboratory.intrinsic+json": {
              "type": "string"
            },
            "text/plain": [
              "''"
            ]
          },
          "metadata": {
            "tags": []
          },
          "execution_count": 82
        },
        {
          "output_type": "display_data",
          "data": {
            "image/png": "[encoded data removed]",
            "text/plain": [
              "<Figure size 576x432 with 1 Axes>"
            ]
          },
          "metadata": {
            "tags": [],
            "needs_background": "light"
          }
        }
      ]
    },
    {
      "cell_type": "markdown",
      "metadata": {
        "id": "mH8RFeF0Wx-y"
      },
      "source": [
        "### Random Forest with 0.2% target =1"
      ]
    },
    {
      "cell_type": "code",
      "metadata": {
        "id": "2mojBctHWx-y",
        "outputId": "61df8b54-859d-4ab0-d169-0572fb5d11d2",
        "colab": {
          "base_uri": "https://localhost:8080/",
          "height": 105
        }
      },
      "source": [
        "# we first split the data into dependent and independent variables\n",
        "\n",
        "y = df_downsampled2['target'].values\n",
        "# features = df_downsampled.columns.to_list()\n",
        "# features.remove('target')\n",
        "X = df_downsampled2.drop(['target'], axis =1).values\n",
        "# train the model using 70% of the data and leave 30% for validation\n",
        "X_train, X_val, y_train, y_val = train_test_split(X,y, test_size = 0.3, random_state = 0)\n",
        "# Buiding the model and fitting to our dataset\n",
        "\n",
        "rf= RandomForestClassifier(n_estimators=100, random_state=42, min_samples_split = 2, max_depth=5)\n",
        "rf= rf.fit(X_train, y_train)\n",
        "\n",
        "# Making predictions using the model we trained\n",
        "y_prediction = rf.predict(X_val)\n",
        "\n",
        "# Evaluating the model with recall, f1_score, confusion matrix and accuracy score\n",
        "print(f1_score(y_val, y_prediction),'%')\n",
        "print(recall_score(y_val, y_prediction),'%')\n",
        "print(confusion_matrix(y_val, y_prediction))\n",
        "print('Accuracy score1 =',accuracy_score(y_val, y_prediction)*100,'%')\n"
      ],
      "execution_count": null,
      "outputs": [
        {
          "output_type": "stream",
          "text": [
            "0.03784722222222222 %\n",
            "0.019358849125299706 %\n",
            "[[111867     82]\n",
            " [ 22086    436]]\n",
            "Accuracy score1 = 83.514661153706 %\n"
          ],
          "name": "stdout"
        }
      ]
    },
    {
      "cell_type": "markdown",
      "metadata": {
        "id": "Nxns3s8zXGeg"
      },
      "source": [
        "Poor perfomance! Having a significantly high ratio of majority class results in poor perfomance of our model. "
      ]
    },
    {
      "cell_type": "markdown",
      "metadata": {
        "id": "TO6kK07ZXcqH"
      },
      "source": [
        "### Downsamling part 3 with equal majority and minority class."
      ]
    },
    {
      "cell_type": "code",
      "metadata": {
        "id": "QEFWqhc_XcqJ",
        "outputId": "0a0ef7cc-cbbf-4526-fdfa-497b19755e7e",
        "colab": {
          "base_uri": "https://localhost:8080/",
          "height": 529
        }
      },
      "source": [
        "# Class count\n",
        "count_class_0, count_class_1 = train.target.value_counts()\n",
        "\n",
        "# Divide by class\n",
        "class_0 = train[train['target'] == 0]\n",
        "class_1 = train[train['target'] == 1]\n",
        "class_0_downsampled = class_0.sample(count_class_1)\n",
        "df_downsampled3 = pd.concat([class_0_downsampled, class_1], axis=0)\n",
        "\n",
        "print('Random downsampling:')\n",
        "print(df_downsampled3.target.value_counts())\n",
        "\n",
        "plt.subplots(figsize = (8,6))\n",
        "df_downsampled3.target.value_counts().plot(kind='bar')\n",
        "plt.xticks(rotation = 0, fontweight = 'bold')\n",
        "plt.title('Ditribution of Target Variable after Downsampling', fontweight = 'bold')\n",
        "plt.yticks(rotation = 0, fontweight = 'bold')\n",
        "plt.xlabel(' Target Variable', fontsize = 12, fontweight = 'bold')\n",
        "plt.ylabel('Total Count', fontsize = 12, fontweight = 'bold')\n",
        "plt.tight_layout()\n",
        ";"
      ],
      "execution_count": 9,
      "outputs": [
        {
          "output_type": "stream",
          "text": [
            "Random downsampling:\n",
            "1    74706\n",
            "0    74706\n",
            "Name: target, dtype: int64\n"
          ],
          "name": "stdout"
        },
        {
          "output_type": "execute_result",
          "data": {
            "application/vnd.google.colaboratory.intrinsic+json": {
              "type": "string"
            },
            "text/plain": [
              "''"
            ]
          },
          "metadata": {
            "tags": []
          },
          "execution_count": 9
        },
        {
          "output_type": "display_data",
          "data": {
            "image/png": "[encoded data removed]",
            "text/plain": [
              "<Figure size 576x432 with 1 Axes>"
            ]
          },
          "metadata": {
            "tags": [],
            "needs_background": "light"
          }
        }
      ]
    },
    {
      "cell_type": "markdown",
      "metadata": {
        "id": "FoZFMIXFX7Xe"
      },
      "source": [
        "### Random Forest with equal class sizes"
      ]
    },
    {
      "cell_type": "code",
      "metadata": {
        "id": "G4Jl53KKX7Xg",
        "outputId": "da60eab6-a3ea-4533-8bdc-db502c9c012f",
        "colab": {
          "base_uri": "https://localhost:8080/",
          "height": 105
        }
      },
      "source": [
        "# we first split the data into dependent and independent variables\n",
        "\n",
        "y = df_downsampled3['target'].values\n",
        "# features = df_downsampled.columns.to_list()\n",
        "# features.remove('target')\n",
        "X = df_downsampled3.drop(['target'], axis =1).values\n",
        "# train the model using 70% of the data and leave 30% for validation\n",
        "X_train, X_val, y_train, y_val = train_test_split(X,y, test_size = 0.3, random_state = 0)\n",
        "# Buiding the model and fitting to our dataset\n",
        "\n",
        "rf1= RandomForestClassifier(n_estimators=100, random_state=42, min_samples_split = 2, max_depth=5)\n",
        "rf1= rf1.fit(X_train, y_train)\n",
        "\n",
        "# Making predictions using the model we trained\n",
        "y_prediction = rf1.predict(X_val)\n",
        "\n",
        "# Evaluating the model with recall, f1_score, confusion matrix and accuracy score\n",
        "print(f1_score(y_val, y_prediction),'%')\n",
        "print(recall_score(y_val, y_prediction),'%')\n",
        "print(confusion_matrix(y_val, y_prediction))\n",
        "print('Accuracy score1 =',accuracy_score(y_val, y_prediction)*100,'%')"
      ],
      "execution_count": 10,
      "outputs": [
        {
          "output_type": "stream",
          "text": [
            "0.7071274099296001 %\n",
            "0.6796992481203008 %\n",
            "[[16726  5488]\n",
            " [ 7242 15368]]\n",
            "Accuracy score1 = 71.6000356951633 %\n"
          ],
          "name": "stdout"
        }
      ]
    },
    {
      "cell_type": "markdown",
      "metadata": {
        "id": "FVSNHyBsX7Xh"
      },
      "source": [
        "Great improvement! f1 and recall score have improved to 70 and 66.93 percent respectively. "
      ]
    },
    {
      "cell_type": "markdown",
      "metadata": {
        "id": "ZDudQ2i5YSy6"
      },
      "source": [
        "### Hyperparameter tuning with equal class sizes."
      ]
    },
    {
      "cell_type": "code",
      "metadata": {
        "id": "NGnXg47AYSy8",
        "outputId": "41eb9ed5-adcd-442d-e2bb-a5c3b3468a21",
        "colab": {
          "base_uri": "https://localhost:8080/",
          "height": 70
        }
      },
      "source": [
        "# we first split the data into dependent and independent variables\n",
        "\n",
        "y = df_downsampled3['target'].values\n",
        "# features = df_downsampled.columns.to_list()\n",
        "# features.remove('target')\n",
        "X = df_downsampled3.drop(['target'], axis =1).values\n",
        "# train the model using 70% of the data and leave 30% for validation\n",
        "X_train, X_val, y_train, y_val = train_test_split(X,y, test_size = 0.3, random_state = 0)\n",
        "# Buiding the model and fitting to our dataset\n",
        "\n",
        "rf2= RandomForestClassifier(random_state=42)\n",
        "all_accuracies = cross_val_score(estimator=rf2, X=X_train, y=y_train, cv=5)\n",
        "print(all_accuracies)\n",
        "\n",
        "# specify parameters and distributions to sample from\n",
        "# from scipy.stats import randint as sp_randint\n",
        "param_dist = {\"max_depth\": [2,3,4,5],\n",
        "              \"max_features\": [0.1, 0.2, 0.3, 0.4, 0.5, 0.6, 0.7, 0.8, 0.9],\n",
        "              \"min_samples_split\": [2,3,4,5,6,7],\n",
        "              \"bootstrap\": [True, False],\n",
        "              \"criterion\": [\"gini\", \"entropy\"],\n",
        "              \"n_estimators\": [50, 100, 200, 300, 500]}\n",
        "\n",
        "#  Instantiating RandomizedSearchCV object \n",
        " \n",
        "random_search = RandomizedSearchCV(rf2, param_dist, cv = 5) \n",
        "\n",
        "#  Calling the fit method\n",
        "\n",
        "random_search.fit(X_train, y_train)\n",
        "\n",
        "# Checking the parameters that return the highest accuracy\n",
        "\n",
        "best_parameters = random_search.best_params_\n",
        "print(best_parameters)\n",
        "\n",
        "# Finding the obtained accuracy\n",
        "\n",
        "best_result = random_search.best_score_\n",
        "print(best_result)\n",
        "\n"
      ],
      "execution_count": null,
      "outputs": [
        {
          "output_type": "stream",
          "text": [
            "[0.80538292 0.80165408 0.80112821 0.80030597 0.79533394]\n",
            "{'n_estimators': 500, 'min_samples_split': 3, 'max_features': 0.5, 'max_depth': 5, 'criterion': 'gini', 'bootstrap': False}\n",
            "0.7177973507747508\n"
          ],
          "name": "stdout"
        }
      ]
    },
    {
      "cell_type": "markdown",
      "metadata": {
        "id": "zSC8OGa9YvlC"
      },
      "source": [
        "### Random Forest using equal class sizes and tuned parameters "
      ]
    },
    {
      "cell_type": "code",
      "metadata": {
        "id": "Bj3EVXSfYvlC",
        "outputId": "c02fe13f-cc39-47db-d7ae-928f72a8aa33",
        "colab": {
          "base_uri": "https://localhost:8080/",
          "height": 105
        }
      },
      "source": [
        "# we first split the data into dependent and independent variables\n",
        "\n",
        "y = df_downsampled3['target'].values\n",
        "# features = df_downsampled.columns.to_list()\n",
        "# features.remove('target')\n",
        "X = df_downsampled3.drop(['target'], axis =1).values\n",
        "# train the model using 70% of the data and leave 30% for validation\n",
        "X_train, X_val, y_train, y_val = train_test_split(X,y, test_size = 0.3, random_state = 5)\n",
        "# Buiding the model and fitting to our dataset\n",
        "\n",
        "rf1= RandomForestClassifier(n_estimators= 500, min_samples_split= 3, max_features=0.5, max_depth=5,\n",
        "                                            criterion='gini', bootstrap=False)\n",
        "rf1= rf1.fit(X_train, y_train)\n",
        "\n",
        "# Making predictions using the model we trained\n",
        "y_prediction = rf1.predict(X_val)\n",
        "\n",
        "# Evaluating the model with recall, f1_score, confusion matrix and accuracy score\n",
        "print(f1_score(y_val, y_prediction),'%')\n",
        "print(recall_score(y_val, y_prediction),'%')\n",
        "print(confusion_matrix(y_val, y_prediction))\n",
        "print('Accuracy score1 =',accuracy_score(y_val, y_prediction)*100,'%')"
      ],
      "execution_count": 11,
      "outputs": [
        {
          "output_type": "stream",
          "text": [
            "0.7170125227635513 %\n",
            "0.7082074968910996 %\n",
            "[[16291  6017]\n",
            " [ 6570 15946]]\n",
            "Accuracy score1 = 71.91906121720507 %\n"
          ],
          "name": "stdout"
        }
      ]
    },
    {
      "cell_type": "markdown",
      "metadata": {
        "id": "u5FChYTxYvlE"
      },
      "source": [
        "f1 improved by 1%, while recall score improved by about 4%."
      ]
    },
    {
      "cell_type": "code",
      "metadata": {
        "id": "i7IfLagcZOiI",
        "outputId": "0f18c81d-374f-4982-e44d-4e274dedb8a6",
        "colab": {
          "base_uri": "https://localhost:8080/",
          "height": 87
        }
      },
      "source": [
        "# selecting the most important features\n",
        "train = df_downsampled3[[ 'latitude_customer', 'longitude_customer', 'id', 'authentication_id',\n",
        "       'latitude_vendor', 'longitude_vendor','target', \n",
        "        'haversine_dist']]\n",
        "print(train.shape) # shape of our new dataset\n",
        "\n",
        "print(train['target'].value_counts())"
      ],
      "execution_count": 12,
      "outputs": [
        {
          "output_type": "stream",
          "text": [
            "(149412, 8)\n",
            "1    74706\n",
            "0    74706\n",
            "Name: target, dtype: int64\n"
          ],
          "name": "stdout"
        }
      ]
    },
    {
      "cell_type": "markdown",
      "metadata": {
        "id": "8RgYY53LZOiK"
      },
      "source": [
        "### Random Forest with important features and tuned parameters"
      ]
    },
    {
      "cell_type": "code",
      "metadata": {
        "id": "FgkeYuXrZOiK",
        "outputId": "e78809e6-3686-456e-ae3c-1d4f33414e55",
        "colab": {
          "base_uri": "https://localhost:8080/",
          "height": 228
        }
      },
      "source": [
        "# we first split the data into dependent and independent variables\n",
        "y = train['target'].values\n",
        "features_train = train.columns.to_list()\n",
        "features_train.remove('target')\n",
        "X = train[features_train].values\n",
        "# train the model using 70% of the data and leave 30% for validation\n",
        "X_train, X_val, y_train, y_val = train_test_split(X,y, test_size = 0.3, random_state = 0)\n",
        "# Buiding the model and fitting to our dataset\n",
        "rf3= RandomForestClassifier(n_estimators= 500, min_samples_split= 3, max_features=0.5, max_depth=5,\n",
        "                                            criterion='gini', bootstrap=False)\n",
        "rf3= rf3.fit(X_train, y_train)\n",
        "# Making predictions using the model we trained\n",
        "y_pred = rf3.predict(X_val)\n",
        "# Evaluating the model with recall, f1_score, confusion matrix and accuracy score\n",
        "print(confusion_matrix(y_val, y_pred))\n",
        "print(classification_report(y_val, y_pred))\n",
        "print('Accuracy score =',accuracy_score(y_val, y_pred)*100,'%')"
      ],
      "execution_count": 15,
      "outputs": [
        {
          "output_type": "stream",
          "text": [
            "[[15967  6247]\n",
            " [ 6448 16162]]\n",
            "              precision    recall  f1-score   support\n",
            "\n",
            "           0       0.71      0.72      0.72     22214\n",
            "           1       0.72      0.71      0.72     22610\n",
            "\n",
            "    accuracy                           0.72     44824\n",
            "   macro avg       0.72      0.72      0.72     44824\n",
            "weighted avg       0.72      0.72      0.72     44824\n",
            "\n",
            "Accuracy score = 71.6781188648938 %\n"
          ],
          "name": "stdout"
        }
      ]
    },
    {
      "cell_type": "markdown",
      "metadata": {
        "id": "UKDEGmOVZOiM"
      },
      "source": [
        "Recall increased slightly here. This is our best Random Forest model so far."
      ]
    },
    {
      "cell_type": "markdown",
      "metadata": {
        "id": "1n2QjeeGrctR"
      },
      "source": [
        "## XGBOOST"
      ]
    },
    {
      "cell_type": "markdown",
      "metadata": {
        "id": "ngL_6FAzrEpd"
      },
      "source": [
        "### Challenging the Solution with XGBoost"
      ]
    },
    {
      "cell_type": "code",
      "metadata": {
        "id": "nlT5vjjBrEpe",
        "outputId": "ffb4ed93-b71d-4b08-966e-3d3647c19cc6",
        "colab": {
          "base_uri": "https://localhost:8080/",
          "height": 105
        }
      },
      "source": [
        "import xgboost as xgb\n",
        "from xgboost import XGBClassifier\n",
        "train8 = train4\n",
        "# we first split the data into dependent and independent variables\n",
        "y = train8['target'].values\n",
        "# features_train4 = train4.columns.to_list()\n",
        "# features_train4.remove('target')\n",
        "X = train8.drop(['target'], axis =1).values\n",
        "# train the model using 70% of the data and leave 30% for validation\n",
        "X_train, X_val, y_train, y_val = train_test_split(X,y, test_size = 0.3, random_state = 0)\n",
        "\n",
        "# Buiding the model and fitting to our dataset\n",
        "model=xgb.XGBClassifier(random_state=1,learning_rate=0.01)\n",
        "model.fit(X_train, y_train)\n",
        "\n",
        "# Making predictions using the model we trained\n",
        "y_pred8 = model.predict(X_val)\n",
        "# Evaluating the model with recall, f1_score, confusion matrix and accuracy score\n",
        "print(f1_score(y_val, y_pred8),'%')\n",
        "print(recall_score(y_val, y_pred8),'%')\n",
        "print(confusion_matrix(y_val, y_pred8))\n",
        "print('Accuracy score1 =',accuracy_score(y_val, y_pred8)*100,'%')"
      ],
      "execution_count": null,
      "outputs": [
        {
          "output_type": "stream",
          "text": [
            "0.38906054024289516 %\n",
            "0.28415031949595604 %\n",
            "[[40906  3951]\n",
            " [16020  6359]]\n",
            "Accuracy score1 = 70.29716223451722 %\n"
          ],
          "name": "stdout"
        }
      ]
    },
    {
      "cell_type": "markdown",
      "metadata": {
        "id": "hjgJdVjOrEpi"
      },
      "source": [
        "Poor prediction of positive observations. "
      ]
    },
    {
      "cell_type": "markdown",
      "metadata": {
        "id": "VNXdH0xCrPWZ"
      },
      "source": [
        "### XGBoost with equal class sizes"
      ]
    },
    {
      "cell_type": "code",
      "metadata": {
        "id": "u41d5L5VrPWa",
        "outputId": "6d28f4a1-4a4a-4921-c662-0ea421483e2c",
        "colab": {
          "base_uri": "https://localhost:8080/",
          "height": 123
        }
      },
      "source": [
        "train10 = df_downsampled3\n",
        "print(train10.shape)\n",
        "# we first split the data into dependent and independent variables\n",
        "y = train10['target'].values\n",
        "# features_train4 = train4.columns.to_list()\n",
        "# features_train4.remove('target')\n",
        "X = train10.drop(['target'], axis =1).values\n",
        "# train the model using 70% of the data and leave 30% for validation\n",
        "X_train, X_val, y_train, y_val = train_test_split(X,y, test_size = 0.3, random_state = 0)\n",
        "\n",
        "# Buiding the model and fitting to our dataset\n",
        "model=xgb.XGBClassifier(random_state=1,learning_rate=0.01)\n",
        "model.fit(X_train, y_train)\n",
        "\n",
        "# Making predictions using the model we trained\n",
        "y_pred10 = model.predict(X_val)\n",
        "# Evaluating the model with recall, f1_score, confusion matrix and accuracy score\n",
        "print(f1_score(y_val, y_pred10),'%')\n",
        "print(recall_score(y_val, y_pred10),'%')\n",
        "print(confusion_matrix(y_val, y_pred10))\n",
        "print('Accuracy score1 =',accuracy_score(y_val, y_pred10)*100,'%')"
      ],
      "execution_count": null,
      "outputs": [
        {
          "output_type": "stream",
          "text": [
            "(149412, 22)\n",
            "0.6917533296843641 %\n",
            "0.6707651481645289 %\n",
            "[[16142  6072]\n",
            " [ 7444 15166]]\n",
            "Accuracy score1 = 69.84651079778689 %\n"
          ],
          "name": "stdout"
        }
      ]
    },
    {
      "cell_type": "markdown",
      "metadata": {
        "id": "1WlIX3zIrPWc"
      },
      "source": [
        "With Equal classes, XGboost f1 and recall greatly improves from what we observed previously."
      ]
    },
    {
      "cell_type": "markdown",
      "metadata": {
        "id": "yXzwl5Aoro3e"
      },
      "source": [
        "## MODEL FINDINGS"
      ]
    },
    {
      "cell_type": "markdown",
      "metadata": {
        "id": "pD5PhptBro3e"
      },
      "source": [
        "After experimenting with different kinds of sample sizes for zero and one class, we found out that Random Forest was the best performing model. This BEST model had equal class sizes of 1 and 0, hyperparameter tuned, and top 7 important features was used to create the model. The model gave the following metrics: 72.02% f1 score, 71.24% recall and overall 72.07% accuracy score. "
      ]
    },
    {
      "cell_type": "markdown",
      "metadata": {
        "id": "7xymBePTopG8"
      },
      "source": [
        "## MAKING PREDICTIONS USING TEST DATA"
      ]
    },
    {
      "cell_type": "markdown",
      "metadata": {
        "id": "xXLQXtQ9ynmD"
      },
      "source": [
        "We will use best Random Forest model."
      ]
    },
    {
      "cell_type": "code",
      "metadata": {
        "id": "fJ3ctV6Tnoyg",
        "outputId": "ef45db02-0448-49d3-ebe6-437d71c00871",
        "colab": {
          "base_uri": "https://localhost:8080/",
          "height": 35
        }
      },
      "source": [
        "# loading test data\n",
        "test = pd.read_csv('/content/drive/My Drive/Akeed Datasets/cleaned_test.csv')\n",
        "test.shape"
      ],
      "execution_count": 16,
      "outputs": [
        {
          "output_type": "execute_result",
          "data": {
            "text/plain": [
              "(1631700, 30)"
            ]
          },
          "metadata": {
            "tags": []
          },
          "execution_count": 16
        }
      ]
    },
    {
      "cell_type": "code",
      "metadata": {
        "id": "Q6xXvQ-Co9aO",
        "outputId": "d18312cc-01ae-44f2-a4cd-4eb4fefd5477",
        "colab": {
          "base_uri": "https://localhost:8080/",
          "height": 175
        }
      },
      "source": [
        "# check columns names\n",
        "test.columns"
      ],
      "execution_count": 17,
      "outputs": [
        {
          "output_type": "execute_result",
          "data": {
            "text/plain": [
              "Index(['akeed_customer_id', 'gender', 'status_x', 'verified_x',\n",
              "       'location_number', 'latitude_customer', 'longitude_customer', 'id',\n",
              "       'authentication_id', 'latitude_vendor', 'longitude_vendor',\n",
              "       'vendor_category_en', 'vendor_category_id', 'delivery_charge',\n",
              "       'serving_distance', 'is_open', 'prepration_time', 'discount_percentage',\n",
              "       'status_y', 'verified_y', 'rank', 'language_y', 'vendor_rating',\n",
              "       'city_id', 'device_type', 'CID X LOC_NUM X VENDOR', 'duration',\n",
              "       'haversine_dist', 'c_diff', 'u_diff'],\n",
              "      dtype='object')"
            ]
          },
          "metadata": {
            "tags": []
          },
          "execution_count": 17
        }
      ]
    },
    {
      "cell_type": "code",
      "metadata": {
        "id": "QRCHN0fzpnUw",
        "outputId": "b0fddc1b-e8a0-45b5-e86e-b99a0b5e5cf9",
        "colab": {
          "base_uri": "https://localhost:8080/",
          "height": 35
        }
      },
      "source": [
        "# selecting the most important features that were used in making our best model\n",
        "test1 = test[[ 'latitude_customer', 'longitude_customer', 'id', 'authentication_id',\n",
        "       'latitude_vendor', 'longitude_vendor', \n",
        "        'haversine_dist']]\n",
        "test1.shape # shape of our new dataset"
      ],
      "execution_count": 18,
      "outputs": [
        {
          "output_type": "execute_result",
          "data": {
            "text/plain": [
              "(1631700, 7)"
            ]
          },
          "metadata": {
            "tags": []
          },
          "execution_count": 18
        }
      ]
    },
    {
      "cell_type": "code",
      "metadata": {
        "id": "fmFbyQ4dqnJH",
        "outputId": "0120bc0b-2ac5-46b4-9e1b-782be458972f",
        "colab": {
          "base_uri": "https://localhost:8080/",
          "height": 203
        }
      },
      "source": [
        "# checking train head to make sure the columns match the test data\n",
        "train.head()"
      ],
      "execution_count": 19,
      "outputs": [
        {
          "output_type": "execute_result",
          "data": {
            "text/html": [
              "<div>\n",
              "<style scoped>\n",
              "    .dataframe tbody tr th:only-of-type {\n",
              "        vertical-align: middle;\n",
              "    }\n",
              "\n",
              "    .dataframe tbody tr th {\n",
              "        vertical-align: top;\n",
              "    }\n",
              "\n",
              "    .dataframe thead th {\n",
              "        text-align: right;\n",
              "    }\n",
              "</style>\n",
              "<table border=\"1\" class=\"dataframe\">\n",
              "  <thead>\n",
              "    <tr style=\"text-align: right;\">\n",
              "      <th></th>\n",
              "      <th>latitude_customer</th>\n",
              "      <th>longitude_customer</th>\n",
              "      <th>id</th>\n",
              "      <th>authentication_id</th>\n",
              "      <th>latitude_vendor</th>\n",
              "      <th>longitude_vendor</th>\n",
              "      <th>target</th>\n",
              "      <th>haversine_dist</th>\n",
              "    </tr>\n",
              "  </thead>\n",
              "  <tbody>\n",
              "    <tr>\n",
              "      <th>1774617</th>\n",
              "      <td>1.36100</td>\n",
              "      <td>0.7407</td>\n",
              "      <td>20</td>\n",
              "      <td>118616.0</td>\n",
              "      <td>-0.4075</td>\n",
              "      <td>0.6436</td>\n",
              "      <td>0</td>\n",
              "      <td>196.944640</td>\n",
              "    </tr>\n",
              "    <tr>\n",
              "      <th>1312685</th>\n",
              "      <td>-1.52700</td>\n",
              "      <td>-0.1312</td>\n",
              "      <td>577</td>\n",
              "      <td>119184.0</td>\n",
              "      <td>-0.7550</td>\n",
              "      <td>0.2197</td>\n",
              "      <td>0</td>\n",
              "      <td>94.290813</td>\n",
              "    </tr>\n",
              "    <tr>\n",
              "      <th>1744722</th>\n",
              "      <td>-0.07570</td>\n",
              "      <td>0.1725</td>\n",
              "      <td>575</td>\n",
              "      <td>119182.0</td>\n",
              "      <td>-0.6110</td>\n",
              "      <td>0.0721</td>\n",
              "      <td>0</td>\n",
              "      <td>60.560583</td>\n",
              "    </tr>\n",
              "    <tr>\n",
              "      <th>2001967</th>\n",
              "      <td>-0.05847</td>\n",
              "      <td>0.6094</td>\n",
              "      <td>577</td>\n",
              "      <td>119184.0</td>\n",
              "      <td>-0.7550</td>\n",
              "      <td>0.2197</td>\n",
              "      <td>0</td>\n",
              "      <td>88.748067</td>\n",
              "    </tr>\n",
              "    <tr>\n",
              "      <th>5109237</th>\n",
              "      <td>-0.49490</td>\n",
              "      <td>0.1692</td>\n",
              "      <td>231</td>\n",
              "      <td>118830.0</td>\n",
              "      <td>205.2000</td>\n",
              "      <td>44.2200</td>\n",
              "      <td>0</td>\n",
              "      <td>14487.289380</td>\n",
              "    </tr>\n",
              "  </tbody>\n",
              "</table>\n",
              "</div>"
            ],
            "text/plain": [
              "         latitude_customer  longitude_customer  ...  target  haversine_dist\n",
              "1774617            1.36100              0.7407  ...       0      196.944640\n",
              "1312685           -1.52700             -0.1312  ...       0       94.290813\n",
              "1744722           -0.07570              0.1725  ...       0       60.560583\n",
              "2001967           -0.05847              0.6094  ...       0       88.748067\n",
              "5109237           -0.49490              0.1692  ...       0    14487.289380\n",
              "\n",
              "[5 rows x 8 columns]"
            ]
          },
          "metadata": {
            "tags": []
          },
          "execution_count": 19
        }
      ]
    },
    {
      "cell_type": "code",
      "metadata": {
        "id": "A8h50Og0qcgX",
        "outputId": "8423eb69-c8da-42e6-d077-41038589830f",
        "colab": {
          "base_uri": "https://localhost:8080/",
          "height": 203
        }
      },
      "source": [
        "test1.head()"
      ],
      "execution_count": 20,
      "outputs": [
        {
          "output_type": "execute_result",
          "data": {
            "text/html": [
              "<div>\n",
              "<style scoped>\n",
              "    .dataframe tbody tr th:only-of-type {\n",
              "        vertical-align: middle;\n",
              "    }\n",
              "\n",
              "    .dataframe tbody tr th {\n",
              "        vertical-align: top;\n",
              "    }\n",
              "\n",
              "    .dataframe thead th {\n",
              "        text-align: right;\n",
              "    }\n",
              "</style>\n",
              "<table border=\"1\" class=\"dataframe\">\n",
              "  <thead>\n",
              "    <tr style=\"text-align: right;\">\n",
              "      <th></th>\n",
              "      <th>latitude_customer</th>\n",
              "      <th>longitude_customer</th>\n",
              "      <th>id</th>\n",
              "      <th>authentication_id</th>\n",
              "      <th>latitude_vendor</th>\n",
              "      <th>longitude_vendor</th>\n",
              "      <th>haversine_dist</th>\n",
              "    </tr>\n",
              "  </thead>\n",
              "  <tbody>\n",
              "    <tr>\n",
              "      <th>0</th>\n",
              "      <td>-96.44</td>\n",
              "      <td>-67.2</td>\n",
              "      <td>4</td>\n",
              "      <td>118597.0</td>\n",
              "      <td>-0.5884</td>\n",
              "      <td>0.7544</td>\n",
              "      <td>10210.781498</td>\n",
              "    </tr>\n",
              "    <tr>\n",
              "      <th>1</th>\n",
              "      <td>-96.44</td>\n",
              "      <td>-67.2</td>\n",
              "      <td>13</td>\n",
              "      <td>118608.0</td>\n",
              "      <td>-0.4717</td>\n",
              "      <td>0.7446</td>\n",
              "      <td>10223.800918</td>\n",
              "    </tr>\n",
              "    <tr>\n",
              "      <th>2</th>\n",
              "      <td>-96.44</td>\n",
              "      <td>-67.2</td>\n",
              "      <td>20</td>\n",
              "      <td>118616.0</td>\n",
              "      <td>-0.4075</td>\n",
              "      <td>0.6436</td>\n",
              "      <td>10232.068678</td>\n",
              "    </tr>\n",
              "    <tr>\n",
              "      <th>3</th>\n",
              "      <td>-96.44</td>\n",
              "      <td>-67.2</td>\n",
              "      <td>23</td>\n",
              "      <td>118619.0</td>\n",
              "      <td>-0.5854</td>\n",
              "      <td>0.7540</td>\n",
              "      <td>10211.117900</td>\n",
              "    </tr>\n",
              "    <tr>\n",
              "      <th>4</th>\n",
              "      <td>-96.44</td>\n",
              "      <td>-67.2</td>\n",
              "      <td>28</td>\n",
              "      <td>118624.0</td>\n",
              "      <td>0.4807</td>\n",
              "      <td>0.5527</td>\n",
              "      <td>10331.347778</td>\n",
              "    </tr>\n",
              "  </tbody>\n",
              "</table>\n",
              "</div>"
            ],
            "text/plain": [
              "   latitude_customer  longitude_customer  ...  longitude_vendor  haversine_dist\n",
              "0             -96.44               -67.2  ...            0.7544    10210.781498\n",
              "1             -96.44               -67.2  ...            0.7446    10223.800918\n",
              "2             -96.44               -67.2  ...            0.6436    10232.068678\n",
              "3             -96.44               -67.2  ...            0.7540    10211.117900\n",
              "4             -96.44               -67.2  ...            0.5527    10331.347778\n",
              "\n",
              "[5 rows x 7 columns]"
            ]
          },
          "metadata": {
            "tags": []
          },
          "execution_count": 20
        }
      ]
    },
    {
      "cell_type": "code",
      "metadata": {
        "id": "dohOOyGIr29F",
        "outputId": "3e437c21-6281-4460-ac4f-096dc0fafe41",
        "colab": {
          "base_uri": "https://localhost:8080/",
          "height": 158
        }
      },
      "source": [
        "# checking for null values\n",
        "test1.isnull().any()"
      ],
      "execution_count": 21,
      "outputs": [
        {
          "output_type": "execute_result",
          "data": {
            "text/plain": [
              "latitude_customer      True\n",
              "longitude_customer     True\n",
              "id                    False\n",
              "authentication_id     False\n",
              "latitude_vendor       False\n",
              "longitude_vendor      False\n",
              "haversine_dist         True\n",
              "dtype: bool"
            ]
          },
          "metadata": {
            "tags": []
          },
          "execution_count": 21
        }
      ]
    },
    {
      "cell_type": "markdown",
      "metadata": {
        "id": "s8NTpO0us7kf"
      },
      "source": [
        "We have some null values, we will take care of them in the next cell."
      ]
    },
    {
      "cell_type": "code",
      "metadata": {
        "id": "ubs224kgsIZI",
        "outputId": "cf99bd6a-d1e1-4d10-9d4b-7160ded132eb",
        "colab": {
          "base_uri": "https://localhost:8080/",
          "height": 158
        }
      },
      "source": [
        "# Checking for total number of null values\n",
        "test1.isnull().sum()"
      ],
      "execution_count": 23,
      "outputs": [
        {
          "output_type": "execute_result",
          "data": {
            "text/plain": [
              "latitude_customer     300\n",
              "longitude_customer    300\n",
              "id                      0\n",
              "authentication_id       0\n",
              "latitude_vendor         0\n",
              "longitude_vendor        0\n",
              "haversine_dist        300\n",
              "dtype: int64"
            ]
          },
          "metadata": {
            "tags": []
          },
          "execution_count": 23
        }
      ]
    },
    {
      "cell_type": "code",
      "metadata": {
        "id": "S4ajrQ1Cr__1",
        "outputId": "b652b327-6628-44c2-d4c0-b338abbf324e",
        "colab": {
          "base_uri": "https://localhost:8080/",
          "height": 175
        }
      },
      "source": [
        "# dropping the null values\n",
        "test_clean = test1.dropna()\n",
        "print(test_clean.shape)\n",
        "print(test_clean.isnull().sum())"
      ],
      "execution_count": 24,
      "outputs": [
        {
          "output_type": "stream",
          "text": [
            "(1631400, 7)\n",
            "latitude_customer     0\n",
            "longitude_customer    0\n",
            "id                    0\n",
            "authentication_id     0\n",
            "latitude_vendor       0\n",
            "longitude_vendor      0\n",
            "haversine_dist        0\n",
            "dtype: int64\n"
          ],
          "name": "stdout"
        }
      ]
    },
    {
      "cell_type": "code",
      "metadata": {
        "id": "WkTTcDd8p5Wv",
        "outputId": "20d29afc-325e-4859-fcfa-199b234c8c85",
        "colab": {
          "base_uri": "https://localhost:8080/",
          "height": 35
        }
      },
      "source": [
        "# Making predictions using the best random forest model\n",
        "\n",
        "new_predictions = rf3.predict(test_clean)\n",
        "new_predictions\n"
      ],
      "execution_count": 25,
      "outputs": [
        {
          "output_type": "execute_result",
          "data": {
            "text/plain": [
              "array([0, 0, 0, ..., 0, 0, 0])"
            ]
          },
          "metadata": {
            "tags": []
          },
          "execution_count": 25
        }
      ]
    },
    {
      "cell_type": "code",
      "metadata": {
        "id": "MyT4WwX8uRy4",
        "outputId": "3282626f-c425-4138-e04e-fd40a65481cf",
        "colab": {
          "base_uri": "https://localhost:8080/",
          "height": 308
        }
      },
      "source": [
        "# adding a predictions column to our the test clean dataset\n",
        "test_clean['predictions'] = new_predictions\n",
        "test_clean.head()"
      ],
      "execution_count": 26,
      "outputs": [
        {
          "output_type": "stream",
          "text": [
            "/usr/local/lib/python3.6/dist-packages/ipykernel_launcher.py:2: SettingWithCopyWarning: \n",
            "A value is trying to be set on a copy of a slice from a DataFrame.\n",
            "Try using .loc[row_indexer,col_indexer] = value instead\n",
            "\n",
            "See the caveats in the documentation: https://pandas.pydata.org/pandas-docs/stable/user_guide/indexing.html#returning-a-view-versus-a-copy\n",
            "  \n"
          ],
          "name": "stderr"
        },
        {
          "output_type": "execute_result",
          "data": {
            "text/html": [
              "<div>\n",
              "<style scoped>\n",
              "    .dataframe tbody tr th:only-of-type {\n",
              "        vertical-align: middle;\n",
              "    }\n",
              "\n",
              "    .dataframe tbody tr th {\n",
              "        vertical-align: top;\n",
              "    }\n",
              "\n",
              "    .dataframe thead th {\n",
              "        text-align: right;\n",
              "    }\n",
              "</style>\n",
              "<table border=\"1\" class=\"dataframe\">\n",
              "  <thead>\n",
              "    <tr style=\"text-align: right;\">\n",
              "      <th></th>\n",
              "      <th>latitude_customer</th>\n",
              "      <th>longitude_customer</th>\n",
              "      <th>id</th>\n",
              "      <th>authentication_id</th>\n",
              "      <th>latitude_vendor</th>\n",
              "      <th>longitude_vendor</th>\n",
              "      <th>haversine_dist</th>\n",
              "      <th>predictions</th>\n",
              "    </tr>\n",
              "  </thead>\n",
              "  <tbody>\n",
              "    <tr>\n",
              "      <th>0</th>\n",
              "      <td>-96.44</td>\n",
              "      <td>-67.2</td>\n",
              "      <td>4</td>\n",
              "      <td>118597.0</td>\n",
              "      <td>-0.5884</td>\n",
              "      <td>0.7544</td>\n",
              "      <td>10210.781498</td>\n",
              "      <td>0</td>\n",
              "    </tr>\n",
              "    <tr>\n",
              "      <th>1</th>\n",
              "      <td>-96.44</td>\n",
              "      <td>-67.2</td>\n",
              "      <td>13</td>\n",
              "      <td>118608.0</td>\n",
              "      <td>-0.4717</td>\n",
              "      <td>0.7446</td>\n",
              "      <td>10223.800918</td>\n",
              "      <td>0</td>\n",
              "    </tr>\n",
              "    <tr>\n",
              "      <th>2</th>\n",
              "      <td>-96.44</td>\n",
              "      <td>-67.2</td>\n",
              "      <td>20</td>\n",
              "      <td>118616.0</td>\n",
              "      <td>-0.4075</td>\n",
              "      <td>0.6436</td>\n",
              "      <td>10232.068678</td>\n",
              "      <td>0</td>\n",
              "    </tr>\n",
              "    <tr>\n",
              "      <th>3</th>\n",
              "      <td>-96.44</td>\n",
              "      <td>-67.2</td>\n",
              "      <td>23</td>\n",
              "      <td>118619.0</td>\n",
              "      <td>-0.5854</td>\n",
              "      <td>0.7540</td>\n",
              "      <td>10211.117900</td>\n",
              "      <td>0</td>\n",
              "    </tr>\n",
              "    <tr>\n",
              "      <th>4</th>\n",
              "      <td>-96.44</td>\n",
              "      <td>-67.2</td>\n",
              "      <td>28</td>\n",
              "      <td>118624.0</td>\n",
              "      <td>0.4807</td>\n",
              "      <td>0.5527</td>\n",
              "      <td>10331.347778</td>\n",
              "      <td>0</td>\n",
              "    </tr>\n",
              "  </tbody>\n",
              "</table>\n",
              "</div>"
            ],
            "text/plain": [
              "   latitude_customer  longitude_customer  ...  haversine_dist  predictions\n",
              "0             -96.44               -67.2  ...    10210.781498            0\n",
              "1             -96.44               -67.2  ...    10223.800918            0\n",
              "2             -96.44               -67.2  ...    10232.068678            0\n",
              "3             -96.44               -67.2  ...    10211.117900            0\n",
              "4             -96.44               -67.2  ...    10331.347778            0\n",
              "\n",
              "[5 rows x 8 columns]"
            ]
          },
          "metadata": {
            "tags": []
          },
          "execution_count": 26
        }
      ]
    },
    {
      "cell_type": "code",
      "metadata": {
        "id": "tj-Ma5wJ5IWV"
      },
      "source": [
        "# secting test columns including CID X LOC_NUM X VENDOR column\n",
        "\n",
        "test_predictions = test[['latitude_customer', 'longitude_customer', 'id', 'authentication_id',\n",
        "       'latitude_vendor', 'longitude_vendor', 'CID X LOC_NUM X VENDOR',\n",
        "        'haversine_dist']]"
      ],
      "execution_count": 30,
      "outputs": []
    },
    {
      "cell_type": "code",
      "metadata": {
        "id": "pB0a2boU6Re_",
        "outputId": "d2351428-1fed-4830-c932-41687d56b457",
        "colab": {
          "base_uri": "https://localhost:8080/",
          "height": 175
        }
      },
      "source": [
        "test_predictions.isnull().sum()"
      ],
      "execution_count": 33,
      "outputs": [
        {
          "output_type": "execute_result",
          "data": {
            "text/plain": [
              "latitude_customer         300\n",
              "longitude_customer        300\n",
              "id                          0\n",
              "authentication_id           0\n",
              "latitude_vendor             0\n",
              "longitude_vendor            0\n",
              "CID X LOC_NUM X VENDOR      0\n",
              "haversine_dist            300\n",
              "dtype: int64"
            ]
          },
          "metadata": {
            "tags": []
          },
          "execution_count": 33
        }
      ]
    },
    {
      "cell_type": "code",
      "metadata": {
        "id": "V8FrlEJR6h34",
        "outputId": "13231305-cd69-4fc5-d26f-51c0a069ca51",
        "colab": {
          "base_uri": "https://localhost:8080/",
          "height": 193
        }
      },
      "source": [
        "# deleting missing values\n",
        "test_predictions = test_predictions.dropna()\n",
        "print(test_predictions.shape)\n",
        "print(test_predictions.isnull().sum())"
      ],
      "execution_count": 34,
      "outputs": [
        {
          "output_type": "stream",
          "text": [
            "(1631400, 8)\n",
            "latitude_customer         0\n",
            "longitude_customer        0\n",
            "id                        0\n",
            "authentication_id         0\n",
            "latitude_vendor           0\n",
            "longitude_vendor          0\n",
            "CID X LOC_NUM X VENDOR    0\n",
            "haversine_dist            0\n",
            "dtype: int64\n"
          ],
          "name": "stdout"
        }
      ]
    },
    {
      "cell_type": "code",
      "metadata": {
        "id": "l0EfhKiM5nyF",
        "outputId": "a28be018-3919-4df9-8dac-22ac0181d205",
        "colab": {
          "base_uri": "https://localhost:8080/",
          "height": 308
        }
      },
      "source": [
        "# adding predictions to test_predictions df\n",
        "\n",
        "test_predictions['predictions'] = new_predictions\n",
        "test_predictions.head()"
      ],
      "execution_count": 35,
      "outputs": [
        {
          "output_type": "stream",
          "text": [
            "/usr/local/lib/python3.6/dist-packages/ipykernel_launcher.py:3: SettingWithCopyWarning: \n",
            "A value is trying to be set on a copy of a slice from a DataFrame.\n",
            "Try using .loc[row_indexer,col_indexer] = value instead\n",
            "\n",
            "See the caveats in the documentation: https://pandas.pydata.org/pandas-docs/stable/user_guide/indexing.html#returning-a-view-versus-a-copy\n",
            "  This is separate from the ipykernel package so we can avoid doing imports until\n"
          ],
          "name": "stderr"
        },
        {
          "output_type": "execute_result",
          "data": {
            "text/html": [
              "<div>\n",
              "<style scoped>\n",
              "    .dataframe tbody tr th:only-of-type {\n",
              "        vertical-align: middle;\n",
              "    }\n",
              "\n",
              "    .dataframe tbody tr th {\n",
              "        vertical-align: top;\n",
              "    }\n",
              "\n",
              "    .dataframe thead th {\n",
              "        text-align: right;\n",
              "    }\n",
              "</style>\n",
              "<table border=\"1\" class=\"dataframe\">\n",
              "  <thead>\n",
              "    <tr style=\"text-align: right;\">\n",
              "      <th></th>\n",
              "      <th>latitude_customer</th>\n",
              "      <th>longitude_customer</th>\n",
              "      <th>id</th>\n",
              "      <th>authentication_id</th>\n",
              "      <th>latitude_vendor</th>\n",
              "      <th>longitude_vendor</th>\n",
              "      <th>CID X LOC_NUM X VENDOR</th>\n",
              "      <th>haversine_dist</th>\n",
              "      <th>predictions</th>\n",
              "    </tr>\n",
              "  </thead>\n",
              "  <tbody>\n",
              "    <tr>\n",
              "      <th>0</th>\n",
              "      <td>-96.44</td>\n",
              "      <td>-67.2</td>\n",
              "      <td>4</td>\n",
              "      <td>118597.0</td>\n",
              "      <td>-0.5884</td>\n",
              "      <td>0.7544</td>\n",
              "      <td>ICE2DJP X 0 X 4</td>\n",
              "      <td>10210.781498</td>\n",
              "      <td>0</td>\n",
              "    </tr>\n",
              "    <tr>\n",
              "      <th>1</th>\n",
              "      <td>-96.44</td>\n",
              "      <td>-67.2</td>\n",
              "      <td>13</td>\n",
              "      <td>118608.0</td>\n",
              "      <td>-0.4717</td>\n",
              "      <td>0.7446</td>\n",
              "      <td>ICE2DJP X 0 X 13</td>\n",
              "      <td>10223.800918</td>\n",
              "      <td>0</td>\n",
              "    </tr>\n",
              "    <tr>\n",
              "      <th>2</th>\n",
              "      <td>-96.44</td>\n",
              "      <td>-67.2</td>\n",
              "      <td>20</td>\n",
              "      <td>118616.0</td>\n",
              "      <td>-0.4075</td>\n",
              "      <td>0.6436</td>\n",
              "      <td>ICE2DJP X 0 X 20</td>\n",
              "      <td>10232.068678</td>\n",
              "      <td>0</td>\n",
              "    </tr>\n",
              "    <tr>\n",
              "      <th>3</th>\n",
              "      <td>-96.44</td>\n",
              "      <td>-67.2</td>\n",
              "      <td>23</td>\n",
              "      <td>118619.0</td>\n",
              "      <td>-0.5854</td>\n",
              "      <td>0.7540</td>\n",
              "      <td>ICE2DJP X 0 X 23</td>\n",
              "      <td>10211.117900</td>\n",
              "      <td>0</td>\n",
              "    </tr>\n",
              "    <tr>\n",
              "      <th>4</th>\n",
              "      <td>-96.44</td>\n",
              "      <td>-67.2</td>\n",
              "      <td>28</td>\n",
              "      <td>118624.0</td>\n",
              "      <td>0.4807</td>\n",
              "      <td>0.5527</td>\n",
              "      <td>ICE2DJP X 0 X 28</td>\n",
              "      <td>10331.347778</td>\n",
              "      <td>0</td>\n",
              "    </tr>\n",
              "  </tbody>\n",
              "</table>\n",
              "</div>"
            ],
            "text/plain": [
              "   latitude_customer  longitude_customer  ...  haversine_dist  predictions\n",
              "0             -96.44               -67.2  ...    10210.781498            0\n",
              "1             -96.44               -67.2  ...    10223.800918            0\n",
              "2             -96.44               -67.2  ...    10232.068678            0\n",
              "3             -96.44               -67.2  ...    10211.117900            0\n",
              "4             -96.44               -67.2  ...    10331.347778            0\n",
              "\n",
              "[5 rows x 9 columns]"
            ]
          },
          "metadata": {
            "tags": []
          },
          "execution_count": 35
        }
      ]
    },
    {
      "cell_type": "markdown",
      "metadata": {
        "id": "ba_uOyoV7Xt6"
      },
      "source": [
        "## HOW TO RECOMMEND VENDORS TO AKEED USERS"
      ]
    },
    {
      "cell_type": "code",
      "metadata": {
        "id": "qJr__nnqxCsO",
        "outputId": "2dc83908-bec4-4ae6-e93c-83e7510e412f",
        "colab": {
          "base_uri": "https://localhost:8080/",
          "height": 220
        }
      },
      "source": [
        "# selecting CID X LOC_NUM X VENDOR and predictions, we will use this to make recommendations to Akeed user\n",
        "df = test_predictions[['CID X LOC_NUM X VENDOR', 'predictions']]\n",
        "print(df.shape)\n",
        "df.head()"
      ],
      "execution_count": 36,
      "outputs": [
        {
          "output_type": "stream",
          "text": [
            "(1631400, 2)\n"
          ],
          "name": "stdout"
        },
        {
          "output_type": "execute_result",
          "data": {
            "text/html": [
              "<div>\n",
              "<style scoped>\n",
              "    .dataframe tbody tr th:only-of-type {\n",
              "        vertical-align: middle;\n",
              "    }\n",
              "\n",
              "    .dataframe tbody tr th {\n",
              "        vertical-align: top;\n",
              "    }\n",
              "\n",
              "    .dataframe thead th {\n",
              "        text-align: right;\n",
              "    }\n",
              "</style>\n",
              "<table border=\"1\" class=\"dataframe\">\n",
              "  <thead>\n",
              "    <tr style=\"text-align: right;\">\n",
              "      <th></th>\n",
              "      <th>CID X LOC_NUM X VENDOR</th>\n",
              "      <th>predictions</th>\n",
              "    </tr>\n",
              "  </thead>\n",
              "  <tbody>\n",
              "    <tr>\n",
              "      <th>0</th>\n",
              "      <td>ICE2DJP X 0 X 4</td>\n",
              "      <td>0</td>\n",
              "    </tr>\n",
              "    <tr>\n",
              "      <th>1</th>\n",
              "      <td>ICE2DJP X 0 X 13</td>\n",
              "      <td>0</td>\n",
              "    </tr>\n",
              "    <tr>\n",
              "      <th>2</th>\n",
              "      <td>ICE2DJP X 0 X 20</td>\n",
              "      <td>0</td>\n",
              "    </tr>\n",
              "    <tr>\n",
              "      <th>3</th>\n",
              "      <td>ICE2DJP X 0 X 23</td>\n",
              "      <td>0</td>\n",
              "    </tr>\n",
              "    <tr>\n",
              "      <th>4</th>\n",
              "      <td>ICE2DJP X 0 X 28</td>\n",
              "      <td>0</td>\n",
              "    </tr>\n",
              "  </tbody>\n",
              "</table>\n",
              "</div>"
            ],
            "text/plain": [
              "  CID X LOC_NUM X VENDOR  predictions\n",
              "0        ICE2DJP X 0 X 4            0\n",
              "1       ICE2DJP X 0 X 13            0\n",
              "2       ICE2DJP X 0 X 20            0\n",
              "3       ICE2DJP X 0 X 23            0\n",
              "4       ICE2DJP X 0 X 28            0"
            ]
          },
          "metadata": {
            "tags": []
          },
          "execution_count": 36
        }
      ]
    },
    {
      "cell_type": "code",
      "metadata": {
        "id": "tbK9ZHyH9R9f",
        "outputId": "0370e534-15d0-4004-ef6a-cf29471ea81b",
        "colab": {
          "base_uri": "https://localhost:8080/",
          "height": 203
        }
      },
      "source": [
        "df.tail()"
      ],
      "execution_count": 37,
      "outputs": [
        {
          "output_type": "execute_result",
          "data": {
            "text/html": [
              "<div>\n",
              "<style scoped>\n",
              "    .dataframe tbody tr th:only-of-type {\n",
              "        vertical-align: middle;\n",
              "    }\n",
              "\n",
              "    .dataframe tbody tr th {\n",
              "        vertical-align: top;\n",
              "    }\n",
              "\n",
              "    .dataframe thead th {\n",
              "        text-align: right;\n",
              "    }\n",
              "</style>\n",
              "<table border=\"1\" class=\"dataframe\">\n",
              "  <thead>\n",
              "    <tr style=\"text-align: right;\">\n",
              "      <th></th>\n",
              "      <th>CID X LOC_NUM X VENDOR</th>\n",
              "      <th>predictions</th>\n",
              "    </tr>\n",
              "  </thead>\n",
              "  <tbody>\n",
              "    <tr>\n",
              "      <th>1631695</th>\n",
              "      <td>RMPE9Z1 X 0 X 849</td>\n",
              "      <td>0</td>\n",
              "    </tr>\n",
              "    <tr>\n",
              "      <th>1631696</th>\n",
              "      <td>RMPE9Z1 X 0 X 855</td>\n",
              "      <td>1</td>\n",
              "    </tr>\n",
              "    <tr>\n",
              "      <th>1631697</th>\n",
              "      <td>RMPE9Z1 X 0 X 856</td>\n",
              "      <td>0</td>\n",
              "    </tr>\n",
              "    <tr>\n",
              "      <th>1631698</th>\n",
              "      <td>RMPE9Z1 X 0 X 858</td>\n",
              "      <td>0</td>\n",
              "    </tr>\n",
              "    <tr>\n",
              "      <th>1631699</th>\n",
              "      <td>RMPE9Z1 X 0 X 907</td>\n",
              "      <td>0</td>\n",
              "    </tr>\n",
              "  </tbody>\n",
              "</table>\n",
              "</div>"
            ],
            "text/plain": [
              "        CID X LOC_NUM X VENDOR  predictions\n",
              "1631695      RMPE9Z1 X 0 X 849            0\n",
              "1631696      RMPE9Z1 X 0 X 855            1\n",
              "1631697      RMPE9Z1 X 0 X 856            0\n",
              "1631698      RMPE9Z1 X 0 X 858            0\n",
              "1631699      RMPE9Z1 X 0 X 907            0"
            ]
          },
          "metadata": {
            "tags": []
          },
          "execution_count": 37
        }
      ]
    },
    {
      "cell_type": "code",
      "metadata": {
        "id": "ZJlc3qSu1c_U",
        "outputId": "80b5c508-9da0-41b1-84ae-29cd17b1e7e6",
        "colab": {
          "base_uri": "https://localhost:8080/",
          "height": 308
        }
      },
      "source": [
        "# splitting CID, LOC_NUM and VENDOR Column. This is useful because we need to separate the vendors before we group by \n",
        "# user ids\n",
        "df[['CID', 'LOC_NUM', 'VENDOR']] = df['CID X LOC_NUM X VENDOR'].str.split(' X ', n=3, expand = True)\n",
        "df.head()"
      ],
      "execution_count": 38,
      "outputs": [
        {
          "output_type": "stream",
          "text": [
            "/usr/local/lib/python3.6/dist-packages/pandas/core/frame.py:3065: SettingWithCopyWarning: \n",
            "A value is trying to be set on a copy of a slice from a DataFrame.\n",
            "Try using .loc[row_indexer,col_indexer] = value instead\n",
            "\n",
            "See the caveats in the documentation: https://pandas.pydata.org/pandas-docs/stable/user_guide/indexing.html#returning-a-view-versus-a-copy\n",
            "  self[k1] = value[k2]\n"
          ],
          "name": "stderr"
        },
        {
          "output_type": "execute_result",
          "data": {
            "text/html": [
              "<div>\n",
              "<style scoped>\n",
              "    .dataframe tbody tr th:only-of-type {\n",
              "        vertical-align: middle;\n",
              "    }\n",
              "\n",
              "    .dataframe tbody tr th {\n",
              "        vertical-align: top;\n",
              "    }\n",
              "\n",
              "    .dataframe thead th {\n",
              "        text-align: right;\n",
              "    }\n",
              "</style>\n",
              "<table border=\"1\" class=\"dataframe\">\n",
              "  <thead>\n",
              "    <tr style=\"text-align: right;\">\n",
              "      <th></th>\n",
              "      <th>CID X LOC_NUM X VENDOR</th>\n",
              "      <th>predictions</th>\n",
              "      <th>CID</th>\n",
              "      <th>LOC_NUM</th>\n",
              "      <th>VENDOR</th>\n",
              "    </tr>\n",
              "  </thead>\n",
              "  <tbody>\n",
              "    <tr>\n",
              "      <th>0</th>\n",
              "      <td>ICE2DJP X 0 X 4</td>\n",
              "      <td>0</td>\n",
              "      <td>ICE2DJP</td>\n",
              "      <td>0</td>\n",
              "      <td>4</td>\n",
              "    </tr>\n",
              "    <tr>\n",
              "      <th>1</th>\n",
              "      <td>ICE2DJP X 0 X 13</td>\n",
              "      <td>0</td>\n",
              "      <td>ICE2DJP</td>\n",
              "      <td>0</td>\n",
              "      <td>13</td>\n",
              "    </tr>\n",
              "    <tr>\n",
              "      <th>2</th>\n",
              "      <td>ICE2DJP X 0 X 20</td>\n",
              "      <td>0</td>\n",
              "      <td>ICE2DJP</td>\n",
              "      <td>0</td>\n",
              "      <td>20</td>\n",
              "    </tr>\n",
              "    <tr>\n",
              "      <th>3</th>\n",
              "      <td>ICE2DJP X 0 X 23</td>\n",
              "      <td>0</td>\n",
              "      <td>ICE2DJP</td>\n",
              "      <td>0</td>\n",
              "      <td>23</td>\n",
              "    </tr>\n",
              "    <tr>\n",
              "      <th>4</th>\n",
              "      <td>ICE2DJP X 0 X 28</td>\n",
              "      <td>0</td>\n",
              "      <td>ICE2DJP</td>\n",
              "      <td>0</td>\n",
              "      <td>28</td>\n",
              "    </tr>\n",
              "  </tbody>\n",
              "</table>\n",
              "</div>"
            ],
            "text/plain": [
              "  CID X LOC_NUM X VENDOR  predictions      CID LOC_NUM VENDOR\n",
              "0        ICE2DJP X 0 X 4            0  ICE2DJP       0      4\n",
              "1       ICE2DJP X 0 X 13            0  ICE2DJP       0     13\n",
              "2       ICE2DJP X 0 X 20            0  ICE2DJP       0     20\n",
              "3       ICE2DJP X 0 X 23            0  ICE2DJP       0     23\n",
              "4       ICE2DJP X 0 X 28            0  ICE2DJP       0     28"
            ]
          },
          "metadata": {
            "tags": []
          },
          "execution_count": 38
        }
      ]
    },
    {
      "cell_type": "markdown",
      "metadata": {
        "id": "6VLSV2xo8wTq"
      },
      "source": [
        "#### Vendor Recommendations, Akeed app user one"
      ]
    },
    {
      "cell_type": "code",
      "metadata": {
        "id": "uetkPb5u_vmT",
        "outputId": "c448ef7b-6415-4958-a478-398c252836fd",
        "colab": {
          "base_uri": "https://localhost:8080/",
          "height": 52
        }
      },
      "source": [
        "# checking for uniques customer IDs\n",
        "df['CID'].unique()"
      ],
      "execution_count": null,
      "outputs": [
        {
          "output_type": "execute_result",
          "data": {
            "text/plain": [
              "array(['ICE2DJP', 'FWNUI71', 'LRX7BCH', ..., 'H1S2T2Y', 'QGPCD5S',\n",
              "       'RMPE9Z1'], dtype=object)"
            ]
          },
          "metadata": {
            "tags": []
          },
          "execution_count": 47
        }
      ]
    },
    {
      "cell_type": "code",
      "metadata": {
        "id": "UvFwKgMM3Ugu",
        "outputId": "ee7b28b5-3d85-47a7-bd75-b9c8cd237625",
        "colab": {
          "base_uri": "https://localhost:8080/",
          "height": 203
        }
      },
      "source": [
        "# Recommending vendors to user 1\n",
        "customer1 = df.groupby(['CID']).get_group('ICE2DJP')\n",
        "customer1.head(5)"
      ],
      "execution_count": 42,
      "outputs": [
        {
          "output_type": "execute_result",
          "data": {
            "text/html": [
              "<div>\n",
              "<style scoped>\n",
              "    .dataframe tbody tr th:only-of-type {\n",
              "        vertical-align: middle;\n",
              "    }\n",
              "\n",
              "    .dataframe tbody tr th {\n",
              "        vertical-align: top;\n",
              "    }\n",
              "\n",
              "    .dataframe thead th {\n",
              "        text-align: right;\n",
              "    }\n",
              "</style>\n",
              "<table border=\"1\" class=\"dataframe\">\n",
              "  <thead>\n",
              "    <tr style=\"text-align: right;\">\n",
              "      <th></th>\n",
              "      <th>CID X LOC_NUM X VENDOR</th>\n",
              "      <th>predictions</th>\n",
              "      <th>CID</th>\n",
              "      <th>LOC_NUM</th>\n",
              "      <th>VENDOR</th>\n",
              "    </tr>\n",
              "  </thead>\n",
              "  <tbody>\n",
              "    <tr>\n",
              "      <th>0</th>\n",
              "      <td>ICE2DJP X 0 X 4</td>\n",
              "      <td>0</td>\n",
              "      <td>ICE2DJP</td>\n",
              "      <td>0</td>\n",
              "      <td>4</td>\n",
              "    </tr>\n",
              "    <tr>\n",
              "      <th>1</th>\n",
              "      <td>ICE2DJP X 0 X 13</td>\n",
              "      <td>0</td>\n",
              "      <td>ICE2DJP</td>\n",
              "      <td>0</td>\n",
              "      <td>13</td>\n",
              "    </tr>\n",
              "    <tr>\n",
              "      <th>2</th>\n",
              "      <td>ICE2DJP X 0 X 20</td>\n",
              "      <td>0</td>\n",
              "      <td>ICE2DJP</td>\n",
              "      <td>0</td>\n",
              "      <td>20</td>\n",
              "    </tr>\n",
              "    <tr>\n",
              "      <th>3</th>\n",
              "      <td>ICE2DJP X 0 X 23</td>\n",
              "      <td>0</td>\n",
              "      <td>ICE2DJP</td>\n",
              "      <td>0</td>\n",
              "      <td>23</td>\n",
              "    </tr>\n",
              "    <tr>\n",
              "      <th>4</th>\n",
              "      <td>ICE2DJP X 0 X 28</td>\n",
              "      <td>0</td>\n",
              "      <td>ICE2DJP</td>\n",
              "      <td>0</td>\n",
              "      <td>28</td>\n",
              "    </tr>\n",
              "  </tbody>\n",
              "</table>\n",
              "</div>"
            ],
            "text/plain": [
              "  CID X LOC_NUM X VENDOR  predictions      CID LOC_NUM VENDOR\n",
              "0        ICE2DJP X 0 X 4            0  ICE2DJP       0      4\n",
              "1       ICE2DJP X 0 X 13            0  ICE2DJP       0     13\n",
              "2       ICE2DJP X 0 X 20            0  ICE2DJP       0     20\n",
              "3       ICE2DJP X 0 X 23            0  ICE2DJP       0     23\n",
              "4       ICE2DJP X 0 X 28            0  ICE2DJP       0     28"
            ]
          },
          "metadata": {
            "tags": []
          },
          "execution_count": 42
        }
      ]
    },
    {
      "cell_type": "code",
      "metadata": {
        "id": "teJODGcR9J1S",
        "outputId": "d100cb7a-0fdf-4bd6-c14e-a55dcc04948a",
        "colab": {
          "base_uri": "https://localhost:8080/",
          "height": 203
        }
      },
      "source": [
        "customer1_recommendation = customer1[customer1['predictions'] ==1] #selecting entries where orders were made\n",
        "customer1_recommendation.head() #selecting 5 recommendations"
      ],
      "execution_count": 45,
      "outputs": [
        {
          "output_type": "execute_result",
          "data": {
            "text/html": [
              "<div>\n",
              "<style scoped>\n",
              "    .dataframe tbody tr th:only-of-type {\n",
              "        vertical-align: middle;\n",
              "    }\n",
              "\n",
              "    .dataframe tbody tr th {\n",
              "        vertical-align: top;\n",
              "    }\n",
              "\n",
              "    .dataframe thead th {\n",
              "        text-align: right;\n",
              "    }\n",
              "</style>\n",
              "<table border=\"1\" class=\"dataframe\">\n",
              "  <thead>\n",
              "    <tr style=\"text-align: right;\">\n",
              "      <th></th>\n",
              "      <th>CID X LOC_NUM X VENDOR</th>\n",
              "      <th>predictions</th>\n",
              "      <th>CID</th>\n",
              "      <th>LOC_NUM</th>\n",
              "      <th>VENDOR</th>\n",
              "    </tr>\n",
              "  </thead>\n",
              "  <tbody>\n",
              "    <tr>\n",
              "      <th>13</th>\n",
              "      <td>ICE2DJP X 0 X 78</td>\n",
              "      <td>1</td>\n",
              "      <td>ICE2DJP</td>\n",
              "      <td>0</td>\n",
              "      <td>78</td>\n",
              "    </tr>\n",
              "    <tr>\n",
              "      <th>14</th>\n",
              "      <td>ICE2DJP X 0 X 79</td>\n",
              "      <td>1</td>\n",
              "      <td>ICE2DJP</td>\n",
              "      <td>0</td>\n",
              "      <td>79</td>\n",
              "    </tr>\n",
              "    <tr>\n",
              "      <th>15</th>\n",
              "      <td>ICE2DJP X 0 X 81</td>\n",
              "      <td>1</td>\n",
              "      <td>ICE2DJP</td>\n",
              "      <td>0</td>\n",
              "      <td>81</td>\n",
              "    </tr>\n",
              "    <tr>\n",
              "      <th>16</th>\n",
              "      <td>ICE2DJP X 0 X 82</td>\n",
              "      <td>1</td>\n",
              "      <td>ICE2DJP</td>\n",
              "      <td>0</td>\n",
              "      <td>82</td>\n",
              "    </tr>\n",
              "    <tr>\n",
              "      <th>17</th>\n",
              "      <td>ICE2DJP X 0 X 83</td>\n",
              "      <td>1</td>\n",
              "      <td>ICE2DJP</td>\n",
              "      <td>0</td>\n",
              "      <td>83</td>\n",
              "    </tr>\n",
              "  </tbody>\n",
              "</table>\n",
              "</div>"
            ],
            "text/plain": [
              "   CID X LOC_NUM X VENDOR  predictions      CID LOC_NUM VENDOR\n",
              "13       ICE2DJP X 0 X 78            1  ICE2DJP       0     78\n",
              "14       ICE2DJP X 0 X 79            1  ICE2DJP       0     79\n",
              "15       ICE2DJP X 0 X 81            1  ICE2DJP       0     81\n",
              "16       ICE2DJP X 0 X 82            1  ICE2DJP       0     82\n",
              "17       ICE2DJP X 0 X 83            1  ICE2DJP       0     83"
            ]
          },
          "metadata": {
            "tags": []
          },
          "execution_count": 45
        }
      ]
    },
    {
      "cell_type": "markdown",
      "metadata": {
        "id": "UfqOGgCO9fY2"
      },
      "source": [
        "We would recommend vendors 78, 79, 81, 82, and 83 to customer1."
      ]
    },
    {
      "cell_type": "markdown",
      "metadata": {
        "id": "9peymT4Z-gPu"
      },
      "source": [
        "#### Vendor Recommendations, Akeed app user two"
      ]
    },
    {
      "cell_type": "code",
      "metadata": {
        "id": "bc_y-JND-esf",
        "outputId": "5f20d9c0-eabf-4d89-8b7b-30bfe890db90",
        "colab": {
          "base_uri": "https://localhost:8080/",
          "height": 203
        }
      },
      "source": [
        "# Recommending vendors to user 2\n",
        "customer2 = df.groupby(['CID']).get_group('RMPE9Z1')\n",
        "customer2.head(5)"
      ],
      "execution_count": 48,
      "outputs": [
        {
          "output_type": "execute_result",
          "data": {
            "text/html": [
              "<div>\n",
              "<style scoped>\n",
              "    .dataframe tbody tr th:only-of-type {\n",
              "        vertical-align: middle;\n",
              "    }\n",
              "\n",
              "    .dataframe tbody tr th {\n",
              "        vertical-align: top;\n",
              "    }\n",
              "\n",
              "    .dataframe thead th {\n",
              "        text-align: right;\n",
              "    }\n",
              "</style>\n",
              "<table border=\"1\" class=\"dataframe\">\n",
              "  <thead>\n",
              "    <tr style=\"text-align: right;\">\n",
              "      <th></th>\n",
              "      <th>CID X LOC_NUM X VENDOR</th>\n",
              "      <th>predictions</th>\n",
              "      <th>CID</th>\n",
              "      <th>LOC_NUM</th>\n",
              "      <th>VENDOR</th>\n",
              "    </tr>\n",
              "  </thead>\n",
              "  <tbody>\n",
              "    <tr>\n",
              "      <th>1631600</th>\n",
              "      <td>RMPE9Z1 X 0 X 4</td>\n",
              "      <td>0</td>\n",
              "      <td>RMPE9Z1</td>\n",
              "      <td>0</td>\n",
              "      <td>4</td>\n",
              "    </tr>\n",
              "    <tr>\n",
              "      <th>1631601</th>\n",
              "      <td>RMPE9Z1 X 0 X 13</td>\n",
              "      <td>0</td>\n",
              "      <td>RMPE9Z1</td>\n",
              "      <td>0</td>\n",
              "      <td>13</td>\n",
              "    </tr>\n",
              "    <tr>\n",
              "      <th>1631602</th>\n",
              "      <td>RMPE9Z1 X 0 X 20</td>\n",
              "      <td>0</td>\n",
              "      <td>RMPE9Z1</td>\n",
              "      <td>0</td>\n",
              "      <td>20</td>\n",
              "    </tr>\n",
              "    <tr>\n",
              "      <th>1631603</th>\n",
              "      <td>RMPE9Z1 X 0 X 23</td>\n",
              "      <td>0</td>\n",
              "      <td>RMPE9Z1</td>\n",
              "      <td>0</td>\n",
              "      <td>23</td>\n",
              "    </tr>\n",
              "    <tr>\n",
              "      <th>1631604</th>\n",
              "      <td>RMPE9Z1 X 0 X 28</td>\n",
              "      <td>0</td>\n",
              "      <td>RMPE9Z1</td>\n",
              "      <td>0</td>\n",
              "      <td>28</td>\n",
              "    </tr>\n",
              "  </tbody>\n",
              "</table>\n",
              "</div>"
            ],
            "text/plain": [
              "        CID X LOC_NUM X VENDOR  predictions      CID LOC_NUM VENDOR\n",
              "1631600        RMPE9Z1 X 0 X 4            0  RMPE9Z1       0      4\n",
              "1631601       RMPE9Z1 X 0 X 13            0  RMPE9Z1       0     13\n",
              "1631602       RMPE9Z1 X 0 X 20            0  RMPE9Z1       0     20\n",
              "1631603       RMPE9Z1 X 0 X 23            0  RMPE9Z1       0     23\n",
              "1631604       RMPE9Z1 X 0 X 28            0  RMPE9Z1       0     28"
            ]
          },
          "metadata": {
            "tags": []
          },
          "execution_count": 48
        }
      ]
    },
    {
      "cell_type": "code",
      "metadata": {
        "id": "NjQwhKlV-xXr",
        "outputId": "62e066ac-443b-4eb5-8628-b9ad26b3864a",
        "colab": {
          "base_uri": "https://localhost:8080/",
          "height": 203
        }
      },
      "source": [
        "customer2_recommendation = customer2[customer2['predictions'] ==1] #selecting entries where orders were made\n",
        "customer2_recommendation.head() #selecting 5 recommendations"
      ],
      "execution_count": 49,
      "outputs": [
        {
          "output_type": "execute_result",
          "data": {
            "text/html": [
              "<div>\n",
              "<style scoped>\n",
              "    .dataframe tbody tr th:only-of-type {\n",
              "        vertical-align: middle;\n",
              "    }\n",
              "\n",
              "    .dataframe tbody tr th {\n",
              "        vertical-align: top;\n",
              "    }\n",
              "\n",
              "    .dataframe thead th {\n",
              "        text-align: right;\n",
              "    }\n",
              "</style>\n",
              "<table border=\"1\" class=\"dataframe\">\n",
              "  <thead>\n",
              "    <tr style=\"text-align: right;\">\n",
              "      <th></th>\n",
              "      <th>CID X LOC_NUM X VENDOR</th>\n",
              "      <th>predictions</th>\n",
              "      <th>CID</th>\n",
              "      <th>LOC_NUM</th>\n",
              "      <th>VENDOR</th>\n",
              "    </tr>\n",
              "  </thead>\n",
              "  <tbody>\n",
              "    <tr>\n",
              "      <th>1631614</th>\n",
              "      <td>RMPE9Z1 X 0 X 79</td>\n",
              "      <td>1</td>\n",
              "      <td>RMPE9Z1</td>\n",
              "      <td>0</td>\n",
              "      <td>79</td>\n",
              "    </tr>\n",
              "    <tr>\n",
              "      <th>1631627</th>\n",
              "      <td>RMPE9Z1 X 0 X 113</td>\n",
              "      <td>1</td>\n",
              "      <td>RMPE9Z1</td>\n",
              "      <td>0</td>\n",
              "      <td>113</td>\n",
              "    </tr>\n",
              "    <tr>\n",
              "      <th>1631682</th>\n",
              "      <td>RMPE9Z1 X 0 X 573</td>\n",
              "      <td>1</td>\n",
              "      <td>RMPE9Z1</td>\n",
              "      <td>0</td>\n",
              "      <td>573</td>\n",
              "    </tr>\n",
              "    <tr>\n",
              "      <th>1631685</th>\n",
              "      <td>RMPE9Z1 X 0 X 578</td>\n",
              "      <td>1</td>\n",
              "      <td>RMPE9Z1</td>\n",
              "      <td>0</td>\n",
              "      <td>578</td>\n",
              "    </tr>\n",
              "    <tr>\n",
              "      <th>1631689</th>\n",
              "      <td>RMPE9Z1 X 0 X 679</td>\n",
              "      <td>1</td>\n",
              "      <td>RMPE9Z1</td>\n",
              "      <td>0</td>\n",
              "      <td>679</td>\n",
              "    </tr>\n",
              "  </tbody>\n",
              "</table>\n",
              "</div>"
            ],
            "text/plain": [
              "        CID X LOC_NUM X VENDOR  predictions      CID LOC_NUM VENDOR\n",
              "1631614       RMPE9Z1 X 0 X 79            1  RMPE9Z1       0     79\n",
              "1631627      RMPE9Z1 X 0 X 113            1  RMPE9Z1       0    113\n",
              "1631682      RMPE9Z1 X 0 X 573            1  RMPE9Z1       0    573\n",
              "1631685      RMPE9Z1 X 0 X 578            1  RMPE9Z1       0    578\n",
              "1631689      RMPE9Z1 X 0 X 679            1  RMPE9Z1       0    679"
            ]
          },
          "metadata": {
            "tags": []
          },
          "execution_count": 49
        }
      ]
    },
    {
      "cell_type": "markdown",
      "metadata": {
        "id": "CcbFNQAF-5wi"
      },
      "source": [
        "We would recommend vendors 79, 113, 573, 578, and 679 to customer2."
      ]
    },
    {
      "cell_type": "markdown",
      "metadata": {
        "id": "wjWo2FBq_D5U"
      },
      "source": [
        "#### Vendor Recommendations, Akeed app user three"
      ]
    },
    {
      "cell_type": "code",
      "metadata": {
        "id": "-zBzofvq_Is2",
        "outputId": "6ba3cfb6-ac1c-4306-ec83-f8bd5cf732f7",
        "colab": {
          "base_uri": "https://localhost:8080/",
          "height": 203
        }
      },
      "source": [
        "# Recommending vendors to user 3\n",
        "customer3 = df.groupby(['CID']).get_group('LRX7BCH')\n",
        "customer3.head(5)"
      ],
      "execution_count": 50,
      "outputs": [
        {
          "output_type": "execute_result",
          "data": {
            "text/html": [
              "<div>\n",
              "<style scoped>\n",
              "    .dataframe tbody tr th:only-of-type {\n",
              "        vertical-align: middle;\n",
              "    }\n",
              "\n",
              "    .dataframe tbody tr th {\n",
              "        vertical-align: top;\n",
              "    }\n",
              "\n",
              "    .dataframe thead th {\n",
              "        text-align: right;\n",
              "    }\n",
              "</style>\n",
              "<table border=\"1\" class=\"dataframe\">\n",
              "  <thead>\n",
              "    <tr style=\"text-align: right;\">\n",
              "      <th></th>\n",
              "      <th>CID X LOC_NUM X VENDOR</th>\n",
              "      <th>predictions</th>\n",
              "      <th>CID</th>\n",
              "      <th>LOC_NUM</th>\n",
              "      <th>VENDOR</th>\n",
              "    </tr>\n",
              "  </thead>\n",
              "  <tbody>\n",
              "    <tr>\n",
              "      <th>900</th>\n",
              "      <td>LRX7BCH X 0 X 4</td>\n",
              "      <td>1</td>\n",
              "      <td>LRX7BCH</td>\n",
              "      <td>0</td>\n",
              "      <td>4</td>\n",
              "    </tr>\n",
              "    <tr>\n",
              "      <th>901</th>\n",
              "      <td>LRX7BCH X 0 X 13</td>\n",
              "      <td>1</td>\n",
              "      <td>LRX7BCH</td>\n",
              "      <td>0</td>\n",
              "      <td>13</td>\n",
              "    </tr>\n",
              "    <tr>\n",
              "      <th>902</th>\n",
              "      <td>LRX7BCH X 0 X 20</td>\n",
              "      <td>1</td>\n",
              "      <td>LRX7BCH</td>\n",
              "      <td>0</td>\n",
              "      <td>20</td>\n",
              "    </tr>\n",
              "    <tr>\n",
              "      <th>903</th>\n",
              "      <td>LRX7BCH X 0 X 23</td>\n",
              "      <td>1</td>\n",
              "      <td>LRX7BCH</td>\n",
              "      <td>0</td>\n",
              "      <td>23</td>\n",
              "    </tr>\n",
              "    <tr>\n",
              "      <th>904</th>\n",
              "      <td>LRX7BCH X 0 X 28</td>\n",
              "      <td>1</td>\n",
              "      <td>LRX7BCH</td>\n",
              "      <td>0</td>\n",
              "      <td>28</td>\n",
              "    </tr>\n",
              "  </tbody>\n",
              "</table>\n",
              "</div>"
            ],
            "text/plain": [
              "    CID X LOC_NUM X VENDOR  predictions      CID LOC_NUM VENDOR\n",
              "900        LRX7BCH X 0 X 4            1  LRX7BCH       0      4\n",
              "901       LRX7BCH X 0 X 13            1  LRX7BCH       0     13\n",
              "902       LRX7BCH X 0 X 20            1  LRX7BCH       0     20\n",
              "903       LRX7BCH X 0 X 23            1  LRX7BCH       0     23\n",
              "904       LRX7BCH X 0 X 28            1  LRX7BCH       0     28"
            ]
          },
          "metadata": {
            "tags": []
          },
          "execution_count": 50
        }
      ]
    },
    {
      "cell_type": "code",
      "metadata": {
        "id": "cccVXUgx_T-r",
        "outputId": "08cf8641-5948-4ca2-8349-0b5f34d0bc5e",
        "colab": {
          "base_uri": "https://localhost:8080/",
          "height": 203
        }
      },
      "source": [
        "customer3_recommendation = customer3[customer3['predictions'] ==1] #selecting entries where orders were made\n",
        "customer3_recommendation.head() #selecting 5 recommendations"
      ],
      "execution_count": 51,
      "outputs": [
        {
          "output_type": "execute_result",
          "data": {
            "text/html": [
              "<div>\n",
              "<style scoped>\n",
              "    .dataframe tbody tr th:only-of-type {\n",
              "        vertical-align: middle;\n",
              "    }\n",
              "\n",
              "    .dataframe tbody tr th {\n",
              "        vertical-align: top;\n",
              "    }\n",
              "\n",
              "    .dataframe thead th {\n",
              "        text-align: right;\n",
              "    }\n",
              "</style>\n",
              "<table border=\"1\" class=\"dataframe\">\n",
              "  <thead>\n",
              "    <tr style=\"text-align: right;\">\n",
              "      <th></th>\n",
              "      <th>CID X LOC_NUM X VENDOR</th>\n",
              "      <th>predictions</th>\n",
              "      <th>CID</th>\n",
              "      <th>LOC_NUM</th>\n",
              "      <th>VENDOR</th>\n",
              "    </tr>\n",
              "  </thead>\n",
              "  <tbody>\n",
              "    <tr>\n",
              "      <th>900</th>\n",
              "      <td>LRX7BCH X 0 X 4</td>\n",
              "      <td>1</td>\n",
              "      <td>LRX7BCH</td>\n",
              "      <td>0</td>\n",
              "      <td>4</td>\n",
              "    </tr>\n",
              "    <tr>\n",
              "      <th>901</th>\n",
              "      <td>LRX7BCH X 0 X 13</td>\n",
              "      <td>1</td>\n",
              "      <td>LRX7BCH</td>\n",
              "      <td>0</td>\n",
              "      <td>13</td>\n",
              "    </tr>\n",
              "    <tr>\n",
              "      <th>902</th>\n",
              "      <td>LRX7BCH X 0 X 20</td>\n",
              "      <td>1</td>\n",
              "      <td>LRX7BCH</td>\n",
              "      <td>0</td>\n",
              "      <td>20</td>\n",
              "    </tr>\n",
              "    <tr>\n",
              "      <th>903</th>\n",
              "      <td>LRX7BCH X 0 X 23</td>\n",
              "      <td>1</td>\n",
              "      <td>LRX7BCH</td>\n",
              "      <td>0</td>\n",
              "      <td>23</td>\n",
              "    </tr>\n",
              "    <tr>\n",
              "      <th>904</th>\n",
              "      <td>LRX7BCH X 0 X 28</td>\n",
              "      <td>1</td>\n",
              "      <td>LRX7BCH</td>\n",
              "      <td>0</td>\n",
              "      <td>28</td>\n",
              "    </tr>\n",
              "  </tbody>\n",
              "</table>\n",
              "</div>"
            ],
            "text/plain": [
              "    CID X LOC_NUM X VENDOR  predictions      CID LOC_NUM VENDOR\n",
              "900        LRX7BCH X 0 X 4            1  LRX7BCH       0      4\n",
              "901       LRX7BCH X 0 X 13            1  LRX7BCH       0     13\n",
              "902       LRX7BCH X 0 X 20            1  LRX7BCH       0     20\n",
              "903       LRX7BCH X 0 X 23            1  LRX7BCH       0     23\n",
              "904       LRX7BCH X 0 X 28            1  LRX7BCH       0     28"
            ]
          },
          "metadata": {
            "tags": []
          },
          "execution_count": 51
        }
      ]
    },
    {
      "cell_type": "markdown",
      "metadata": {
        "id": "lL5Eojiv_awk"
      },
      "source": [
        "We would recommend vendors 4, 13, 20, 23 and 28 to customer3.\n"
      ]
    },
    {
      "cell_type": "markdown",
      "metadata": {
        "id": "C0hpSaBk3PlN"
      },
      "source": [
        "## CONCLUSIONS"
      ]
    },
    {
      "cell_type": "markdown",
      "metadata": {
        "id": "gD9vNvblBP2c"
      },
      "source": [
        "We would recommend the following vendors to the following customers.\n",
        "\n",
        "Vendors 4, 13, 20, 23 and 28 to customer with customer ID LRx7BCH.\n",
        "\n",
        "Vendors 79, 113, 573, 578, and 679 to customer with customer ID RMPE9Z1.\n",
        "\n",
        "Vendors 78, 79, 81, 82, and 83 to customer with customer ID ICE2DJP.\n"
      ]
    },
    {
      "cell_type": "markdown",
      "metadata": {
        "id": "icLzevQb214P"
      },
      "source": [
        "#### Prepping data for Zindi submission"
      ]
    },
    {
      "cell_type": "code",
      "metadata": {
        "id": "CfUv_mgpFh1v",
        "outputId": "e60d25be-de7e-471d-e48d-2df455604c62",
        "colab": {
          "base_uri": "https://localhost:8080/",
          "height": 123
        }
      },
      "source": [
        "# # selecting the most important features including CID X LOC_NUM X VENDOR\n",
        "test2 = test[[ 'latitude_customer', 'longitude_customer', 'id', 'authentication_id',\n",
        "       'latitude_vendor', 'longitude_vendor', 'CID X LOC_NUM X VENDOR',\n",
        "        'haversine_dist']]\n",
        "print(test2.shape) # shape of our new dataset\n",
        "print(test2.head(2))"
      ],
      "execution_count": 67,
      "outputs": [
        {
          "output_type": "stream",
          "text": [
            "(1631700, 8)\n",
            "   latitude_customer  longitude_customer  ...  CID X LOC_NUM X VENDOR  haversine_dist\n",
            "0             -96.44               -67.2  ...         ICE2DJP X 0 X 4    10210.781498\n",
            "1             -96.44               -67.2  ...        ICE2DJP X 0 X 13    10223.800918\n",
            "\n",
            "[2 rows x 8 columns]\n"
          ],
          "name": "stdout"
        }
      ]
    },
    {
      "cell_type": "code",
      "metadata": {
        "id": "F29sagP9NfFR",
        "outputId": "8f087bcb-39f8-4dc4-8893-9b89c6a5872e",
        "colab": {
          "base_uri": "https://localhost:8080/",
          "height": 175
        }
      },
      "source": [
        "# checking for missing values\n",
        "\n",
        "test2.isnull().sum()"
      ],
      "execution_count": 68,
      "outputs": [
        {
          "output_type": "execute_result",
          "data": {
            "text/plain": [
              "latitude_customer         300\n",
              "longitude_customer        300\n",
              "id                          0\n",
              "authentication_id           0\n",
              "latitude_vendor             0\n",
              "longitude_vendor            0\n",
              "CID X LOC_NUM X VENDOR      0\n",
              "haversine_dist            300\n",
              "dtype: int64"
            ]
          },
          "metadata": {
            "tags": []
          },
          "execution_count": 68
        }
      ]
    },
    {
      "cell_type": "code",
      "metadata": {
        "id": "sSDHRtctOE-l",
        "outputId": "57e56adb-9e4a-40b0-b147-e9e3a230cbcc",
        "colab": {
          "base_uri": "https://localhost:8080/",
          "height": 492
        }
      },
      "source": [
        "test2['latitude_customer'] = test2['latitude_customer'].fillna(test2['latitude_customer'].mean())\n",
        "test2['longitude_customer'] = test2['longitude_customer'].fillna(test2['longitude_customer'].mean())\n",
        "test2['haversine_dist'] = test2['haversine_dist'].fillna(test2['haversine_dist'].mean())\n",
        "test2.isnull().sum()"
      ],
      "execution_count": 69,
      "outputs": [
        {
          "output_type": "stream",
          "text": [
            "/usr/local/lib/python3.6/dist-packages/ipykernel_launcher.py:1: SettingWithCopyWarning: \n",
            "A value is trying to be set on a copy of a slice from a DataFrame.\n",
            "Try using .loc[row_indexer,col_indexer] = value instead\n",
            "\n",
            "See the caveats in the documentation: https://pandas.pydata.org/pandas-docs/stable/user_guide/indexing.html#returning-a-view-versus-a-copy\n",
            "  \"\"\"Entry point for launching an IPython kernel.\n",
            "/usr/local/lib/python3.6/dist-packages/ipykernel_launcher.py:2: SettingWithCopyWarning: \n",
            "A value is trying to be set on a copy of a slice from a DataFrame.\n",
            "Try using .loc[row_indexer,col_indexer] = value instead\n",
            "\n",
            "See the caveats in the documentation: https://pandas.pydata.org/pandas-docs/stable/user_guide/indexing.html#returning-a-view-versus-a-copy\n",
            "  \n",
            "/usr/local/lib/python3.6/dist-packages/ipykernel_launcher.py:3: SettingWithCopyWarning: \n",
            "A value is trying to be set on a copy of a slice from a DataFrame.\n",
            "Try using .loc[row_indexer,col_indexer] = value instead\n",
            "\n",
            "See the caveats in the documentation: https://pandas.pydata.org/pandas-docs/stable/user_guide/indexing.html#returning-a-view-versus-a-copy\n",
            "  This is separate from the ipykernel package so we can avoid doing imports until\n"
          ],
          "name": "stderr"
        },
        {
          "output_type": "execute_result",
          "data": {
            "text/plain": [
              "latitude_customer         0\n",
              "longitude_customer        0\n",
              "id                        0\n",
              "authentication_id         0\n",
              "latitude_vendor           0\n",
              "longitude_vendor          0\n",
              "CID X LOC_NUM X VENDOR    0\n",
              "haversine_dist            0\n",
              "dtype: int64"
            ]
          },
          "metadata": {
            "tags": []
          },
          "execution_count": 69
        }
      ]
    },
    {
      "cell_type": "code",
      "metadata": {
        "id": "mHEXLWmDrnU1",
        "outputId": "6c19ea37-0d79-45b2-c99c-702d011e9600",
        "colab": {
          "base_uri": "https://localhost:8080/",
          "height": 110
        }
      },
      "source": [
        "# dropping CID X LOC_NUM X VENDOR column\n",
        "test3 = test2.drop(['CID X LOC_NUM X VENDOR'], axis =1)\n",
        "test3.head(2)"
      ],
      "execution_count": 72,
      "outputs": [
        {
          "output_type": "execute_result",
          "data": {
            "text/html": [
              "<div>\n",
              "<style scoped>\n",
              "    .dataframe tbody tr th:only-of-type {\n",
              "        vertical-align: middle;\n",
              "    }\n",
              "\n",
              "    .dataframe tbody tr th {\n",
              "        vertical-align: top;\n",
              "    }\n",
              "\n",
              "    .dataframe thead th {\n",
              "        text-align: right;\n",
              "    }\n",
              "</style>\n",
              "<table border=\"1\" class=\"dataframe\">\n",
              "  <thead>\n",
              "    <tr style=\"text-align: right;\">\n",
              "      <th></th>\n",
              "      <th>latitude_customer</th>\n",
              "      <th>longitude_customer</th>\n",
              "      <th>id</th>\n",
              "      <th>authentication_id</th>\n",
              "      <th>latitude_vendor</th>\n",
              "      <th>longitude_vendor</th>\n",
              "      <th>haversine_dist</th>\n",
              "    </tr>\n",
              "  </thead>\n",
              "  <tbody>\n",
              "    <tr>\n",
              "      <th>0</th>\n",
              "      <td>-96.44</td>\n",
              "      <td>-67.2</td>\n",
              "      <td>4</td>\n",
              "      <td>118597.0</td>\n",
              "      <td>-0.5884</td>\n",
              "      <td>0.7544</td>\n",
              "      <td>10210.781498</td>\n",
              "    </tr>\n",
              "    <tr>\n",
              "      <th>1</th>\n",
              "      <td>-96.44</td>\n",
              "      <td>-67.2</td>\n",
              "      <td>13</td>\n",
              "      <td>118608.0</td>\n",
              "      <td>-0.4717</td>\n",
              "      <td>0.7446</td>\n",
              "      <td>10223.800918</td>\n",
              "    </tr>\n",
              "  </tbody>\n",
              "</table>\n",
              "</div>"
            ],
            "text/plain": [
              "   latitude_customer  longitude_customer  ...  longitude_vendor  haversine_dist\n",
              "0             -96.44               -67.2  ...            0.7544    10210.781498\n",
              "1             -96.44               -67.2  ...            0.7446    10223.800918\n",
              "\n",
              "[2 rows x 7 columns]"
            ]
          },
          "metadata": {
            "tags": []
          },
          "execution_count": 72
        }
      ]
    },
    {
      "cell_type": "code",
      "metadata": {
        "id": "ADc0vtbvrgPP"
      },
      "source": [
        "# making predictions\n",
        "zindi_predictions = rf3.predict(test3)"
      ],
      "execution_count": 74,
      "outputs": []
    },
    {
      "cell_type": "code",
      "metadata": {
        "id": "IdH8UBFtstsi",
        "outputId": "227e479d-0e53-4e01-ca94-ed2ecf4ded2a",
        "colab": {
          "base_uri": "https://localhost:8080/",
          "height": 52
        }
      },
      "source": [
        "print(zindi_predictions.shape)\n",
        "zindi_predictions"
      ],
      "execution_count": 81,
      "outputs": [
        {
          "output_type": "stream",
          "text": [
            "(1631700,)\n"
          ],
          "name": "stdout"
        },
        {
          "output_type": "execute_result",
          "data": {
            "text/plain": [
              "array([0, 0, 0, ..., 0, 0, 0])"
            ]
          },
          "metadata": {
            "tags": []
          },
          "execution_count": 81
        }
      ]
    },
    {
      "cell_type": "code",
      "metadata": {
        "id": "4QK4XSkWt9zU",
        "outputId": "4feb1972-7836-4311-859d-c4f4d5641120",
        "colab": {
          "base_uri": "https://localhost:8080/",
          "height": 79
        }
      },
      "source": [
        "test2.head(1)"
      ],
      "execution_count": 82,
      "outputs": [
        {
          "output_type": "execute_result",
          "data": {
            "text/html": [
              "<div>\n",
              "<style scoped>\n",
              "    .dataframe tbody tr th:only-of-type {\n",
              "        vertical-align: middle;\n",
              "    }\n",
              "\n",
              "    .dataframe tbody tr th {\n",
              "        vertical-align: top;\n",
              "    }\n",
              "\n",
              "    .dataframe thead th {\n",
              "        text-align: right;\n",
              "    }\n",
              "</style>\n",
              "<table border=\"1\" class=\"dataframe\">\n",
              "  <thead>\n",
              "    <tr style=\"text-align: right;\">\n",
              "      <th></th>\n",
              "      <th>latitude_customer</th>\n",
              "      <th>longitude_customer</th>\n",
              "      <th>id</th>\n",
              "      <th>authentication_id</th>\n",
              "      <th>latitude_vendor</th>\n",
              "      <th>longitude_vendor</th>\n",
              "      <th>CID X LOC_NUM X VENDOR</th>\n",
              "      <th>haversine_dist</th>\n",
              "    </tr>\n",
              "  </thead>\n",
              "  <tbody>\n",
              "    <tr>\n",
              "      <th>0</th>\n",
              "      <td>-96.44</td>\n",
              "      <td>-67.2</td>\n",
              "      <td>4</td>\n",
              "      <td>118597.0</td>\n",
              "      <td>-0.5884</td>\n",
              "      <td>0.7544</td>\n",
              "      <td>ICE2DJP X 0 X 4</td>\n",
              "      <td>10210.781498</td>\n",
              "    </tr>\n",
              "  </tbody>\n",
              "</table>\n",
              "</div>"
            ],
            "text/plain": [
              "   latitude_customer  longitude_customer  ...  CID X LOC_NUM X VENDOR  haversine_dist\n",
              "0             -96.44               -67.2  ...         ICE2DJP X 0 X 4    10210.781498\n",
              "\n",
              "[1 rows x 8 columns]"
            ]
          },
          "metadata": {
            "tags": []
          },
          "execution_count": 82
        }
      ]
    },
    {
      "cell_type": "code",
      "metadata": {
        "id": "YaV-_qDHtieK",
        "outputId": "e0f8e6ad-420c-46dc-8dcb-3ce1d3c83d47",
        "colab": {
          "base_uri": "https://localhost:8080/",
          "height": 308
        }
      },
      "source": [
        "# appending predictions column to test2 dataset\n",
        "test2['predictions'] = zindi_predictions\n",
        "test2.head()"
      ],
      "execution_count": 84,
      "outputs": [
        {
          "output_type": "stream",
          "text": [
            "/usr/local/lib/python3.6/dist-packages/ipykernel_launcher.py:1: SettingWithCopyWarning: \n",
            "A value is trying to be set on a copy of a slice from a DataFrame.\n",
            "Try using .loc[row_indexer,col_indexer] = value instead\n",
            "\n",
            "See the caveats in the documentation: https://pandas.pydata.org/pandas-docs/stable/user_guide/indexing.html#returning-a-view-versus-a-copy\n",
            "  \"\"\"Entry point for launching an IPython kernel.\n"
          ],
          "name": "stderr"
        },
        {
          "output_type": "execute_result",
          "data": {
            "text/html": [
              "<div>\n",
              "<style scoped>\n",
              "    .dataframe tbody tr th:only-of-type {\n",
              "        vertical-align: middle;\n",
              "    }\n",
              "\n",
              "    .dataframe tbody tr th {\n",
              "        vertical-align: top;\n",
              "    }\n",
              "\n",
              "    .dataframe thead th {\n",
              "        text-align: right;\n",
              "    }\n",
              "</style>\n",
              "<table border=\"1\" class=\"dataframe\">\n",
              "  <thead>\n",
              "    <tr style=\"text-align: right;\">\n",
              "      <th></th>\n",
              "      <th>latitude_customer</th>\n",
              "      <th>longitude_customer</th>\n",
              "      <th>id</th>\n",
              "      <th>authentication_id</th>\n",
              "      <th>latitude_vendor</th>\n",
              "      <th>longitude_vendor</th>\n",
              "      <th>CID X LOC_NUM X VENDOR</th>\n",
              "      <th>haversine_dist</th>\n",
              "      <th>predictions</th>\n",
              "    </tr>\n",
              "  </thead>\n",
              "  <tbody>\n",
              "    <tr>\n",
              "      <th>0</th>\n",
              "      <td>-96.44</td>\n",
              "      <td>-67.2</td>\n",
              "      <td>4</td>\n",
              "      <td>118597.0</td>\n",
              "      <td>-0.5884</td>\n",
              "      <td>0.7544</td>\n",
              "      <td>ICE2DJP X 0 X 4</td>\n",
              "      <td>10210.781498</td>\n",
              "      <td>0</td>\n",
              "    </tr>\n",
              "    <tr>\n",
              "      <th>1</th>\n",
              "      <td>-96.44</td>\n",
              "      <td>-67.2</td>\n",
              "      <td>13</td>\n",
              "      <td>118608.0</td>\n",
              "      <td>-0.4717</td>\n",
              "      <td>0.7446</td>\n",
              "      <td>ICE2DJP X 0 X 13</td>\n",
              "      <td>10223.800918</td>\n",
              "      <td>0</td>\n",
              "    </tr>\n",
              "    <tr>\n",
              "      <th>2</th>\n",
              "      <td>-96.44</td>\n",
              "      <td>-67.2</td>\n",
              "      <td>20</td>\n",
              "      <td>118616.0</td>\n",
              "      <td>-0.4075</td>\n",
              "      <td>0.6436</td>\n",
              "      <td>ICE2DJP X 0 X 20</td>\n",
              "      <td>10232.068678</td>\n",
              "      <td>0</td>\n",
              "    </tr>\n",
              "    <tr>\n",
              "      <th>3</th>\n",
              "      <td>-96.44</td>\n",
              "      <td>-67.2</td>\n",
              "      <td>23</td>\n",
              "      <td>118619.0</td>\n",
              "      <td>-0.5854</td>\n",
              "      <td>0.7540</td>\n",
              "      <td>ICE2DJP X 0 X 23</td>\n",
              "      <td>10211.117900</td>\n",
              "      <td>0</td>\n",
              "    </tr>\n",
              "    <tr>\n",
              "      <th>4</th>\n",
              "      <td>-96.44</td>\n",
              "      <td>-67.2</td>\n",
              "      <td>28</td>\n",
              "      <td>118624.0</td>\n",
              "      <td>0.4807</td>\n",
              "      <td>0.5527</td>\n",
              "      <td>ICE2DJP X 0 X 28</td>\n",
              "      <td>10331.347778</td>\n",
              "      <td>0</td>\n",
              "    </tr>\n",
              "  </tbody>\n",
              "</table>\n",
              "</div>"
            ],
            "text/plain": [
              "   latitude_customer  longitude_customer  ...  haversine_dist  predictions\n",
              "0             -96.44               -67.2  ...    10210.781498            0\n",
              "1             -96.44               -67.2  ...    10223.800918            0\n",
              "2             -96.44               -67.2  ...    10232.068678            0\n",
              "3             -96.44               -67.2  ...    10211.117900            0\n",
              "4             -96.44               -67.2  ...    10331.347778            0\n",
              "\n",
              "[5 rows x 9 columns]"
            ]
          },
          "metadata": {
            "tags": []
          },
          "execution_count": 84
        }
      ]
    },
    {
      "cell_type": "code",
      "metadata": {
        "id": "Ta0DnxoVuSYm",
        "outputId": "b22b3eae-1522-43f6-9f07-750011e25bd7",
        "colab": {
          "base_uri": "https://localhost:8080/",
          "height": 203
        }
      },
      "source": [
        "submission_file = test2[['CID X LOC_NUM X VENDOR', 'predictions']]\n",
        "submission_file.head()"
      ],
      "execution_count": 85,
      "outputs": [
        {
          "output_type": "execute_result",
          "data": {
            "text/html": [
              "<div>\n",
              "<style scoped>\n",
              "    .dataframe tbody tr th:only-of-type {\n",
              "        vertical-align: middle;\n",
              "    }\n",
              "\n",
              "    .dataframe tbody tr th {\n",
              "        vertical-align: top;\n",
              "    }\n",
              "\n",
              "    .dataframe thead th {\n",
              "        text-align: right;\n",
              "    }\n",
              "</style>\n",
              "<table border=\"1\" class=\"dataframe\">\n",
              "  <thead>\n",
              "    <tr style=\"text-align: right;\">\n",
              "      <th></th>\n",
              "      <th>CID X LOC_NUM X VENDOR</th>\n",
              "      <th>predictions</th>\n",
              "    </tr>\n",
              "  </thead>\n",
              "  <tbody>\n",
              "    <tr>\n",
              "      <th>0</th>\n",
              "      <td>ICE2DJP X 0 X 4</td>\n",
              "      <td>0</td>\n",
              "    </tr>\n",
              "    <tr>\n",
              "      <th>1</th>\n",
              "      <td>ICE2DJP X 0 X 13</td>\n",
              "      <td>0</td>\n",
              "    </tr>\n",
              "    <tr>\n",
              "      <th>2</th>\n",
              "      <td>ICE2DJP X 0 X 20</td>\n",
              "      <td>0</td>\n",
              "    </tr>\n",
              "    <tr>\n",
              "      <th>3</th>\n",
              "      <td>ICE2DJP X 0 X 23</td>\n",
              "      <td>0</td>\n",
              "    </tr>\n",
              "    <tr>\n",
              "      <th>4</th>\n",
              "      <td>ICE2DJP X 0 X 28</td>\n",
              "      <td>0</td>\n",
              "    </tr>\n",
              "  </tbody>\n",
              "</table>\n",
              "</div>"
            ],
            "text/plain": [
              "  CID X LOC_NUM X VENDOR  predictions\n",
              "0        ICE2DJP X 0 X 4            0\n",
              "1       ICE2DJP X 0 X 13            0\n",
              "2       ICE2DJP X 0 X 20            0\n",
              "3       ICE2DJP X 0 X 23            0\n",
              "4       ICE2DJP X 0 X 28            0"
            ]
          },
          "metadata": {
            "tags": []
          },
          "execution_count": 85
        }
      ]
    },
    {
      "cell_type": "code",
      "metadata": {
        "id": "_bEmaqif74OR"
      },
      "source": [
        "submission_file.to_csv('/content/drive/My Drive/Akeed Datasets/SampleSubmission.csv', index =False)"
      ],
      "execution_count": 86,
      "outputs": []
    },
    {
      "cell_type": "markdown",
      "metadata": {
        "id": "DBtBtKdh3uf8"
      },
      "source": [
        "\n",
        "\n",
        "THE END FOR NOW!!!"
      ]
    }
  ]
}